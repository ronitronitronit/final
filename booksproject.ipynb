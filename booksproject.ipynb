{
 "cells": [
  {
   "cell_type": "code",
   "execution_count": null,
   "outputs": [],
   "source": [
    "import pandas as pd\n",
    "import nltk\n",
    "from nltk.tokenize import word_tokenize, sent_tokenize\n",
    "from nltk.corpus import stopwords\n",
    "from nltk.stem import WordNetLemmatizer\n",
    "from typing import Optional\n",
    "\n",
    "\"\"\"\n",
    "Loading the data\n",
    "\"\"\"\n",
    "pd.options.display.max_colwidth = 1500\n",
    "pd.options.display.max_rows = 1000\n",
    "\n",
    "df = pd.read_csv(r\"books_and_genres.csv\")\n",
    "\n",
    "# drop the extra index column\n",
    "df = df.drop(columns=df.columns[0])\n",
    "\n",
    "df.head()"
   ],
   "metadata": {
    "collapsed": false,
    "pycharm": {
     "name": "#%%\n"
    }
   }
  },
  {
   "cell_type": "code",
   "execution_count": null,
   "outputs": [],
   "source": [
    "\"\"\"\n",
    "Basic formatting\n",
    "\"\"\"\n",
    "# stringify all text\n",
    "df[\"text\"] = df[\"text\"].map(str)\n",
    "df = df.replace({r\"\\r\\n|\\r|\\n\": \" \"}, regex=True)\n",
    "\n",
    "df.head(5)"
   ],
   "metadata": {
    "collapsed": false,
    "pycharm": {
     "name": "#%%\n"
    }
   }
  },
  {
   "cell_type": "code",
   "execution_count": null,
   "outputs": [],
   "source": [
    "\"\"\"\n",
    "Methods that will be used in the next block to try to source a published date\n",
    "\"\"\"\n",
    "import re\n",
    "import roman\n",
    "from roman import InvalidRomanNumeralError\n",
    "\n",
    "# regex for finding Gregorian or Roman publish dates\n",
    "rn_year_regex = r\"\\b(.[M{0,4}(CM|CD|D?C{0,3})(XC|XL|L?X{0,3})(IX|IV|V?I{0,3}))]{3,})\\b\"\n",
    "modern_year_regex = r\"(\\b\\d{4}\\b)\"\n",
    "valid_year_regex = f\"{modern_year_regex}|{rn_year_regex}\"\n",
    "\n",
    "# methods for finding above regex matches in text\n",
    "find_year = re.compile(\"(\" + rn_year_regex + \"|\" + modern_year_regex + \")\")\n",
    "find_modern_year = re.compile(\"(\" + modern_year_regex + \")\")\n",
    "\n",
    "\n",
    "def is_right_era(int_date: int):\n",
    "    return 1000 < int_date < 1922\n",
    "\n",
    "\n",
    "def get_valid_date(date: str) -> int:\n",
    "    if not date.isnumeric():\n",
    "        return 0\n",
    "\n",
    "    int_date = int(date)\n",
    "\n",
    "    if is_right_era(int_date):\n",
    "        return int_date\n",
    "\n",
    "    return 0\n",
    "\n",
    "\n",
    "def convert_date(date: str) -> int:\n",
    "    if date == \"no date\":\n",
    "        return 0\n",
    "\n",
    "    valid_date = get_valid_date(date)\n",
    "    if valid_date:\n",
    "        return valid_date\n",
    "\n",
    "    # If the number cannot be found from the string, maybe it is a roman number\n",
    "    try:\n",
    "        number = roman.fromRoman(date.strip())\n",
    "    except (InvalidRomanNumeralError, TypeError, AttributeError) as e:\n",
    "        return 0\n",
    "\n",
    "    valid_date = get_valid_date(number)\n",
    "    return valid_date"
   ],
   "metadata": {
    "collapsed": false,
    "pycharm": {
     "name": "#%%\n"
    }
   }
  },
  {
   "cell_type": "code",
   "execution_count": null,
   "outputs": [],
   "source": [
    "\"\"\"\n",
    "Try to source a published date from the intro text of each book and write to new \"year\" column\n",
    "\"\"\"\n",
    "\n",
    "# try to find either a Roman or Gregorian year within the text of each book, and insert into the \"year\" column\n",
    "df[\"year\"] = df[\"text\"].map(lambda t: (find_year.search(t[0:1000]) or [\"no date\"])[0])\n",
    "\n",
    "# no date before\n",
    "print(len(df.loc[df[\"year\"] == \"no date\"]))\n",
    "df[\"year\"] = df[\"year\"].map(convert_date)\n",
    "\n",
    "# no date after :(\n",
    "print(len(df.loc[df[\"year\"] == 0]))"
   ],
   "metadata": {
    "collapsed": false,
    "pycharm": {
     "name": "#%%\n"
    }
   }
  },
  {
   "cell_type": "code",
   "execution_count": null,
   "outputs": [],
   "source": [
    "\"\"\"\n",
    "Methods that will be used in the next block to try to source published date from Google Books\n",
    "\"\"\"\n",
    "\n",
    "import requests\n",
    "import time\n",
    "\n",
    "# ADD YOUR GOOGLE BOOKS API CLIENT SECRET HERE IF YOU WOULD LIKE TO RUN THIS PORTION\n",
    "secret = \"\"\n",
    "\n",
    "\n",
    "def is_valid_date(date: str) -> bool:\n",
    "    if not date.isnumeric():\n",
    "        return False\n",
    "\n",
    "    return is_right_era(int(date))\n",
    "\n",
    "\n",
    "def find_publication_year_from_item(item: dict) -> Optional[int]:\n",
    "    published_date = item[\"volumeInfo\"].get(\"publishedDate\", \"\")\n",
    "\n",
    "    if published_date and is_valid_date(published_date):\n",
    "        return published_date\n",
    "\n",
    "    # if there is no valid publishedDate, search in the description text of the response\n",
    "    description = item[\"volumeInfo\"].get(\"description\", \"\")\n",
    "    possible_dates = [\n",
    "        date[0]\n",
    "        for date in find_modern_year.findall(description)\n",
    "        if is_valid_date(date[0])\n",
    "    ]\n",
    "    if possible_dates:\n",
    "        return min(possible_dates)\n",
    "\n",
    "\n",
    "# check the Google Books API by a book's title in order to get the publication year\n",
    "def get_publication_year(title: str) -> Optional[int]:\n",
    "    if not secret:\n",
    "        print(\n",
    "            'Please assign value to \"secret\" variable above with your Google Books API key'\n",
    "        )\n",
    "        return\n",
    "\n",
    "    # avoid per-minute rate limiting\n",
    "    time.sleep(0.05)\n",
    "    url = f\"https://www.googleapis.com/books/v1/volumes?q={title}&key={secret}\"\n",
    "    response = requests.get(url)\n",
    "\n",
    "    items = response.json().get(\"items\")\n",
    "    if not items:\n",
    "        print(\"No matches found for \", title, response.json())\n",
    "        return 0\n",
    "\n",
    "    possible_years = [\n",
    "        found\n",
    "        for item in items\n",
    "        if (found := find_publication_year_from_item(item)) is not None\n",
    "    ]\n",
    "\n",
    "    if possible_years:\n",
    "        year = min(possible_years)\n",
    "        print(f\"{title}: {year}\")\n",
    "        return year\n",
    "\n",
    "    print(\"could not find year for title \", title)\n",
    "    return 0"
   ],
   "metadata": {
    "collapsed": false,
    "pycharm": {
     "name": "#%%\n"
    }
   }
  },
  {
   "cell_type": "code",
   "execution_count": null,
   "outputs": [],
   "source": [
    "\"\"\"\n",
    "Loop over the rows missing a publication year and run the above methods to attempt to fill it.\n",
    "This needs to be done in batches because of rate limiting.\n",
    "\n",
    "CSV with saved results imported in file in leui of live fetching. See commented out block below\n",
    "if you would like to test it (you will need a Google Book API client key)\n",
    "\"\"\"\n",
    "\n",
    "# If you would like to test this out, uncomment the block below and use your own secret key in the block above\n",
    "# dfcopy = df.copy()[0:100]\n",
    "# dfcopy.loc[dfcopy['year'] == 0, 'year'] = dfcopy.loc[dfcopy['year'] == 0]['title'].apply(get_publication_year)\n",
    "\n",
    "# read from the already compiled set instead of fetching live from Google Books API\n",
    "dfFull = pd.read_csv(\"fullset.csv\")\n",
    "\n",
    "# Extra formatting!\n",
    "# Force the year into an int and the text into a string\n",
    "dfFull.year = dfFull.year.astype(\"int\")\n",
    "dfFull[\"text\"] = dfFull[\"text\"].astype(str)\n",
    "\n",
    "# Drop the \"genres\" column as we will not use it\n",
    "dfFull = dfFull.drop(\"genres\", axis=1)\n",
    "dfFull.head(3)"
   ],
   "metadata": {
    "collapsed": false,
    "pycharm": {
     "name": "#%%\n"
    }
   }
  },
  {
   "cell_type": "code",
   "execution_count": null,
   "outputs": [],
   "source": [
    "\"\"\"\n",
    "Helper method to determine whether a certain book has adequately long text\n",
    "\"\"\"\n",
    "MIN_FULL_TEXT = 15000\n",
    "\n",
    "\n",
    "def is_acceptable_length(text: str, length: int = MIN_FULL_TEXT):\n",
    "    if not isinstance(text, str) or len(text) < length:\n",
    "        return False\n",
    "\n",
    "    return True"
   ],
   "metadata": {
    "collapsed": false,
    "pycharm": {
     "name": "#%%\n"
    }
   }
  },
  {
   "cell_type": "code",
   "execution_count": null,
   "outputs": [],
   "source": [
    "print(\"Book count before removing undated and outliers: \", len(dfFull))\n",
    "\n",
    "print(\n",
    "    \"Number of books without dates to be removed: \", len(dfFull.loc[dfFull.year == 0])\n",
    ")\n",
    "dfFull = dfFull.drop(dfFull[dfFull.year == 0].index)\n",
    "\n",
    "# drop the books from before 1775 - not enough examples\n",
    "print(\n",
    "    \"Number of books from before 1775, to be removed: \",\n",
    "    len(dfFull.loc[dfFull.year < 1775]),\n",
    ")\n",
    "dfFull = dfFull.drop(dfFull[dfFull.year < 1775].index)\n",
    "\n",
    "# drop books after 1922 - these are errors\n",
    "print(\n",
    "    \"Number of books from after 1922, to be removed: \",\n",
    "    len(dfFull.loc[dfFull.year > 1922]),\n",
    ")\n",
    "dfFull = dfFull.drop(dfFull[dfFull.year > 1922].index)\n",
    "\n",
    "# drop any books without text or not enough text\n",
    "print(\n",
    "    \"Number of books with too short or absent text, to be removed: \",\n",
    "    len(dfFull[dfFull.text.apply(is_acceptable_length) == False]),\n",
    ")\n",
    "dfFull = dfFull.drop(dfFull[dfFull.text.apply(is_acceptable_length) == False].index)\n",
    "\n",
    "print(\"Dropping duplicates\")\n",
    "dfFull = dfFull.drop_duplicates(subset=\"title\", keep=\"first\")\n",
    "\n",
    "print(\"New book count: \", len(dfFull))\n",
    "\n",
    "dfFull.head()"
   ],
   "metadata": {
    "collapsed": false,
    "pycharm": {
     "name": "#%%\n"
    }
   }
  },
  {
   "cell_type": "markdown",
   "source": [
    "Histogram of the distribution of publication year. Data is heavily skewed towards the later years of the set. The first 75 years of the dataset contains only ~1/3 of the total amount of books, while the last 72 years of the date range of the set contains 2/3rds of the total books. A full 45% of the books are from 1900-1922."
   ],
   "metadata": {
    "collapsed": false,
    "pycharm": {
     "name": "#%% md\n"
    }
   }
  },
  {
   "cell_type": "code",
   "execution_count": null,
   "outputs": [],
   "source": [
    "import matplotlib.pyplot as plt\n",
    "\n",
    "# uncomment this statement to see the count for each year\n",
    "# print(dfFull['year'].value_counts(ascending=True).sort_index())\n",
    "print(\n",
    "    f\"Between 1775-1850 books: {round(len(dfFull.loc[dfFull.year < 1875]) / len(dfFull) * 100)}%\"\n",
    ")\n",
    "print(\n",
    "    f\"Between 1850-1900 books:{round(len(dfFull.loc[(dfFull.year >= 1875) & (dfFull.year < 1900)]) / len(dfFull) * 100)}%\"\n",
    ")\n",
    "print(\n",
    "    f\"Between 1900-1922 books: {round(len(dfFull.loc[(dfFull.year >= 1900) & (dfFull.year <= 1922)]) / len(dfFull) * 100)}%\"\n",
    ")\n",
    "\n",
    "dfFull.plot(kind=\"hist\", title=\"Publication Year\")\n",
    "plt.suptitle(\n",
    "    \"Distribution of books across year published\",\n",
    "    x=0.5,\n",
    "    y=1.05,\n",
    "    ha=\"center\",\n",
    "    fontsize=\"x-large\",\n",
    ")"
   ],
   "metadata": {
    "collapsed": false,
    "pycharm": {
     "name": "#%%\n"
    }
   }
  },
  {
   "cell_type": "code",
   "execution_count": null,
   "outputs": [],
   "source": [
    "\"\"\"\n",
    "Define testing and training books\n",
    "\"\"\"\n",
    "# testing books are every 5th book for each year according to the original dataset\n",
    "# or if there are fewer than 5 books, the first book.\n",
    "testing_books = []\n",
    "did_it = []\n",
    "\n",
    "for year in range(1775, 1923):\n",
    "    books_from_year = list(dfFull[dfFull.year == year].index)\n",
    "    if len(books_from_year) < 5:\n",
    "        testing_books.append(books_from_year[0])\n",
    "    testing_books.extend(books_from_year[::5])  # we want 20% testing dat\n",
    "\n",
    "\n",
    "def get_is_testing(row):\n",
    "    if row.name in testing_books:\n",
    "        did_it.append(row.name)\n",
    "        row[\"test\"] = True\n",
    "    else:\n",
    "        row[\"test\"] = False\n",
    "    return row\n",
    "\n",
    "\n",
    "dfFull = dfFull.apply(get_is_testing, axis=1)"
   ],
   "metadata": {
    "collapsed": false,
    "pycharm": {
     "name": "#%%\n"
    }
   }
  },
  {
   "cell_type": "markdown",
   "source": [
    "To have a more even distribution of the dataset, as well as to have more manageable data points that the text of an entire book, I create 200 data points for each year represented in the set. The 200 points are 5000 character portions of the books attributed to that year. For years with only a few books, the points from that year will have less variety, perhaps yielding worse results than the years with a variety of different books. I do this before tokenizing and other processing the text as the process will be less intense once the texts have been truncated."
   ],
   "metadata": {
    "collapsed": false,
    "pycharm": {
     "name": "#%% md\n"
    }
   }
  },
  {
   "cell_type": "code",
   "execution_count": null,
   "outputs": [],
   "source": [
    "\"\"\"\n",
    "Create new dataframe for final data. Each year will have 200 rows, each with a unique portion of text sourced\n",
    "from a book published in that year\n",
    "\"\"\"\n",
    "\n",
    "all_years = []\n",
    "PER_YEAR_COUNT = 200\n",
    "\n",
    "for year in range(1775, 1923):\n",
    "    years = [year] * PER_YEAR_COUNT\n",
    "    all_years.extend(years)\n",
    "\n",
    "print(len(all_years))\n",
    "dfPas = pd.DataFrame(columns=[\"title\", \"passage\", \"year\", \"test\"])\n",
    "dfPas[\"year\"] = all_years\n",
    "dfPas[\"index\"] = dfPas.index\n",
    "\n",
    "pd.concat([dfPas.head(2), dfPas.tail(2)])"
   ],
   "metadata": {
    "collapsed": false,
    "pycharm": {
     "name": "#%%\n"
    }
   }
  },
  {
   "cell_type": "code",
   "execution_count": null,
   "outputs": [],
   "source": [
    "import random\n",
    "import copy\n",
    "\n",
    "PASSAGE_LENGTH = 5000\n",
    "\n",
    "dfFullCopy = dfFull.copy()\n",
    "no_continue_list = []\n",
    "\n",
    "\n",
    "def get_full_text(row):\n",
    "    index = row[\"index\"]\n",
    "    index_for_year = index % PER_YEAR_COUNT\n",
    "\n",
    "    books_from_year = list(dfFullCopy[dfFullCopy.year == row[\"year\"]].index)\n",
    "\n",
    "    # we have exhausted all the text from the books from this year. There are a few \"bad\" years with only 4 books\n",
    "    if not len(books_from_year):\n",
    "        print(f\"THERE ARE NO BOOKS LEFT FOR {row.year}. NOT CONTINUING WITH THIS YEAR.\")\n",
    "        raise ValueError(\"Depleted books\")\n",
    "\n",
    "    index_in_book_list = index_for_year % len(books_from_year)\n",
    "    book_index = books_from_year[index_in_book_list]\n",
    "\n",
    "    book = dfFullCopy.loc[book_index]\n",
    "    is_test = book[\"test\"]\n",
    "    full_text = copy.copy(book[\"text\"])\n",
    "\n",
    "    return full_text, book_index, book[\"title\"], is_test\n",
    "\n",
    "\n",
    "def get_passage(row):\n",
    "    if row[\"year\"] in no_continue_list:\n",
    "        return\n",
    "\n",
    "    try:\n",
    "        full_text, book_index, book_title, is_test = get_full_text(row)\n",
    "    except ValueError:\n",
    "        no_continue_list.append(row[\"year\"])\n",
    "        return\n",
    "\n",
    "    # # testing books are every 5th book for each year according to the original dataset\n",
    "    # # or if there are fewer than 5 books, the first book.\n",
    "    # books_from_year_original = list(dfFull[dfFull.year == row['year']].index)\n",
    "    # testing_books = books_from_year_original[::5]\n",
    "    # row['test'] = book_index == 0 if len(books_from_year_original) < 5 else book_index in testing_books\n",
    "\n",
    "    # print(f'Creating excerpt for {row.year}: from {book_title}.')\n",
    "\n",
    "    max_start_point = len(full_text) - PASSAGE_LENGTH\n",
    "    start_point = random.randint(0, max_start_point)\n",
    "    end_point = start_point + PASSAGE_LENGTH\n",
    "    passage = full_text[start_point:end_point]\n",
    "\n",
    "    if not len(passage) == PASSAGE_LENGTH:\n",
    "        print(f\"SOMETHING WENT WRONG FOR BOOK {book_title}\")\n",
    "        return\n",
    "\n",
    "    # Remove the used text from the original dataframe if remaining text is less than the passage length, remove the book\n",
    "    # Otherwise remove the used text from the existing full text and replace the modified text in the original df\n",
    "    full_text_modified = full_text[:start_point] + full_text[end_point:]\n",
    "    if len(full_text_modified) < PASSAGE_LENGTH:\n",
    "        print(f\"dropping book: {book_title} at index {book_index} from year {row.year}\")\n",
    "        dfFullCopy.drop([book_index], inplace=True)\n",
    "    else:\n",
    "        dfFullCopy.at[book_index, \"text\"] = full_text_modified\n",
    "        new_text_length = len(dfFullCopy.loc[book_index][\"text\"])\n",
    "\n",
    "        if not new_text_length < len(full_text):\n",
    "            print(f\"SOMETHING WENT WRONG FOR BOOK {book_title}\")\n",
    "            return\n",
    "\n",
    "    row[\"passage\"] = passage\n",
    "    row[\"title\"] = book_title\n",
    "    row[\"test\"] = is_test\n",
    "    # print(f'Success! {len(row.passage)} char passage created for {book_title}.')\n",
    "\n",
    "    return row\n",
    "\n",
    "\n",
    "dfPas = dfPas.apply(get_passage, axis=1)\n",
    "pd.concat([dfPas.head(2), dfPas.tail(2)])"
   ],
   "metadata": {
    "collapsed": false,
    "pycharm": {
     "name": "#%%\n"
    }
   }
  },
  {
   "cell_type": "code",
   "execution_count": null,
   "outputs": [],
   "source": [
    "# histogram of datapoint distribution across years\n",
    "dfPas.hist(column=\"year\", bins=148)"
   ],
   "metadata": {
    "collapsed": false,
    "pycharm": {
     "name": "#%%\n"
    }
   }
  },
  {
   "cell_type": "code",
   "execution_count": null,
   "outputs": [],
   "source": [
    "\"\"\"\n",
    "Delete rows without passages (from depleted years)\n",
    "\"\"\"\n",
    "print(\"Count before removal \", dfPas.shape[0])\n",
    "dfPas = dfPas.drop(\n",
    "    dfPas[dfPas.passage.apply(is_acceptable_length, length=5000) == False].index\n",
    ")\n",
    "print(\"Count after removal \", dfPas.shape[0])"
   ],
   "metadata": {
    "collapsed": false,
    "pycharm": {
     "name": "#%%\n"
    }
   }
  },
  {
   "cell_type": "code",
   "execution_count": null,
   "outputs": [],
   "source": [
    "dfGrouped = (\n",
    "    dfPas.groupby([\"test\"])[\"test\"]\n",
    "    .count()\n",
    "    .reset_index(name=\"Count\")\n",
    "    .sort_values([\"Count\"], ascending=False)\n",
    ")\n",
    "\n",
    "print(dfGrouped.head())"
   ],
   "metadata": {
    "collapsed": false,
    "pycharm": {
     "name": "#%%\n"
    }
   }
  },
  {
   "cell_type": "code",
   "execution_count": null,
   "outputs": [],
   "source": [
    "from sklearn.utils import shuffle\n",
    "\n",
    "dfPas = dfPas.copy()\n",
    "dfPas = dfPas.drop(columns=[\"index\"])\n",
    "dfPas = shuffle(dfPas, random_state=1)\n",
    "dfPas = dfPas.reset_index(drop=True)\n",
    "dfPas.head()"
   ],
   "metadata": {
    "collapsed": false,
    "pycharm": {
     "name": "#%%\n"
    }
   }
  },
  {
   "cell_type": "code",
   "execution_count": null,
   "outputs": [],
   "source": [
    "dfTest = dfPas[dfPas[\"test\"] == True].drop(columns=[\"test\"]).reset_index(drop=True)\n",
    "dfTrain = dfPas[dfPas[\"test\"] == False].drop(columns=[\"test\"]).reset_index(drop=True)\n",
    "print(\"Training count: \", dfTrain.shape[0])\n",
    "print(\"Testing count: \", dfTest.shape[0])\n",
    "\n",
    "test_books = set(dfTest[\"title\"].values.tolist())\n",
    "train_books = set(dfTrain[\"title\"].values.tolist())\n",
    "books_in_common = [book for book in test_books if book in train_books]\n",
    "\n",
    "print(\"Number of books in commong between the sets: \", len(books_in_common))\n",
    "\n",
    "# dfTest.to_csv('testing.csv', index=False)\n",
    "# dfTrain.to_csv('training.csv', index=False)\n",
    "\n",
    "print(dfTest.head(2))"
   ],
   "metadata": {
    "collapsed": false,
    "pycharm": {
     "name": "#%%\n"
    }
   }
  },
  {
   "cell_type": "markdown",
   "source": [
    "All of the years are evenly distributed, except for three years that had very sparse data - less than four books each. 1781 only has 77 instances, 1791 only 87 instances, and 1784 has 166. This may yield less exact results for these years. In general, pre-1825 results will be worse than post-1825 as the amount of books available is relatively low for these years, meaning that there is less variety of examples of each year's text."
   ],
   "metadata": {
    "collapsed": false,
    "pycharm": {
     "name": "#%% md\n"
    }
   }
  },
  {
   "cell_type": "markdown",
   "source": [
    "We have manually separate the training and testing data in the methods above rather than using a library. This is because we do not want to train the model to fit a specific book, but rather a specific year, therefor we must ensure that each book is either exclusively in the testing set or in the training set. The split comes to roughly 27% testing and 63% training"
   ],
   "metadata": {
    "collapsed": false,
    "pycharm": {
     "name": "#%% md\n"
    }
   }
  },
  {
   "cell_type": "code",
   "execution_count": null,
   "outputs": [],
   "source": [
    "from keras.preprocessing.text import Tokenizer\n",
    "from keras.preprocessing.sequence import pad_sequences\n",
    "from sklearn import preprocessing\n",
    "\n",
    "MAX_WORDS = 10000\n",
    "\n",
    "x_test = dfTest[\"passage\"]\n",
    "y_test = dfTest[\"year\"]\n",
    "\n",
    "x_train = dfTrain[\"passage\"]\n",
    "y_train = dfTrain[\"year\"]\n",
    "\n",
    "# Create a tokenizer to feed to the embedding layer\n",
    "tokenizer = Tokenizer(num_words=MAX_WORDS)\n",
    "tokenizer.fit_on_texts(x_train)\n",
    "\n",
    "x_train = tokenizer.texts_to_sequences(x_train)\n",
    "x_test = tokenizer.texts_to_sequences(x_test)"
   ],
   "metadata": {
    "collapsed": false,
    "pycharm": {
     "name": "#%%\n"
    }
   }
  },
  {
   "cell_type": "code",
   "execution_count": null,
   "outputs": [],
   "source": [
    "import numpy as np\n",
    "\n",
    "MAX_LENGTH = 700\n",
    "\n",
    "vocab_size = len(tokenizer.word_index)\n",
    "print(vocab_size)\n",
    "\n",
    "# Padding to make all batches has equal length\n",
    "x_train = pad_sequences(x_train, padding=\"post\", maxlen=MAX_LENGTH)\n",
    "x_test = pad_sequences(x_test, padding=\"post\", maxlen=MAX_LENGTH)\n",
    "\n",
    "\n",
    "# Get word to vev from pretrained glove embeddings\n",
    "embeddings_dictionary = dict()\n",
    "glove_file = open(\"glove.6B/glove.6B.100d.txt\", encoding=\"utf8\")\n",
    "\n",
    "for line in glove_file:\n",
    "    values = line.split()\n",
    "    word = values[0]\n",
    "    vector_dimensions = np.asarray(values[1:], dtype=\"float32\")\n",
    "    embeddings_dictionary[word] = vector_dimensions\n",
    "\n",
    "glove_file.close()\n",
    "print(f\"Found {len(embeddings_dictionary)} word vectors\")"
   ],
   "metadata": {
    "collapsed": false,
    "pycharm": {
     "name": "#%%\n"
    }
   }
  },
  {
   "cell_type": "code",
   "execution_count": null,
   "outputs": [],
   "source": [
    "# If glove embeddings has an embedding for word in our tokenizer, add it to embedding matrix\n",
    "EMBEDDING_DIMENSION = 100\n",
    "embedding_matrix = np.zeros((vocab_size, EMBEDDING_DIMENSION))\n",
    "for word, index in tokenizer.word_index.items():\n",
    "    embedding_vector = embeddings_dictionary.get(word)\n",
    "    if embedding_vector is not None:\n",
    "        embedding_matrix[index - 1] = embedding_vector"
   ],
   "metadata": {
    "collapsed": false,
    "pycharm": {
     "name": "#%%\n"
    }
   }
  },
  {
   "cell_type": "code",
   "execution_count": null,
   "outputs": [],
   "source": [
    "\"\"\"\n",
    "Try as regression\n",
    "\"\"\"\n",
    "from keras.models import Sequential\n",
    "from keras.layers import Embedding, Flatten, Dense\n",
    "from tensorflow.keras.optimizers import Adam\n",
    "\n",
    "model = Sequential()\n",
    "model.add(Embedding(vocab_size, EMBEDDING_DIMENSION, input_length=MAX_LENGTH))\n",
    "model.add(Flatten())\n",
    "model.add(Dense(512, activation=\"relu\"))\n",
    "model.add(Dense(256, activation=\"relu\"))\n",
    "model.add(Dense(1))\n",
    "model.layers[0].set_weights([embedding_matrix])\n",
    "model.layers[0].trainable = False\n",
    "model.summary()\n",
    "\n",
    "model.compile(optimizer=Adam(learning_rate=0.1), loss=\"mean_squared_error\")\n",
    "\n",
    "history = model.fit(\n",
    "    x_train, y_train, epochs=10, batch_size=128, validation_data=(x_test, y_test)\n",
    ")"
   ],
   "metadata": {
    "collapsed": false,
    "pycharm": {
     "name": "#%%\n"
    }
   }
  },
  {
   "cell_type": "code",
   "execution_count": null,
   "outputs": [],
   "source": [
    "def get_predictions(current_model: tensorflow.keras.Model, test_x):\n",
    "    test_array = np.array(test_x)\n",
    "    return current_model.predict(test_array)\n",
    "\n",
    "\n",
    "def create_scatterplot(test_x, test_y, current_model: tensorflow.keras.Model, title: str, category=False):\n",
    "    predictions = get_predictions(current_model, test_x)\n",
    "    plt.rcParams[\"figure.figsize\"] = [8, 6]\n",
    "    plt.axis([1775, 1922, 1725, 2000])\n",
    "    plt.scatter(x=test_y, y=predictions, color=\"blue\", alpha=0.2, s=10)\n",
    "    plt.scatter(x=test_y, y=test_y, color=\"pink\", alpha=0.2, s=10)\n",
    "    plt.title(title)\n",
    "    plt.xlabel(\"Actual Years\")\n",
    "    plt.ylabel(\"Predicted Years\")\n",
    "    plt.show()\n",
    "\n",
    "\n",
    "create_scatterplot(x_test, y_test, model, \"Model 1: three dense layers, MSE\")"
   ],
   "metadata": {
    "collapsed": false,
    "pycharm": {
     "name": "#%%\n"
    }
   }
  },
  {
   "cell_type": "code",
   "execution_count": null,
   "outputs": [],
   "source": [
    "from sklearn import metrics\n",
    "\n",
    "\n",
    "def get_MSE_and_MAE(current_model: tensorflow.keras.Model, test_x):\n",
    "    predictions = get_predictions(current_model, test_x)\n",
    "    print(\n",
    "        \"Mean squared error: \", np.sqrt(metrics.mean_squared_error(y_test, predictions))\n",
    "    )\n",
    "    print(\n",
    "        \"Mean absolute error: \",\n",
    "        np.sqrt(metrics.mean_absolute_error(y_test, predictions)),\n",
    "    )\n",
    "\n",
    "\n",
    "get_MSE_and_MAE(model, x_test)"
   ],
   "metadata": {
    "collapsed": false,
    "pycharm": {
     "name": "#%%\n"
    }
   }
  },
  {
   "cell_type": "code",
   "execution_count": null,
   "outputs": [],
   "source": [
    "def plot_loss(score: float):\n",
    "    print(\"Test Score:\", score)\n",
    "\n",
    "    plt.plot(history.history[\"loss\"])\n",
    "    plt.plot(history.history[\"val_loss\"])\n",
    "\n",
    "    plt.title(\"model loss\")\n",
    "    plt.ylabel(\"loss\")\n",
    "    plt.xlabel(\"epoch\")\n",
    "    plt.legend([\"train\", \"test\"], loc=\"upper left\")\n",
    "    plt.show()\n",
    "\n",
    "\n",
    "plot_loss(model.evaluate(x_test, y_test, verbose=1))"
   ],
   "metadata": {
    "collapsed": false,
    "pycharm": {
     "name": "#%%\n"
    }
   }
  },
  {
   "cell_type": "code",
   "execution_count": null,
   "outputs": [],
   "source": [
    "\"\"\"\n",
    "Try same params but with mean absolute error loss function\n",
    "\"\"\"\n",
    "model2 = Sequential()\n",
    "model2.add(Embedding(vocab_size, EMBEDDING_DIMENSION, input_length=MAX_LENGTH))\n",
    "model2.add(Flatten())\n",
    "model2.add(Dense(512, activation=\"relu\"))\n",
    "model2.add(Dense(256, activation=\"relu\"))\n",
    "model2.add(Dense(1))\n",
    "model2.layers[0].set_weights([embedding_matrix])\n",
    "model2.layers[0].trainable = False\n",
    "model2.summary()\n",
    "\n",
    "model2.compile(optimizer=Adam(learning_rate=0.1), loss=\"mean_absolute_error\")\n",
    "\n",
    "history = model2.fit(\n",
    "    x_train, y_train, epochs=10, batch_size=128, validation_data=(x_test, y_test)\n",
    ")"
   ],
   "metadata": {
    "collapsed": false,
    "pycharm": {
     "name": "#%%\n"
    }
   }
  },
  {
   "cell_type": "code",
   "execution_count": null,
   "outputs": [],
   "source": [
    "create_scatterplot(x_test, y_test, model2, \"Model 2: three dense layers, MAE\")"
   ],
   "metadata": {
    "collapsed": false,
    "pycharm": {
     "name": "#%%\n"
    }
   }
  },
  {
   "cell_type": "code",
   "execution_count": null,
   "outputs": [],
   "source": [
    "get_MSE_and_MAE(model2, x_test)"
   ],
   "metadata": {
    "collapsed": false,
    "pycharm": {
     "name": "#%%\n"
    }
   }
  },
  {
   "cell_type": "code",
   "execution_count": null,
   "outputs": [],
   "source": [
    "from keras.layers import SimpleRNN\n",
    "\n",
    "\"\"\"\n",
    "Using SIMPLE RNN\n",
    "\"\"\"\n",
    "model3 = Sequential()\n",
    "model3.add(\n",
    "    Embedding(\n",
    "        vocab_size,\n",
    "        EMBEDDING_DIMENSION,\n",
    "        weights=[embedding_matrix],\n",
    "        input_length=MAX_LENGTH,\n",
    "    )\n",
    ")\n",
    "model3.add(SimpleRNN(units=32))\n",
    "model3.add(Dense(512, activation=\"relu\"))\n",
    "model3.add(Dense(256, activation=\"relu\"))\n",
    "model3.add(Dense(1))\n",
    "model3.layers[0].trainable = False\n",
    "model3.summary()\n",
    "model3.compile(loss=\"mean_absolute_error\", optimizer=\"adam\")\n",
    "\n",
    "history = model3.fit(\n",
    "    x_train, y_train, epochs=12, batch_size=64, validation_data=(x_test, y_test)\n",
    ")"
   ],
   "metadata": {
    "collapsed": false,
    "pycharm": {
     "name": "#%%\n"
    }
   }
  },
  {
   "cell_type": "code",
   "execution_count": null,
   "outputs": [],
   "source": [
    "create_scatterplot(x_test, y_test, model3, \"Model 2: Simple RNN\")"
   ],
   "metadata": {
    "collapsed": false,
    "pycharm": {
     "name": "#%%\n"
    }
   }
  },
  {
   "cell_type": "code",
   "execution_count": null,
   "outputs": [],
   "source": [
    "get_MSE_and_MAE(model3, x_test)"
   ],
   "metadata": {
    "collapsed": false,
    "pycharm": {
     "name": "#%%\n"
    }
   }
  },
  {
   "cell_type": "code",
   "execution_count": null,
   "outputs": [],
   "source": [
    "plot_loss(model3.evaluate(x_test, y_test, verbose=1))"
   ],
   "metadata": {
    "collapsed": false,
    "pycharm": {
     "name": "#%%\n"
    }
   }
  },
  {
   "cell_type": "code",
   "execution_count": null,
   "outputs": [],
   "source": [
    "from keras.layers import LSTM\n",
    "\n",
    "\"\"\"\n",
    "Using LSTM - (reads from both sides)\n",
    "\"\"\"\n",
    "model4 = Sequential()\n",
    "model4.add(\n",
    "    Embedding(\n",
    "        vocab_size,\n",
    "        EMBEDDING_DIMENSION,\n",
    "        weights=[embedding_matrix],\n",
    "        input_length=MAX_LENGTH,\n",
    "    )\n",
    ")\n",
    "model4.add(LSTM(units=32))\n",
    "model4.add(Dense(512, activation=\"relu\"))\n",
    "model4.add(Dense(256, activation=\"relu\"))\n",
    "model4.add(Dense(128, activation=\"relu\"))\n",
    "model4.add(Dense(1))\n",
    "model4.layers[0].trainable = False\n",
    "model4.summary()\n",
    "model4.compile(loss=\"mean_absolute_error\", optimizer=\"adam\")\n",
    "\n",
    "history = model4.fit(\n",
    "    x_train, y_train, epochs=10, batch_size=256, validation_data=(x_test, y_test)\n",
    ")"
   ],
   "metadata": {
    "collapsed": false,
    "pycharm": {
     "name": "#%%\n"
    }
   }
  },
  {
   "cell_type": "code",
   "execution_count": null,
   "outputs": [],
   "source": [
    "create_scatterplot(x_test, y_test, model4, \"Model 4\")"
   ],
   "metadata": {
    "collapsed": false,
    "pycharm": {
     "name": "#%%\n"
    }
   }
  },
  {
   "cell_type": "code",
   "execution_count": null,
   "outputs": [],
   "source": [
    "\"\"\"\n",
    "Separate into eras\n",
    "\"\"\"\n",
    "\n",
    "\n",
    "def write_era(row):\n",
    "    if row[\"year\"] < 1820:\n",
    "        row[\"era\"] = 1\n",
    "    elif 1820 <= row[\"year\"] < 1870:\n",
    "        row[\"era\"] = 2\n",
    "    elif row[\"year\"] >= 1870:\n",
    "        row[\"era\"] = 3\n",
    "    return row\n",
    "\n",
    "\n",
    "dfTest2 = dfTest.copy()\n",
    "dfTrain2 = dfTrain.copy()\n",
    "dfTest2 = dfTest2.apply(write_era, axis=1)\n",
    "dfTrain2 = dfTrain2.apply(write_era, axis=1)\n",
    "\n",
    "dfTest2.head(2)"
   ],
   "metadata": {
    "collapsed": false,
    "pycharm": {
     "name": "#%%\n"
    }
   }
  },
  {
   "cell_type": "code",
   "execution_count": null,
   "outputs": [],
   "source": [
    "dfTest2.hist()"
   ],
   "metadata": {
    "collapsed": false,
    "pycharm": {
     "name": "#%%\n"
    }
   }
  },
  {
   "cell_type": "code",
   "execution_count": null,
   "outputs": [],
   "source": [
    "x_test_era = dfTest2[\"passage\"]\n",
    "y_test_era = dfTest2[\"era\"]\n",
    "\n",
    "x_train_era = dfTrain2[\"passage\"]\n",
    "y_train_era = dfTrain2[\"era\"]\n",
    "\n",
    "# Get labels and make them suitable for training. [1,2,3] -> [0,1,2]\n",
    "label_encoder = preprocessing.LabelEncoder()\n",
    "y_test_era = label_encoder.fit_transform(y_test_era)\n",
    "y_train_era = label_encoder.fit_transform(y_train_era)\n",
    "\n",
    "# One hot encode the labels\n",
    "y_train_era = to_categorical(y_train_era)\n",
    "y_test_era = to_categorical(y_test_era)\n",
    "\n",
    "tokenizer = Tokenizer(num_words=MAX_WORDS)\n",
    "tokenizer.fit_on_texts(x_train_era)\n",
    "\n",
    "x_train_era = tokenizer.texts_to_sequences(x_train_era)\n",
    "x_test_era = tokenizer.texts_to_sequences(x_test_era)"
   ],
   "metadata": {
    "collapsed": false,
    "pycharm": {
     "name": "#%%\n"
    }
   }
  },
  {
   "cell_type": "code",
   "execution_count": null,
   "outputs": [],
   "source": [
    "import numpy as np\n",
    "\n",
    "vocab_size = len(tokenizer.word_index)\n",
    "\n",
    "x_train_era = pad_sequences(x_train_era, padding=\"post\", maxlen=MAX_LENGTH)\n",
    "x_test_era = pad_sequences(x_test_era, padding=\"post\", maxlen=MAX_LENGTH)\n",
    "\n",
    "embeddings_dictionary = dict()\n",
    "glove_file = open(\"glove.6B/glove.6B.100d.txt\", encoding=\"utf8\")\n",
    "\n",
    "for line in glove_file:\n",
    "    values = line.split()\n",
    "    word = values[0]\n",
    "    vector_dimensions = np.asarray(values[1:], dtype=\"float32\")\n",
    "    embeddings_dictionary[word] = vector_dimensions\n",
    "\n",
    "glove_file.close()\n",
    "print(f\"Found {len(embeddings_dictionary)} word vectors\")"
   ],
   "metadata": {
    "collapsed": false,
    "pycharm": {
     "name": "#%%\n"
    }
   }
  },
  {
   "cell_type": "code",
   "execution_count": null,
   "outputs": [],
   "source": [
    "EMBEDDING_DIMENSION = 100\n",
    "embedding_matrix = np.zeros((vocab_size, EMBEDDING_DIMENSION))\n",
    "for word, index in tokenizer.word_index.items():\n",
    "    embedding_vector = embeddings_dictionary.get(word)\n",
    "    if embedding_vector is not None:\n",
    "        embedding_matrix[index - 1] = embedding_vector"
   ],
   "metadata": {
    "collapsed": false,
    "pycharm": {
     "name": "#%%\n"
    }
   }
  },
  {
   "cell_type": "code",
   "execution_count": null,
   "outputs": [],
   "source": [
    "model5 = Sequential()\n",
    "model5.add(\n",
    "    Embedding(\n",
    "        vocab_size,\n",
    "        EMBEDDING_DIMENSION,\n",
    "        weights=[embedding_matrix],\n",
    "        input_length=MAX_LENGTH,\n",
    "    )\n",
    ")\n",
    "model5.add(LSTM(256, return_sequences=True))\n",
    "model5.add(LSTM(128, return_sequences=True))\n",
    "model5.add(LSTM(32))\n",
    "model5.add(Dense(3, activation=\"softmax\"))\n",
    "model5.layers[0].trainable = False\n",
    "model5.summary()\n",
    "\n",
    "model5.compile(\n",
    "    optimizer=Adam(learning_rate=0.01), metrics=[\"acc\"], loss=\"categorical_crossentropy\"\n",
    ")\n",
    "\n",
    "history = model2.fit(\n",
    "    x_train_era,\n",
    "    y_train_era,\n",
    "    batch_size=128,\n",
    "    epochs=10,\n",
    "    verbose=1,\n",
    "    validation_data=(x_test_era, y_test_era),\n",
    ")"
   ],
   "metadata": {
    "collapsed": false,
    "pycharm": {
     "name": "#%%\n"
    }
   }
  },
  {
   "cell_type": "code",
   "execution_count": null,
   "outputs": [],
   "source": [
    "def create_confusion_matrix(current_model):\n",
    "    y_prediction = current_model.predict(x_test_era)\n",
    "    rounded_y = np.argmax(y_test_era, axis=1)\n",
    "    rounded_predictions = np.argmax(y_prediction, axis=1)\n",
    "\n",
    "    # Create the confusion matrix\n",
    "    confusion_matrix = metrics.confusion_matrix(rounded_y, rounded_predictions)\n",
    "    cm_df = pd.DataFrame(\n",
    "        confusion_matrix,\n",
    "        index=[\"early\", \"mid\", \"late\"],\n",
    "        columns=[\"early\", \"mid\", \"late\"],\n",
    "    )\n",
    "\n",
    "    # Plotting the confusion matrix\n",
    "    plt.figure(figsize=(5, 4))\n",
    "    sns.heatmap(cm_df, fmt=\".2f\", annot=True)\n",
    "    plt.title(\"Confusion Matrix\")\n",
    "    plt.ylabel(\"Actal Values\")\n",
    "    plt.xlabel(\"Predicted Values\")\n",
    "    plt.show()\n",
    "\n",
    "\n",
    "create_confusion_matrix(model5)"
   ],
   "metadata": {
    "collapsed": false,
    "pycharm": {
     "name": "#%%\n"
    }
   }
  },
  {
   "cell_type": "code",
   "execution_count": null,
   "outputs": [],
   "source": [
    "model6 = Sequential()\n",
    "model6.add(\n",
    "    Embedding(\n",
    "        vocab_size,\n",
    "        EMBEDDING_DIMENSION,\n",
    "        weights=[embedding_matrix],\n",
    "        input_length=MAX_LENGTH,\n",
    "    )\n",
    ")\n",
    "model6.add(LSTM(32))\n",
    "model6.add(Dense(3, activation=\"softmax\"))\n",
    "model6.add(Flatten())\n",
    "model6.layers[0].trainable = False\n",
    "model6.summary()\n",
    "\n",
    "model6.compile(\n",
    "    optimizer=Adam(learning_rate=0.01), metrics=[\"acc\"], loss=\"categorical_crossentropy\"\n",
    ")\n",
    "\n",
    "history = model.fit(\n",
    "    x_train_era,\n",
    "    y_train_era,\n",
    "    batch_size=32,\n",
    "    epochs=10,\n",
    "    verbose=1,\n",
    "    validation_data=(x_test_era, y_test_era),\n",
    ")"
   ],
   "metadata": {
    "collapsed": false,
    "pycharm": {
     "name": "#%%\n"
    }
   }
  },
  {
   "cell_type": "code",
   "execution_count": null,
   "outputs": [],
   "source": [
    "create_confusion_matrix(model6)"
   ],
   "metadata": {
    "collapsed": false,
    "pycharm": {
     "name": "#%%\n"
    }
   }
  },
  {
   "cell_type": "code",
   "execution_count": null,
   "outputs": [],
   "source": [
    "model7 = Sequential()\n",
    "model7.add(\n",
    "    Embedding(\n",
    "        vocab_size,\n",
    "        EMBEDDING_DIMENSION,\n",
    "        weights=[embedding_matrix],\n",
    "        input_length=MAX_LENGTH,\n",
    "    )\n",
    ")\n",
    "model7.add(LSTM(256))\n",
    "model7.add(Dense(3, activation=\"softmax\"))\n",
    "model7.add(Flatten())\n",
    "model7.layers[0].trainable = False\n",
    "model7.summary()\n",
    "\n",
    "model7.compile(\n",
    "    optimizer=Adam(learning_rate=0.01), metrics=[\"acc\"], loss=\"categorical_crossentropy\"\n",
    ")\n",
    "\n",
    "history = model.fit(\n",
    "    x_train_era,\n",
    "    y_train_era,\n",
    "    batch_size=256,\n",
    "    epochs=10,\n",
    "    verbose=1,\n",
    "    validation_data=(x_test_era, y_test_era),\n",
    ")"
   ],
   "metadata": {
    "collapsed": false,
    "pycharm": {
     "name": "#%%\n"
    }
   }
  },
  {
   "cell_type": "code",
   "execution_count": null,
   "outputs": [],
   "source": [
    "create_confusion_matrix(model)"
   ],
   "metadata": {
    "collapsed": false,
    "pycharm": {
     "name": "#%%\n"
    }
   }
  },
  {
   "cell_type": "code",
   "execution_count": null,
   "outputs": [],
   "source": [
    "\"\"\"\n",
    "Try same params but with mean absolute error loss function\n",
    "\"\"\"\n",
    "model2 = Sequential()\n",
    "model2.add(Embedding(vocab_size, EMBEDDING_DIMENSION, input_length=MAX_LENGTH))\n",
    "model2.add(Flatten())\n",
    "model2.add(Dense(512, activation=\"relu\"))\n",
    "model2.add(Dense(256, activation=\"relu\"))\n",
    "model2.add(Dense(1))\n",
    "model2.layers[0].set_weights([embedding_matrix])\n",
    "model2.layers[0].trainable = False\n",
    "model2.summary()\n",
    "\n",
    "model2.compile(optimizer=Adam(learning_rate=0.1), loss=\"mean_absolute_error\")\n",
    "\n",
    "history = model2.fit(\n",
    "    x_train, y_train, epochs=10, batch_size=128, validation_data=(x_test, y_test)\n",
    ")"
   ],
   "metadata": {
    "collapsed": false,
    "pycharm": {
     "name": "#%%\n"
    }
   }
  },
  {
   "cell_type": "code",
   "execution_count": null,
   "outputs": [],
   "source": [
    "create_scatterplot(x_test, y_test, model2, \"Model 2: three dense layers, MAE\")"
   ],
   "metadata": {
    "collapsed": false,
    "pycharm": {
     "name": "#%%\n"
    }
   }
  },
  {
   "cell_type": "code",
   "execution_count": null,
   "outputs": [],
   "source": [
    "get_MSE_and_MAE(model2, x_test)"
   ],
   "metadata": {
    "collapsed": false,
    "pycharm": {
     "name": "#%%\n"
    }
   }
  },
  {
   "cell_type": "code",
   "execution_count": null,
   "outputs": [],
   "source": [
    "from keras.layers import SimpleRNN\n",
    "\n",
    "\"\"\"\n",
    "Using SIMPLE RNN\n",
    "\"\"\"\n",
    "model3 = Sequential()\n",
    "model3.add(\n",
    "    Embedding(\n",
    "        vocab_size,\n",
    "        EMBEDDING_DIMENSION,\n",
    "        weights=[embedding_matrix],\n",
    "        input_length=MAX_LENGTH,\n",
    "    )\n",
    ")\n",
    "model3.add(SimpleRNN(units=32))\n",
    "model3.add(Dense(512, activation=\"relu\"))\n",
    "model3.add(Dense(256, activation=\"relu\"))\n",
    "model3.add(Dense(1))\n",
    "model3.layers[0].trainable = False\n",
    "model3.summary()\n",
    "model3.compile(loss=\"mean_absolute_error\", optimizer=\"adam\")\n",
    "\n",
    "history = model3.fit(\n",
    "    x_train, y_train, epochs=12, batch_size=64, validation_data=(x_test, y_test)\n",
    ")"
   ],
   "metadata": {
    "collapsed": false,
    "pycharm": {
     "name": "#%%\n"
    }
   }
  },
  {
   "cell_type": "code",
   "execution_count": null,
   "outputs": [],
   "source": [
    "create_scatterplot(x_test, y_test, model3, \"Model 2: Simple RNN\")"
   ],
   "metadata": {
    "collapsed": false,
    "pycharm": {
     "name": "#%%\n"
    }
   }
  },
  {
   "cell_type": "code",
   "execution_count": null,
   "outputs": [],
   "source": [
    "get_MSE_and_MAE(model3, x_test)"
   ],
   "metadata": {
    "collapsed": false,
    "pycharm": {
     "name": "#%%\n"
    }
   }
  },
  {
   "cell_type": "code",
   "execution_count": null,
   "outputs": [],
   "source": [
    "plot_loss(model3.evaluate(x_test, y_test, verbose=1))"
   ],
   "metadata": {
    "collapsed": false,
    "pycharm": {
     "name": "#%%\n"
    }
   }
  },
  {
   "cell_type": "code",
   "execution_count": null,
   "outputs": [],
   "source": [
    "from keras.layers import LSTM\n",
    "\n",
    "\"\"\"\n",
    "Using LSTM - (reads from both sides)\n",
    "\"\"\"\n",
    "model4 = Sequential()\n",
    "model4.add(\n",
    "    Embedding(\n",
    "        vocab_size,\n",
    "        EMBEDDING_DIMENSION,\n",
    "        weights=[embedding_matrix],\n",
    "        input_length=MAX_LENGTH,\n",
    "    )\n",
    ")\n",
    "model4.add(LSTM(units=32))\n",
    "model4.add(Dense(512, activation=\"relu\"))\n",
    "model4.add(Dense(256, activation=\"relu\"))\n",
    "model4.add(Dense(128, activation=\"relu\"))\n",
    "model4.add(Dense(1))\n",
    "model4.layers[0].trainable = False\n",
    "model4.summary()\n",
    "model4.compile(loss=\"mean_absolute_error\", optimizer=\"adam\")\n",
    "\n",
    "history = model4.fit(\n",
    "    x_train, y_train, epochs=10, batch_size=256, validation_data=(x_test, y_test)\n",
    ")"
   ],
   "metadata": {
    "collapsed": false,
    "pycharm": {
     "name": "#%%\n"
    }
   }
  },
  {
   "cell_type": "code",
   "execution_count": null,
   "outputs": [],
   "source": [
    "create_scatterplot(x_test, y_test, model4, \"Model 4\")"
   ],
   "metadata": {
    "collapsed": false,
    "pycharm": {
     "name": "#%%\n"
    }
   }
  },
  {
   "cell_type": "code",
   "execution_count": null,
   "outputs": [],
   "source": [
    "\"\"\"\n",
    "Separate into eras\n",
    "\"\"\"\n",
    "\n",
    "\n",
    "def write_era(row):\n",
    "    if row[\"year\"] < 1820:\n",
    "        row[\"era\"] = 1\n",
    "    elif row[\"year\"] >= 1820 and row[\"year\"] < 1870:\n",
    "        row[\"era\"] = 2\n",
    "    elif row[\"year\"] >= 1870:\n",
    "        row[\"era\"] = 3\n",
    "    return row\n",
    "\n",
    "\n",
    "dfTest2 = dfTest.copy()\n",
    "dfTrain2 = dfTrain.copy()\n",
    "dfTest2 = dfTest2.apply(write_era, axis=1)\n",
    "dfTrain2 = dfTrain2.apply(write_era, axis=1)\n",
    "\n",
    "dfTest2.head(2)"
   ],
   "metadata": {
    "collapsed": false,
    "pycharm": {
     "name": "#%%\n"
    }
   }
  },
  {
   "cell_type": "code",
   "execution_count": null,
   "outputs": [],
   "source": [
    "dfTest2.hist()"
   ],
   "metadata": {
    "collapsed": false,
    "pycharm": {
     "name": "#%%\n"
    }
   }
  },
  {
   "cell_type": "code",
   "execution_count": null,
   "outputs": [],
   "source": [
    "x_test_era = dfTest2[\"passage\"]\n",
    "y_test_era = dfTest2[\"era\"]\n",
    "\n",
    "x_train_era = dfTrain2[\"passage\"]\n",
    "y_train_era = dfTrain2[\"era\"]\n",
    "\n",
    "label_encoder = preprocessing.LabelEncoder()\n",
    "y_test_era = label_encoder.fit_transform(y_test_era)\n",
    "y_train_era = label_encoder.fit_transform(y_train_era)\n",
    "\n",
    "y_train_era = to_categorical(y_train_era)\n",
    "y_test_era = to_categorical(y_test_era)\n",
    "\n",
    "tokenizer = Tokenizer(num_words=MAX_WORDS)\n",
    "tokenizer.fit_on_texts(x_train_era)\n",
    "\n",
    "x_train_era = tokenizer.texts_to_sequences(x_train_era)\n",
    "x_test_era = tokenizer.texts_to_sequences(x_test_era)"
   ],
   "metadata": {
    "collapsed": false,
    "pycharm": {
     "name": "#%%\n"
    }
   }
  },
  {
   "cell_type": "code",
   "execution_count": null,
   "outputs": [],
   "source": [
    "import numpy as np\n",
    "\n",
    "vocab_size = len(tokenizer.word_index)\n",
    "\n",
    "x_train_era = pad_sequences(x_train_era, padding=\"post\", maxlen=MAX_LENGTH)\n",
    "x_test_era = pad_sequences(x_test_era, padding=\"post\", maxlen=MAX_LENGTH)\n",
    "\n",
    "embeddings_dictionary = dict()\n",
    "glove_file = open(\"glove.6B/glove.6B.100d.txt\", encoding=\"utf8\")\n",
    "\n",
    "for line in glove_file:\n",
    "    values = line.split()\n",
    "    word = values[0]\n",
    "    vector_dimensions = np.asarray(values[1:], dtype=\"float32\")\n",
    "    embeddings_dictionary[word] = vector_dimensions\n",
    "\n",
    "glove_file.close()\n",
    "print(f\"Found {len(embeddings_dictionary)} word vectors\")"
   ],
   "metadata": {
    "collapsed": false,
    "pycharm": {
     "name": "#%%\n"
    }
   }
  },
  {
   "cell_type": "code",
   "execution_count": null,
   "outputs": [],
   "source": [
    "EMBEDDING_DIMENSION = 100\n",
    "embedding_matrix = np.zeros((vocab_size, EMBEDDING_DIMENSION))\n",
    "for word, index in tokenizer.word_index.items():\n",
    "    embedding_vector = embeddings_dictionary.get(word)\n",
    "    if embedding_vector is not None:\n",
    "        embedding_matrix[index - 1] = embedding_vector"
   ],
   "metadata": {
    "collapsed": false,
    "pycharm": {
     "name": "#%%\n"
    }
   }
  },
  {
   "cell_type": "code",
   "execution_count": null,
   "outputs": [],
   "source": [
    "model5 = Sequential()\n",
    "model5.add(\n",
    "    Embedding(\n",
    "        vocab_size,\n",
    "        EMBEDDING_DIMENSION,\n",
    "        weights=[embedding_matrix],\n",
    "        input_length=MAX_LENGTH,\n",
    "    )\n",
    ")\n",
    "model5.add(LSTM(256, return_sequences=True))\n",
    "model5.add(LSTM(128, return_sequences=True))\n",
    "model5.add(LSTM(32))\n",
    "model5.add(Dense(3, activation=\"softmax\"))\n",
    "model5.layers[0].trainable = False\n",
    "model5.summary()\n",
    "\n",
    "model5.compile(\n",
    "    optimizer=Adam(learning_rate=0.01), metrics=[\"acc\"], loss=\"categorical_crossentropy\"\n",
    ")\n",
    "\n",
    "history = model2.fit(\n",
    "    x_train_era,\n",
    "    y_train_era,\n",
    "    batch_size=128,\n",
    "    epochs=10,\n",
    "    verbose=1,\n",
    "    validation_data=(x_test_era, y_test_era),\n",
    ")"
   ],
   "metadata": {
    "collapsed": false,
    "pycharm": {
     "name": "#%%\n"
    }
   }
  },
  {
   "cell_type": "code",
   "execution_count": null,
   "outputs": [],
   "source": [
    "from sklearn.metrics import confusion_matrix\n",
    "import seaborn as sns\n",
    "\n",
    "\n",
    "def create_confusion_matrix(current_model):\n",
    "    y_prediction = current_model.predict(x_test_era)\n",
    "    rounded_y = np.argmax(y_test_era, axis=1)\n",
    "    rounded_predictions = np.argmax(y_prediction, axis=1)\n",
    "\n",
    "    # Create the confusion matrix\n",
    "    confusion_matrix = metrics.confusion_matrix(rounded_y, rounded_predictions)\n",
    "    cm_df = pd.DataFrame(\n",
    "        confusion_matrix,\n",
    "        index=[\"early\", \"mid\", \"late\"],\n",
    "        columns=[\"early\", \"mid\", \"late\"],\n",
    "    )\n",
    "\n",
    "    # Plotting the confusion matrix\n",
    "    plt.figure(figsize=(5, 4))\n",
    "    sns.heatmap(cm_df, fmt=\".2f\", annot=True)\n",
    "    plt.title(\"Confusion Matrix\")\n",
    "    plt.ylabel(\"Actal Values\")\n",
    "    plt.xlabel(\"Predicted Values\")\n",
    "    plt.show()\n",
    "\n",
    "\n",
    "create_confusion_matrix(model5)"
   ],
   "metadata": {
    "collapsed": false,
    "pycharm": {
     "name": "#%%\n"
    }
   }
  },
  {
   "cell_type": "code",
   "execution_count": null,
   "outputs": [],
   "source": [
    "model6 = Sequential()\n",
    "model6.add(\n",
    "    Embedding(\n",
    "        vocab_size,\n",
    "        EMBEDDING_DIMENSION,\n",
    "        weights=[embedding_matrix],\n",
    "        input_length=MAX_LENGTH,\n",
    "    )\n",
    ")\n",
    "model6.add(LSTM(32))\n",
    "model6.add(Dense(3, activation=\"softmax\"))\n",
    "model6.add(Flatten())\n",
    "model6.layers[0].trainable = False\n",
    "model6.summary()\n",
    "\n",
    "model6.compile(\n",
    "    optimizer=Adam(learning_rate=0.01), metrics=[\"acc\"], loss=\"categorical_crossentropy\"\n",
    ")\n",
    "\n",
    "history = model.fit(\n",
    "    x_train_era,\n",
    "    y_train_era,\n",
    "    batch_size=32,\n",
    "    epochs=10,\n",
    "    verbose=1,\n",
    "    validation_data=(x_test_era, y_test_era),\n",
    ")"
   ],
   "metadata": {
    "collapsed": false,
    "pycharm": {
     "name": "#%%\n"
    }
   }
  },
  {
   "cell_type": "code",
   "execution_count": null,
   "outputs": [],
   "source": [
    "create_confusion_matrix(model6)"
   ],
   "metadata": {
    "collapsed": false,
    "pycharm": {
     "name": "#%%\n"
    }
   }
  },
  {
   "cell_type": "code",
   "execution_count": null,
   "outputs": [],
   "source": [
    "model7 = Sequential()\n",
    "model7.add(\n",
    "    Embedding(\n",
    "        vocab_size,\n",
    "        EMBEDDING_DIMENSION,\n",
    "        weights=[embedding_matrix],\n",
    "        input_length=MAX_LENGTH,\n",
    "    )\n",
    ")\n",
    "model7.add(LSTM(256))\n",
    "model7.add(Dense(3, activation=\"softmax\"))\n",
    "model7.add(Flatten())\n",
    "model7.layers[0].trainable = False\n",
    "model7.summary()\n",
    "\n",
    "model7.compile(\n",
    "    optimizer=Adam(learning_rate=0.01), metrics=[\"acc\"], loss=\"categorical_crossentropy\"\n",
    ")\n",
    "\n",
    "history = model.fit(\n",
    "    x_train_era,\n",
    "    y_train_era,\n",
    "    batch_size=256,\n",
    "    epochs=10,\n",
    "    verbose=1,\n",
    "    validation_data=(x_test_era, y_test_era),\n",
    ")"
   ],
   "metadata": {
    "collapsed": false,
    "pycharm": {
     "name": "#%%\n"
    }
   }
  },
  {
   "cell_type": "code",
   "execution_count": null,
   "outputs": [],
   "source": [
    "create_confusion_matrix(model)"
   ],
   "metadata": {
    "collapsed": false,
    "pycharm": {
     "name": "#%%\n"
    }
   }
  },
  {
   "cell_type": "code",
   "execution_count": 103,
   "id": "fad5bf68-e2de-4ac2-8394-e8a6227a4004",
   "metadata": {},
   "outputs": [
    {
     "name": "stdout",
     "output_type": "stream",
     "text": [
      "Mean squared error:  73.50422415554384\n",
      "Mean absolute error:  7.620125635573291\n"
     ]
    }
   ],
   "source": [
    "get_MSE_and_MAE(model2, x_test)"
   ]
  },
  {
   "cell_type": "code",
   "execution_count": 122,
   "id": "99e7d6f3-0b6e-48ba-afc0-ce5da9de4b7a",
   "metadata": {},
   "outputs": [
    {
     "name": "stdout",
     "output_type": "stream",
     "text": [
      "Model: \"sequential_8\"\n",
      "_________________________________________________________________\n",
      " Layer (type)                Output Shape              Param #   \n",
      "=================================================================\n",
      " embedding_8 (Embedding)     (None, 700, 100)          41553000  \n",
      "                                                                 \n",
      " simple_rnn_1 (SimpleRNN)    (None, 32)                4256      \n",
      "                                                                 \n",
      " dense_24 (Dense)            (None, 512)               16896     \n",
      "                                                                 \n",
      " dense_25 (Dense)            (None, 256)               131328    \n",
      "                                                                 \n",
      " dense_26 (Dense)            (None, 1)                 257       \n",
      "                                                                 \n",
      "=================================================================\n",
      "Total params: 41,705,737\n",
      "Trainable params: 152,737\n",
      "Non-trainable params: 41,553,000\n",
      "_________________________________________________________________\n",
      "Epoch 1/12\n",
      "356/356 [==============================] - 25s 68ms/step - loss: 291.7318 - val_loss: 37.4650\n",
      "Epoch 2/12\n",
      "356/356 [==============================] - 25s 69ms/step - loss: 37.2545 - val_loss: 37.2838\n",
      "Epoch 3/12\n",
      "356/356 [==============================] - 25s 69ms/step - loss: 37.3910 - val_loss: 40.7790\n",
      "Epoch 4/12\n",
      "356/356 [==============================] - 25s 70ms/step - loss: 37.5326 - val_loss: 38.6899\n",
      "Epoch 5/12\n",
      "356/356 [==============================] - 25s 70ms/step - loss: 37.4264 - val_loss: 44.0795\n",
      "Epoch 6/12\n",
      "356/356 [==============================] - 25s 71ms/step - loss: 37.3711 - val_loss: 38.3319\n",
      "Epoch 7/12\n",
      "356/356 [==============================] - 25s 71ms/step - loss: 37.8904 - val_loss: 38.9741\n",
      "Epoch 8/12\n",
      "356/356 [==============================] - 25s 70ms/step - loss: 36.8510 - val_loss: 37.9694\n",
      "Epoch 9/12\n",
      "356/356 [==============================] - 25s 70ms/step - loss: 37.4612 - val_loss: 37.2761\n",
      "Epoch 10/12\n",
      "356/356 [==============================] - 25s 71ms/step - loss: 37.3169 - val_loss: 38.7243\n",
      "Epoch 11/12\n",
      "356/356 [==============================] - 25s 69ms/step - loss: 37.3276 - val_loss: 39.4935\n",
      "Epoch 12/12\n",
      "356/356 [==============================] - 25s 69ms/step - loss: 37.3873 - val_loss: 39.1814\n"
     ]
    }
   ],
   "source": [
    "from keras.layers import SimpleRNN\n",
    "\n",
    "\"\"\"\n",
    "Using SIMPLE RNN\n",
    "\"\"\"\n",
    "model3 = Sequential()\n",
    "model3.add(\n",
    "    Embedding(\n",
    "        vocab_size,\n",
    "        EMBEDDING_DIMENSION,\n",
    "        weights=[embedding_matrix],\n",
    "        input_length=MAX_LENGTH,\n",
    "    )\n",
    ")\n",
    "model3.add(SimpleRNN(units=32))\n",
    "model3.add(Dense(512, activation=\"relu\"))\n",
    "model3.add(Dense(256, activation=\"relu\"))\n",
    "model3.add(Dense(1))\n",
    "model3.layers[0].trainable = False\n",
    "model3.summary()\n",
    "model3.compile(loss=\"mean_absolute_error\", optimizer=\"adam\")\n",
    "\n",
    "history = model3.fit(\n",
    "    x_train, y_train, epochs=12, batch_size=64, validation_data=(x_test, y_test)\n",
    ")"
   ]
  },
  {
   "cell_type": "code",
   "execution_count": 123,
   "id": "0d9e63b1-2367-46f2-975b-5227be9d7d44",
   "metadata": {},
   "outputs": [
    {
     "data": {
      "image/png": "[encoded data removed]",
      "text/plain": [
       "<Figure size 576x432 with 1 Axes>"
      ]
     },
     "metadata": {
      "needs_background": "light"
     },
     "output_type": "display_data"
    }
   ],
   "source": [
    "create_scatterplot(x_test, y_test, model3, \"Model 2: Simple RNN\")"
   ]
  },
  {
   "cell_type": "code",
   "execution_count": 124,
   "id": "f76e42a5-d793-43e1-afa7-37a3acb5f39c",
   "metadata": {},
   "outputs": [
    {
     "name": "stdout",
     "output_type": "stream",
     "text": [
      "Mean squared error:  45.86673616720356\n",
      "Mean absolute error:  6.259506012182008\n"
     ]
    }
   ],
   "source": [
    "get_MSE_and_MAE(model3, x_test)"
   ]
  },
  {
   "cell_type": "code",
   "execution_count": 125,
   "id": "21f4d46a-831c-44d3-aecf-b5b9f4663be4",
   "metadata": {
    "tags": []
   },
   "outputs": [
    {
     "name": "stdout",
     "output_type": "stream",
     "text": [
      "205/205 [==============================] - 3s 14ms/step - loss: 39.1814\n",
      "Test Score: 39.18141555786133\n"
     ]
    },
    {
     "data": {
      "image/png": "[encoded data removed]",
      "text/plain": [
       "<Figure size 576x432 with 1 Axes>"
      ]
     },
     "metadata": {
      "needs_background": "light"
     },
     "output_type": "display_data"
    }
   ],
   "source": [
    "plot_loss(model3.evaluate(x_test, y_test, verbose=1))"
   ]
  },
  {
   "cell_type": "code",
   "execution_count": 142,
   "id": "ef875b1e-fe18-4ea2-8573-0b59db3ff330",
   "metadata": {
    "tags": []
   },
   "outputs": [
    {
     "name": "stdout",
     "output_type": "stream",
     "text": [
      "Model: \"sequential_13\"\n",
      "_________________________________________________________________\n",
      " Layer (type)                Output Shape              Param #   \n",
      "=================================================================\n",
      " embedding_13 (Embedding)    (None, 700, 100)          41553000  \n",
      "                                                                 \n",
      " lstm_4 (LSTM)               (None, 32)                17024     \n",
      "                                                                 \n",
      " dense_43 (Dense)            (None, 512)               16896     \n",
      "                                                                 \n",
      " dense_44 (Dense)            (None, 256)               131328    \n",
      "                                                                 \n",
      " dense_45 (Dense)            (None, 128)               32896     \n",
      "                                                                 \n",
      " dense_46 (Dense)            (None, 1)                 129       \n",
      "                                                                 \n",
      "=================================================================\n",
      "Total params: 41,751,273\n",
      "Trainable params: 198,273\n",
      "Non-trainable params: 41,553,000\n",
      "_________________________________________________________________\n",
      "Epoch 1/10\n",
      "89/89 [==============================] - 39s 430ms/step - loss: 827.1696 - val_loss: 57.7718\n",
      "Epoch 2/10\n",
      "89/89 [==============================] - 38s 431ms/step - loss: 45.0293 - val_loss: 40.4625\n",
      "Epoch 3/10\n",
      "89/89 [==============================] - 38s 432ms/step - loss: 38.4961 - val_loss: 38.3375\n",
      "Epoch 4/10\n",
      "89/89 [==============================] - 38s 431ms/step - loss: 37.4530 - val_loss: 38.2159\n",
      "Epoch 5/10\n",
      "89/89 [==============================] - 38s 430ms/step - loss: 37.3206 - val_loss: 38.5639\n",
      "Epoch 6/10\n",
      "89/89 [==============================] - 39s 440ms/step - loss: 37.5902 - val_loss: 37.7579\n",
      "Epoch 7/10\n",
      "89/89 [==============================] - 40s 446ms/step - loss: 37.1812 - val_loss: 39.0280\n",
      "Epoch 8/10\n",
      "89/89 [==============================] - 37s 420ms/step - loss: 37.2116 - val_loss: 37.8191\n",
      "Epoch 9/10\n",
      "89/89 [==============================] - 38s 425ms/step - loss: 37.0263 - val_loss: 38.1043\n",
      "Epoch 10/10\n",
      "89/89 [==============================] - 38s 422ms/step - loss: 37.4844 - val_loss: 37.7823\n"
     ]
    }
   ],
   "source": [
    "from keras.layers import LSTM\n",
    "\n",
    "\"\"\"\n",
    "Using LSTM - (reads from both sides)\n",
    "\"\"\"\n",
    "model4 = Sequential()\n",
    "model4.add(\n",
    "    Embedding(\n",
    "        vocab_size,\n",
    "        EMBEDDING_DIMENSION,\n",
    "        weights=[embedding_matrix],\n",
    "        input_length=MAX_LENGTH,\n",
    "    )\n",
    ")\n",
    "model4.add(LSTM(units=32))\n",
    "model4.add(Dense(512, activation=\"relu\"))\n",
    "model4.add(Dense(256, activation=\"relu\"))\n",
    "model4.add(Dense(128, activation=\"relu\"))\n",
    "model4.add(Dense(1))\n",
    "model4.layers[0].trainable = False\n",
    "model4.summary()\n",
    "model4.compile(loss=\"mean_absolute_error\", optimizer=\"adam\")\n",
    "\n",
    "history = model4.fit(\n",
    "    x_train, y_train, epochs=10, batch_size=256, validation_data=(x_test, y_test)\n",
    ")"
   ]
  },
  {
   "cell_type": "code",
   "execution_count": 143,
   "id": "6e4fc0a6-71d6-4799-ad70-50f74e7ce5d7",
   "metadata": {},
   "outputs": [
    {
     "data": {
      "image/png": "[encoded data removed]",
      "text/plain": [
       "<Figure size 576x432 with 1 Axes>"
      ]
     },
     "metadata": {
      "needs_background": "light"
     },
     "output_type": "display_data"
    }
   ],
   "source": [
    "create_scatterplot(x_test, y_test, model4, \"Model 4\")"
   ]
  },
  {
   "cell_type": "code",
   "execution_count": 393,
   "id": "20ddb98b-d29a-4046-9d22-917ed4c4e031",
   "metadata": {},
   "outputs": [
    {
     "data": {
      "text/html": [
       "<div>\n",
       "<style scoped>\n",
       "    .dataframe tbody tr th:only-of-type {\n",
       "        vertical-align: middle;\n",
       "    }\n",
       "\n",
       "    .dataframe tbody tr th {\n",
       "        vertical-align: top;\n",
       "    }\n",
       "\n",
       "    .dataframe thead th {\n",
       "        text-align: right;\n",
       "    }\n",
       "</style>\n",
       "<table border=\"1\" class=\"dataframe\">\n",
       "  <thead>\n",
       "    <tr style=\"text-align: right;\">\n",
       "      <th></th>\n",
       "      <th>title</th>\n",
       "      <th>passage</th>\n",
       "      <th>year</th>\n",
       "      <th>era</th>\n",
       "    </tr>\n",
       "  </thead>\n",
       "  <tbody>\n",
       "    <tr>\n",
       "      <th>0</th>\n",
       "      <td>on the origin of species</td>\n",
       "      <td>hypothesis; or rather I ought to say we shall have proved it as far as certainty is possible for us; for, after all, there is no one of our surest convictions which may not be upset, or at any rate modified by a further accession of knowledge. It was because it satisfied these conditions that we accepted the hypothesis as to the disappearance of the tea-pot and spoons in the case I supposed in a previous lecture; we found that our hypothesis on that subject was tenable and valid, because the supposed cause existed in nature, because it was competent to account for the phenomena, and because no other known cause was competent to account for them; and it is upon similar grounds that any hypothesis you choose to name is accepted in science as tenable and valid.  What is Mr. Darwin's hypothesis? As I apprehend it--for I have put it into a shape more convenient for common purposes than I could find 'verbatim' in his book--as I apprehend it, I say, it is, that all the phenomena of organic nature, past and present, result from, or are caused by, the inter-action of those properties of organic matter, which we have called ATAVISM and VARIABILITY, with the CONDITIONS OF EXISTENCE; or, in other words,--given the existence of organic matter, its tendency to transmit its properties, and its tendency occasionally to vary; and, lastly, given the conditions of existence by which organic matter is surrounded--that these put together are the causes of the Present and of the Past condition...</td>\n",
       "      <td>1831.0</td>\n",
       "      <td>2</td>\n",
       "    </tr>\n",
       "    <tr>\n",
       "      <th>1</th>\n",
       "      <td>ferragus</td>\n",
       "      <td>in all things beside his wife, even in her caprices; in fact, he would have been uneasy if she had none, thinking it a symptom of some illness.  Auguste de Maulincour had the personal misfortune of running against this passion, and falling in love with the wife beyond recovery. Nevertheless, though he carried in his heart so intense a love, he was not ridiculous; he complied with all the demands of society, and of military manners and customs. And yet his face wore constantly, even though he might be drinking a glass of champagne, that dreamy look, that air of silently despising life, that nebulous expression which belongs, though for other reasons, to _blases_ men,--men dissatisfied with hollow lives. To love without hope, to be disgusted with life, constitute, in these days, a social position. The enterprise of winning the heart of a sovereign might give, perhaps, more hope than a love rashly conceived for a happy woman. Therefore Maulincour had sufficient reason to be grave and gloomy. A queen has the vanity of her power; the height of her elevation protects her. But a pious _bourgeoise_ is like a hedgehog, or an oyster, in its rough wrappings.  At this moment the young officer was beside his unconscious mistress, who certainly was unaware that she was doubly faithless. Madame Jules was seated, in a naive attitude, like the least artful woman in existence, soft and gentle, full of a majestic serenity. What an abyss is human nature! Before beginning a conversation, the ...</td>\n",
       "      <td>1820.0</td>\n",
       "      <td>2</td>\n",
       "    </tr>\n",
       "  </tbody>\n",
       "</table>\n",
       "</div>"
      ],
      "text/plain": [
       "                      title  \\\n",
       "0  on the origin of species   \n",
       "1                  ferragus   \n",
       "\n",
       "                                                                                                                                                                                                                                                                                                                                                                                                                                                                                                                                                                                                                                                                                                                                                                                                                                                                                                                                                                                                                                                                                                                                                                                                                                                                                                                                                                                                                                                                                                                                                       passage  \\\n",
       "0  hypothesis; or rather I ought to say we shall have proved it as far as certainty is possible for us; for, after all, there is no one of our surest convictions which may not be upset, or at any rate modified by a further accession of knowledge. It was because it satisfied these conditions that we accepted the hypothesis as to the disappearance of the tea-pot and spoons in the case I supposed in a previous lecture; we found that our hypothesis on that subject was tenable and valid, because the supposed cause existed in nature, because it was competent to account for the phenomena, and because no other known cause was competent to account for them; and it is upon similar grounds that any hypothesis you choose to name is accepted in science as tenable and valid.  What is Mr. Darwin's hypothesis? As I apprehend it--for I have put it into a shape more convenient for common purposes than I could find 'verbatim' in his book--as I apprehend it, I say, it is, that all the phenomena of organic nature, past and present, result from, or are caused by, the inter-action of those properties of organic matter, which we have called ATAVISM and VARIABILITY, with the CONDITIONS OF EXISTENCE; or, in other words,--given the existence of organic matter, its tendency to transmit its properties, and its tendency occasionally to vary; and, lastly, given the conditions of existence by which organic matter is surrounded--that these put together are the causes of the Present and of the Past condition...   \n",
       "1  in all things beside his wife, even in her caprices; in fact, he would have been uneasy if she had none, thinking it a symptom of some illness.  Auguste de Maulincour had the personal misfortune of running against this passion, and falling in love with the wife beyond recovery. Nevertheless, though he carried in his heart so intense a love, he was not ridiculous; he complied with all the demands of society, and of military manners and customs. And yet his face wore constantly, even though he might be drinking a glass of champagne, that dreamy look, that air of silently despising life, that nebulous expression which belongs, though for other reasons, to _blases_ men,--men dissatisfied with hollow lives. To love without hope, to be disgusted with life, constitute, in these days, a social position. The enterprise of winning the heart of a sovereign might give, perhaps, more hope than a love rashly conceived for a happy woman. Therefore Maulincour had sufficient reason to be grave and gloomy. A queen has the vanity of her power; the height of her elevation protects her. But a pious _bourgeoise_ is like a hedgehog, or an oyster, in its rough wrappings.  At this moment the young officer was beside his unconscious mistress, who certainly was unaware that she was doubly faithless. Madame Jules was seated, in a naive attitude, like the least artful woman in existence, soft and gentle, full of a majestic serenity. What an abyss is human nature! Before beginning a conversation, the ...   \n",
       "\n",
       "     year  era  \n",
       "0  1831.0    2  \n",
       "1  1820.0    2  "
      ]
     },
     "execution_count": 393,
     "metadata": {},
     "output_type": "execute_result"
    }
   ],
   "source": [
    "\"\"\"\n",
    "Separate into eras\n",
    "\"\"\"\n",
    "\n",
    "\n",
    "def write_era(row):\n",
    "    if row[\"year\"] < 1820:\n",
    "        row[\"era\"] = 1\n",
    "    elif row[\"year\"] >= 1820 and row[\"year\"] < 1870:\n",
    "        row[\"era\"] = 2\n",
    "    elif row[\"year\"] >= 1870:\n",
    "        row[\"era\"] = 3\n",
    "    return row\n",
    "\n",
    "\n",
    "dfTest2 = dfTest.copy()\n",
    "dfTrain2 = dfTrain.copy()\n",
    "dfTest2 = dfTest2.apply(write_era, axis=1)\n",
    "dfTrain2 = dfTrain2.apply(write_era, axis=1)\n",
    "\n",
    "dfTest2.head(2)"
   ]
  },
  {
   "cell_type": "code",
   "execution_count": 394,
   "id": "9a4a42d8-2437-489c-8a3a-ecf6ca346038",
   "metadata": {},
   "outputs": [
    {
     "data": {
      "text/plain": [
       "array([[<AxesSubplot:title={'center':'year'}>,\n",
       "        <AxesSubplot:title={'center':'era'}>]], dtype=object)"
      ]
     },
     "execution_count": 394,
     "metadata": {},
     "output_type": "execute_result"
    },
    {
     "data": {
      "image/png": "[encoded data removed]",
      "text/plain": [
       "<Figure size 576x432 with 2 Axes>"
      ]
     },
     "metadata": {
      "needs_background": "light"
     },
     "output_type": "display_data"
    }
   ],
   "source": [
    "dfTest2.hist()"
   ]
  },
  {
   "cell_type": "code",
   "execution_count": 395,
   "id": "1ab28e7a-04ad-4b38-ac58-9aee143fcbd1",
   "metadata": {},
   "outputs": [],
   "source": [
    "x_test_era = dfTest2[\"passage\"]\n",
    "y_test_era = dfTest2[\"era\"]\n",
    "\n",
    "x_train_era = dfTrain2[\"passage\"]\n",
    "y_train_era = dfTrain2[\"era\"]\n",
    "\n",
    "label_encoder = preprocessing.LabelEncoder()\n",
    "y_test_era = label_encoder.fit_transform(y_test_era)\n",
    "y_train_era = label_encoder.fit_transform(y_train_era)\n",
    "\n",
    "y_train_era = to_categorical(y_train_era)\n",
    "y_test_era = to_categorical(y_test_era)\n",
    "\n",
    "tokenizer = Tokenizer(num_words=MAX_WORDS)\n",
    "tokenizer.fit_on_texts(x_train_era)\n",
    "\n",
    "x_train_era = tokenizer.texts_to_sequences(x_train_era)\n",
    "x_test_era = tokenizer.texts_to_sequences(x_test_era)"
   ]
  },
  {
   "cell_type": "code",
   "execution_count": 396,
   "id": "11285548-fd2e-49aa-8233-2e17c82ff03d",
   "metadata": {},
   "outputs": [
    {
     "name": "stdout",
     "output_type": "stream",
     "text": [
      "Found 400001 word vectors\n"
     ]
    }
   ],
   "source": [
    "import numpy as np\n",
    "\n",
    "vocab_size = len(tokenizer.word_index)\n",
    "\n",
    "x_train_era = pad_sequences(x_train_era, padding=\"post\", maxlen=MAX_LENGTH)\n",
    "x_test_era = pad_sequences(x_test_era, padding=\"post\", maxlen=MAX_LENGTH)\n",
    "\n",
    "embeddings_dictionary = dict()\n",
    "glove_file = open(\"glove.6B/glove.6B.100d.txt\", encoding=\"utf8\")\n",
    "\n",
    "for line in glove_file:\n",
    "    values = line.split()\n",
    "    word = values[0]\n",
    "    vector_dimensions = np.asarray(values[1:], dtype=\"float32\")\n",
    "    embeddings_dictionary[word] = vector_dimensions\n",
    "\n",
    "glove_file.close()\n",
    "print(f\"Found {len(embeddings_dictionary)} word vectors\")"
   ]
  },
  {
   "cell_type": "code",
   "execution_count": 397,
   "id": "12ab8b26-c536-49c0-b6ff-6b9cf86c2b18",
   "metadata": {},
   "outputs": [],
   "source": [
    "EMBEDDING_DIMENSION = 100\n",
    "embedding_matrix = np.zeros((vocab_size, EMBEDDING_DIMENSION))\n",
    "for word, index in tokenizer.word_index.items():\n",
    "    embedding_vector = embeddings_dictionary.get(word)\n",
    "    if embedding_vector is not None:\n",
    "        embedding_matrix[index - 1] = embedding_vector"
   ]
  },
  {
   "cell_type": "code",
   "execution_count": 398,
   "id": "c8b17ebd-f485-4cfa-b12d-5aa0c70f21ef",
   "metadata": {
    "tags": []
   },
   "outputs": [
    {
     "name": "stdout",
     "output_type": "stream",
     "text": [
      "Model: \"sequential_64\"\n",
      "_________________________________________________________________\n",
      " Layer (type)                Output Shape              Param #   \n",
      "=================================================================\n",
      " embedding_62 (Embedding)    (None, 50, 100)           41553000  \n",
      "                                                                 \n",
      " lstm_70 (LSTM)              (None, 50, 256)           365568    \n",
      "                                                                 \n",
      " lstm_71 (LSTM)              (None, 50, 128)           197120    \n",
      "                                                                 \n",
      " lstm_72 (LSTM)              (None, 32)                20608     \n",
      "                                                                 \n",
      " dense_115 (Dense)           (None, 3)                 99        \n",
      "                                                                 \n",
      "=================================================================\n",
      "Total params: 42,136,395\n",
      "Trainable params: 583,395\n",
      "Non-trainable params: 41,553,000\n",
      "_________________________________________________________________\n",
      "Epoch 1/10\n",
      "178/178 [==============================] - 37s 206ms/step - loss: 1.0948 - acc: 0.3672 - val_loss: 1.1049 - val_acc: 0.3327\n",
      "Epoch 2/10\n",
      "178/178 [==============================] - 36s 203ms/step - loss: 1.0938 - acc: 0.3697 - val_loss: 1.1022 - val_acc: 0.3327\n",
      "Epoch 3/10\n",
      "178/178 [==============================] - 36s 204ms/step - loss: 1.0937 - acc: 0.3683 - val_loss: 1.1021 - val_acc: 0.3327\n",
      "Epoch 4/10\n",
      "178/178 [==============================] - 37s 209ms/step - loss: 1.0938 - acc: 0.3682 - val_loss: 1.1026 - val_acc: 0.3327\n",
      "Epoch 5/10\n",
      "178/178 [==============================] - 37s 206ms/step - loss: 1.0938 - acc: 0.3654 - val_loss: 1.1026 - val_acc: 0.3327\n",
      "Epoch 6/10\n",
      "178/178 [==============================] - 37s 205ms/step - loss: 1.0937 - acc: 0.3674 - val_loss: 1.1032 - val_acc: 0.3327\n",
      "Epoch 7/10\n",
      "178/178 [==============================] - 37s 209ms/step - loss: 1.0939 - acc: 0.3697 - val_loss: 1.1043 - val_acc: 0.3327\n",
      "Epoch 8/10\n",
      "178/178 [==============================] - 38s 216ms/step - loss: 1.0938 - acc: 0.3671 - val_loss: 1.1046 - val_acc: 0.3327\n",
      "Epoch 9/10\n",
      "178/178 [==============================] - 37s 208ms/step - loss: 1.0938 - acc: 0.3659 - val_loss: 1.1050 - val_acc: 0.3327\n",
      "Epoch 10/10\n",
      "178/178 [==============================] - 37s 208ms/step - loss: 1.0937 - acc: 0.3697 - val_loss: 1.1017 - val_acc: 0.3327\n"
     ]
    }
   ],
   "source": [
    "model5 = Sequential()\n",
    "model5.add(\n",
    "    Embedding(\n",
    "        vocab_size,\n",
    "        EMBEDDING_DIMENSION,\n",
    "        weights=[embedding_matrix],\n",
    "        input_length=MAX_LENGTH,\n",
    "    )\n",
    ")\n",
    "model5.add(LSTM(256, return_sequences=True))\n",
    "model5.add(LSTM(128, return_sequences=True))\n",
    "model5.add(LSTM(32))\n",
    "model5.add(Dense(3, activation=\"softmax\"))\n",
    "model5.layers[0].trainable = False\n",
    "model5.summary()\n",
    "\n",
    "model5.compile(\n",
    "    optimizer=Adam(learning_rate=0.01), metrics=[\"acc\"], loss=\"categorical_crossentropy\"\n",
    ")\n",
    "\n",
    "history = model2.fit(\n",
    "    x_train_era,\n",
    "    y_train_era,\n",
    "    batch_size=128,\n",
    "    epochs=10,\n",
    "    verbose=1,\n",
    "    validation_data=(x_test_era, y_test_era),\n",
    ")"
   ]
  },
  {
   "cell_type": "code",
   "execution_count": 399,
   "id": "c7a5efc6-5a10-4197-9c19-672f98b8652d",
   "metadata": {},
   "outputs": [
    {
     "data": {
      "image/png": "[encoded data removed]",
      "text/plain": [
       "<Figure size 360x288 with 2 Axes>"
      ]
     },
     "metadata": {
      "needs_background": "light"
     },
     "output_type": "display_data"
    }
   ],
   "source": [
    "from sklearn.metrics import confusion_matrix\n",
    "import seaborn as sns\n",
    "\n",
    "\n",
    "def create_confusion_matrix(current_model):\n",
    "    y_prediction = current_model.predict(x_test_era)\n",
    "    rounded_y = np.argmax(y_test_era, axis=1)\n",
    "    rounded_predictions = np.argmax(y_prediction, axis=1)\n",
    "\n",
    "    # Create the confusion matrix\n",
    "    confusion_matrix = metrics.confusion_matrix(rounded_y, rounded_predictions)\n",
    "    cm_df = pd.DataFrame(\n",
    "        confusion_matrix,\n",
    "        index=[\"early\", \"mid\", \"late\"],\n",
    "        columns=[\"early\", \"mid\", \"late\"],\n",
    "    )\n",
    "\n",
    "    # Plotting the confusion matrix\n",
    "    plt.figure(figsize=(5, 4))\n",
    "    sns.heatmap(cm_df, fmt=\".2f\", annot=True)\n",
    "    plt.title(\"Confusion Matrix\")\n",
    "    plt.ylabel(\"Actal Values\")\n",
    "    plt.xlabel(\"Predicted Values\")\n",
    "    plt.show()\n",
    "\n",
    "\n",
    "create_confusion_matrix(model5)"
   ]
  },
  {
   "cell_type": "code",
   "execution_count": 400,
   "id": "4866ca62-e5fa-458f-946a-6dda39a2157c",
   "metadata": {
    "tags": []
   },
   "outputs": [
    {
     "name": "stdout",
     "output_type": "stream",
     "text": [
      "Model: \"sequential_65\"\n",
      "_________________________________________________________________\n",
      " Layer (type)                Output Shape              Param #   \n",
      "=================================================================\n",
      " embedding_63 (Embedding)    (None, 50, 100)           41553000  \n",
      "                                                                 \n",
      " lstm_73 (LSTM)              (None, 32)                17024     \n",
      "                                                                 \n",
      " dense_116 (Dense)           (None, 3)                 99        \n",
      "                                                                 \n",
      " flatten_38 (Flatten)        (None, 3)                 0         \n",
      "                                                                 \n",
      "=================================================================\n",
      "Total params: 41,570,123\n",
      "Trainable params: 17,123\n",
      "Non-trainable params: 41,553,000\n",
      "_________________________________________________________________\n",
      "Epoch 1/10\n",
      "712/712 [==============================] - 37s 52ms/step - loss: 1.1475 - acc: 0.3514 - val_loss: 1.1515 - val_acc: 0.3312\n",
      "Epoch 2/10\n",
      "712/712 [==============================] - 36s 51ms/step - loss: 1.1294 - acc: 0.3560 - val_loss: 1.1539 - val_acc: 0.3285\n",
      "Epoch 3/10\n",
      "712/712 [==============================] - 36s 51ms/step - loss: 1.1395 - acc: 0.3493 - val_loss: 1.1370 - val_acc: 0.3352\n",
      "Epoch 4/10\n",
      "712/712 [==============================] - 37s 52ms/step - loss: 1.1350 - acc: 0.3550 - val_loss: 1.1540 - val_acc: 0.3368\n",
      "Epoch 5/10\n",
      "712/712 [==============================] - 36s 51ms/step - loss: 1.1277 - acc: 0.3529 - val_loss: 1.1670 - val_acc: 0.3408\n",
      "Epoch 6/10\n",
      "712/712 [==============================] - 38s 53ms/step - loss: 1.1231 - acc: 0.3568 - val_loss: 1.1483 - val_acc: 0.3373\n",
      "Epoch 7/10\n",
      "712/712 [==============================] - 1010s 1s/step - loss: 1.1299 - acc: 0.3605 - val_loss: 1.2255 - val_acc: 0.3283\n",
      "Epoch 8/10\n",
      "712/712 [==============================] - 1041s 1s/step - loss: 1.1289 - acc: 0.3552 - val_loss: 1.1512 - val_acc: 0.3330\n",
      "Epoch 9/10\n",
      "712/712 [==============================] - 962s 1s/step - loss: 1.1325 - acc: 0.3474 - val_loss: 1.1669 - val_acc: 0.3379\n",
      "Epoch 10/10\n",
      "712/712 [==============================] - 35s 50ms/step - loss: 1.1313 - acc: 0.3527 - val_loss: 1.2155 - val_acc: 0.3329\n"
     ]
    }
   ],
   "source": [
    "model6 = Sequential()\n",
    "model6.add(\n",
    "    Embedding(\n",
    "        vocab_size,\n",
    "        EMBEDDING_DIMENSION,\n",
    "        weights=[embedding_matrix],\n",
    "        input_length=MAX_LENGTH,\n",
    "    )\n",
    ")\n",
    "model6.add(LSTM(32))\n",
    "model6.add(Dense(3, activation=\"softmax\"))\n",
    "model6.add(Flatten())\n",
    "model6.layers[0].trainable = False\n",
    "model6.summary()\n",
    "\n",
    "model6.compile(\n",
    "    optimizer=Adam(learning_rate=0.01), metrics=[\"acc\"], loss=\"categorical_crossentropy\"\n",
    ")\n",
    "\n",
    "history = model.fit(\n",
    "    x_train_era,\n",
    "    y_train_era,\n",
    "    batch_size=32,\n",
    "    epochs=10,\n",
    "    verbose=1,\n",
    "    validation_data=(x_test_era, y_test_era),\n",
    ")"
   ]
  },
  {
   "cell_type": "code",
   "execution_count": 401,
   "id": "088dddab-7c32-4607-892a-1ad1de799f50",
   "metadata": {
    "tags": []
   },
   "outputs": [
    {
     "data": {
      "image/png": "[encoded data removed]",
      "text/plain": [
       "<Figure size 360x288 with 2 Axes>"
      ]
     },
     "metadata": {
      "needs_background": "light"
     },
     "output_type": "display_data"
    }
   ],
   "source": [
    "create_confusion_matrix(model6)"
   ]
  },
  {
   "cell_type": "code",
   "execution_count": 402,
   "id": "5a4e07e7-8b56-45b4-92ba-5e8f11c8a5a1",
   "metadata": {},
   "outputs": [
    {
     "name": "stdout",
     "output_type": "stream",
     "text": [
      "Model: \"sequential_66\"\n",
      "_________________________________________________________________\n",
      " Layer (type)                Output Shape              Param #   \n",
      "=================================================================\n",
      " embedding_64 (Embedding)    (None, 50, 100)           41553000  \n",
      "                                                                 \n",
      " lstm_74 (LSTM)              (None, 256)               365568    \n",
      "                                                                 \n",
      " dense_117 (Dense)           (None, 3)                 771       \n",
      "                                                                 \n",
      " flatten_39 (Flatten)        (None, 3)                 0         \n",
      "                                                                 \n",
      "=================================================================\n",
      "Total params: 41,919,339\n",
      "Trainable params: 366,339\n",
      "Non-trainable params: 41,553,000\n",
      "_________________________________________________________________\n",
      "Epoch 1/10\n",
      "89/89 [==============================] - 15s 164ms/step - loss: 1.1063 - acc: 0.3581 - val_loss: 1.1200 - val_acc: 0.3339\n",
      "Epoch 2/10\n",
      "89/89 [==============================] - 15s 165ms/step - loss: 1.0932 - acc: 0.3748 - val_loss: 1.1064 - val_acc: 0.3394\n",
      "Epoch 3/10\n",
      "89/89 [==============================] - 15s 164ms/step - loss: 1.0941 - acc: 0.3745 - val_loss: 1.1105 - val_acc: 0.3416\n",
      "Epoch 4/10\n",
      "89/89 [==============================] - 15s 168ms/step - loss: 1.0943 - acc: 0.3698 - val_loss: 1.1086 - val_acc: 0.3448\n",
      "Epoch 5/10\n",
      "89/89 [==============================] - 15s 166ms/step - loss: 1.0912 - acc: 0.3753 - val_loss: 1.1176 - val_acc: 0.3368\n",
      "Epoch 6/10\n",
      "89/89 [==============================] - 15s 166ms/step - loss: 1.0909 - acc: 0.3762 - val_loss: 1.1317 - val_acc: 0.3359\n",
      "Epoch 7/10\n",
      "89/89 [==============================] - 15s 169ms/step - loss: 1.0912 - acc: 0.3762 - val_loss: 1.1116 - val_acc: 0.3381\n",
      "Epoch 8/10\n",
      "89/89 [==============================] - 960s 11s/step - loss: 1.0917 - acc: 0.3765 - val_loss: 1.1131 - val_acc: 0.3344\n",
      "Epoch 9/10\n",
      "89/89 [==============================] - 15s 165ms/step - loss: 1.0908 - acc: 0.3777 - val_loss: 1.1091 - val_acc: 0.3364\n",
      "Epoch 10/10\n",
      "89/89 [==============================] - 15s 165ms/step - loss: 1.0927 - acc: 0.3741 - val_loss: 1.1112 - val_acc: 0.3368\n"
     ]
    }
   ],
   "source": [
    "model7 = Sequential()\n",
    "model7.add(\n",
    "    Embedding(\n",
    "        vocab_size,\n",
    "        EMBEDDING_DIMENSION,\n",
    "        weights=[embedding_matrix],\n",
    "        input_length=MAX_LENGTH,\n",
    "    )\n",
    ")\n",
    "model7.add(LSTM(256))\n",
    "model7.add(Dense(3, activation=\"softmax\"))\n",
    "model7.add(Flatten())\n",
    "model7.layers[0].trainable = False\n",
    "model7.summary()\n",
    "\n",
    "model7.compile(\n",
    "    optimizer=Adam(learning_rate=0.01), metrics=[\"acc\"], loss=\"categorical_crossentropy\"\n",
    ")\n",
    "\n",
    "history = model.fit(\n",
    "    x_train_era,\n",
    "    y_train_era,\n",
    "    batch_size=256,\n",
    "    epochs=10,\n",
    "    verbose=1,\n",
    "    validation_data=(x_test_era, y_test_era),\n",
    ")"
   ]
  },
  {
   "cell_type": "code",
   "execution_count": 403,
   "id": "c414ef98-2d4c-4c75-a006-b364df581b74",
   "metadata": {},
   "outputs": [
    {
     "data": {
      "image/png": "[encoded data removed]",
      "text/plain": [
       "<Figure size 360x288 with 2 Axes>"
      ]
     },
     "metadata": {
      "needs_background": "light"
     },
     "output_type": "display_data"
    }
   ],
   "source": [
    "create_confusion_matrix(model)"
   ]
  },
  {
   "cell_type": "code",
   "execution_count": null,
   "id": "0ff8701c-bfbf-490e-93bb-70966b28f314",
   "metadata": {},
   "outputs": [],
   "source": []
  },
  {
   "cell_type": "code",
   "execution_count": null,
   "id": "fcc8cdbc-7b98-4c41-a38b-cd8662d1c226",
   "metadata": {},
   "outputs": [],
   "source": []
  },
  {
   "cell_type": "code",
   "execution_count": null,
   "id": "1de561ca-1026-4670-bddb-a8d177ad05ef",
   "metadata": {},
   "outputs": [],
   "source": []
  }
 ],
 "metadata": {
  "kernelspec": {
   "display_name": "Python 3 (ipykernel)",
   "language": "python",
   "name": "python3"
  },
  "language_info": {
   "codemirror_mode": {
    "name": "ipython",
    "version": 3
   },
   "file_extension": ".py",
   "mimetype": "text/x-python",
   "name": "python",
   "nbconvert_exporter": "python",
   "pygments_lexer": "ipython3",
   "version": "3.8.11"
  },
  "vscode": {
   "interpreter": {
    "hash": "e5824597f04209458feeb41e127aa2b38ff74e63199a7484b2fb5c4c7e06bd3f"
   }
  }
 },
 "nbformat": 4,
 "nbformat_minor": 5
}