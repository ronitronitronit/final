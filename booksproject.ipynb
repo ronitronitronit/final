{
 "cells": [
  {
   "cell_type": "code",
   "execution_count": 2,
   "id": "6cf05685",
   "metadata": {
    "collapsed": false,
    "jupyter": {
     "outputs_hidden": false
    },
    "pycharm": {
     "name": "#%%\n"
    }
   },
   "outputs": [
    {
     "data": {
      "text/html": [
       "<div>\n",
       "<style scoped>\n",
       "    .dataframe tbody tr th:only-of-type {\n",
       "        vertical-align: middle;\n",
       "    }\n",
       "\n",
       "    .dataframe tbody tr th {\n",
       "        vertical-align: top;\n",
       "    }\n",
       "\n",
       "    .dataframe thead th {\n",
       "        text-align: right;\n",
       "    }\n",
       "</style>\n",
       "<table border=\"1\" class=\"dataframe\">\n",
       "  <thead>\n",
       "    <tr style=\"text-align: right;\">\n",
       "      <th></th>\n",
       "      <th>title</th>\n",
       "      <th>text</th>\n",
       "      <th>genres</th>\n",
       "    </tr>\n",
       "  </thead>\n",
       "  <tbody>\n",
       "    <tr>\n",
       "      <th>0</th>\n",
       "      <td>apocolocyntosis</td>\n",
       "      <td>Produced by Ted Garvin, Ben Courtney and PG Distributed Proofreaders\\n\\n\\n\\n\\n                       SENECA\\n\\n                  APOCOLOCYNTOSIS\\n\\n          WITH AN ENGLISH TRANSLATION BY\\n\\n            W.H.D. ROUSE, M.A. LITT. D.\\n\\n                       MCMXX\\n\\n\\n\\n\\n\\nINTRODUCTION\\n\\nThis piece is ascribed to Seneca by ancient tradition; it is impossible\\nto prove that it is his, and impossible to prove that it is not. The\\nmatter will probably continue to be decided by every one according to his\\nview of Seneca's character and abilities: in the matters of style and of\\nsentiment much may be said on both sides. Dion Cassius (lx, 35) says that\\nSeneca composed an [Greek: apokolokuntosis] or Pumpkinification of\\nClaudius after his death, the title being a parody of the usual\\n[Greek: apotheosis]; but this title is not given in the MSS. of the Ludus\\nde Morte Claudii, nor is there anything in the piece which suits the title\\nvery well.\\n\\nAs a literary form, the piece belongs to the class called\\n_Satura Menippea_, a satiric medley in prose and verse.\\n\\nThis text is that of Buecheler, with a few trifling changes, which are\\nindicated in the notes. We have been courteously allowed by Messrs\\nWeidmann to use this text. I have to acknowledge the help of Mr Ball's\\nnotes, from which I have taken a few references; but my translation was\\nmade many years ago.\\n\\nW.H.D. ROUSE.\\n\\n\\n\\n\\n\\nBIBLIOGRAPHY\\n\\n_Editio Princeps:_ Lucii Annaei Senecae in morte\\n  Claudii Caesaris Lud...</td>\n",
       "      <td>{'21st-century', 'history', 'roman', 'classics', 'religion', 'novels', 'philosophy', 'fiction', 'literature', 'short-stories', 'politics', 'non-fiction', 'read-for-school', 'poetry', 'historical', 'humor'}</td>\n",
       "    </tr>\n",
       "    <tr>\n",
       "      <th>1</th>\n",
       "      <td>the house on the borderland</td>\n",
       "      <td>Produced by Suzanne Shell, Sjaani and PG Distributed Proofreaders\\n\\n\\n\\n\\nTHE HOUSE ON THE BORDERLAND\\n\\nWilliam Hope Hodgson\\n\\n\\n_From the Manuscript discovered in 1877 by Messrs. Tonnison and\\nBerreggnog in the Ruins that lie to the South of the Village of\\nKraighten, in the West of Ireland. Set out here, with Notes_.\\n\\n\\nTO MY FATHER\\n_(Whose feet tread the lost aeons)_\\n\\nOpen the door,\\n  And listen!\\nOnly the wind's muffled roar,\\n  And the glisten\\nOf tears 'round the moon.\\n  And, in fancy, the tread\\nOf vanishing shoon--\\n  Out in the night with the Dead.\\n\\n\"Hush! And hark\\n  To the sorrowful cry\\nOf the wind in the dark.\\n  Hush and hark, without murmur or sigh,\\n    To shoon that tread the lost aeons:\\n  To the sound that bids you to die.\\nHush and hark! Hush and Hark!\"\\n                               _Shoon of the Dead_\\n\\n\\n\\n\\nAUTHOR'S INTRODUCTION TO THE MANUSCRIPT\\n\\nMany are the hours in which I have pondered upon the story that is set\\nforth in the following pages. I trust that my instincts are not awry\\nwhen they prompt me to leave the account, in simplicity, as it was\\nhanded to me.\\n\\nAnd the MS. itself--You must picture me, when first it was given into my\\ncare, turning it over, curiously, and making a swift, jerky examination.\\nA small book it is; but thick, and all, save the last few pages, filled\\nwith a quaint but legible handwriting, and writ very close. I have the\\nqueer, faint, pit-water smell of it in my nostrils now as I write, and\\nmy f...</td>\n",
       "      <td>{'horror', 'mystery', 'classics', 'science-fiction', 'fantasy', 'novels', 'literature', 'fiction', 'paranormal', '20th-century', 'adult', 'speculative-fiction', 'supernatural', 'dark'}</td>\n",
       "    </tr>\n",
       "    <tr>\n",
       "      <th>2</th>\n",
       "      <td>the warriors</td>\n",
       "      <td>Produced by Charles Aldarondo, Charlie Kirschner\\nand the Online Distributed Proofreading Team.\\n\\n\\n\\n\\nTHE WARRIORS\\n\\nBY ANNA ROBERTSON BROWN LINDSAY PH.D.\\n\\nAUTHOR OF\\n\\nWHAT IS WORTH WHILE?\\nCULTURE AND REFORM\\nTHE VICTORY OF OUR FAITH\\n\\n\\n\\n\\nPREFACE\\n\\nThis work was begun nearly five years ago. Since then, the whole face of\\nAmerican history has changed. We have had the Spanish-American War, and\\nthe opening-up of our new possessions. In this period of time Gladstone,\\nLi Hung Chang, and Queen Victoria have died; there has also occurred the\\nassassination of the Empress of Austria and of President McKinley. There\\nhas been the Chinese persecution, the destruction of Galveston by storm\\nand of Martinique by volcanic action. Wireless telegraphy has been\\ndiscovered, and the source of the spread of certain fevers. In this time\\nhave been carried on gigantic engineering undertakings,--the\\nTrans-Siberian Railroad, the Trans-Balkan Railroad, the rebuilding of\\nNew York. We have also looked upon the consolidation of vast forces of\\nsteel, iron, sugar, shipping, and other trusts. We have witnessed an\\nextraordinary growth of universities, libraries, and higher\\nschools,--the widespread increase of commerce, the prosperity of\\nbusiness, the rise in the price of food, and the great coal-strike of\\n1902. Perhaps never before in the world's history have there been\\ncrowded into five years such dramatic occurrences on the world-stage,\\nnor such large opportunities for the in...</td>\n",
       "      <td>{'literary-fiction', 'history', 'biography', 'family', 'mythology', 'historical-fiction', 'non-fiction', 'historical', 'college', 'contemporary', 'high-school', 'fantasy', 'novels', 'literature', 'fiction', '20th-century', 'essays', 'school', 'adult', 'read-for-school', 'american', 'feminism', 'classics', 'short-stories', 'adult-fiction', 'memoir', 'coming-of-age'}</td>\n",
       "    </tr>\n",
       "  </tbody>\n",
       "</table>\n",
       "</div>"
      ],
      "text/plain": [
       "                         title  \\\n",
       "0              apocolocyntosis   \n",
       "1  the house on the borderland   \n",
       "2                 the warriors   \n",
       "\n",
       "                                                                                                                                                                                                                                                                                                                                                                                                                                                                                                                                                                                                                                                                                                                                                                                                                                                                                                                                                                                                                                                                                                                                                                                                                                                                                                                                                                                                                                                                                                                                                          text  \\\n",
       "0  Produced by Ted Garvin, Ben Courtney and PG Distributed Proofreaders\\n\\n\\n\\n\\n                       SENECA\\n\\n                  APOCOLOCYNTOSIS\\n\\n          WITH AN ENGLISH TRANSLATION BY\\n\\n            W.H.D. ROUSE, M.A. LITT. D.\\n\\n                       MCMXX\\n\\n\\n\\n\\n\\nINTRODUCTION\\n\\nThis piece is ascribed to Seneca by ancient tradition; it is impossible\\nto prove that it is his, and impossible to prove that it is not. The\\nmatter will probably continue to be decided by every one according to his\\nview of Seneca's character and abilities: in the matters of style and of\\nsentiment much may be said on both sides. Dion Cassius (lx, 35) says that\\nSeneca composed an [Greek: apokolokuntosis] or Pumpkinification of\\nClaudius after his death, the title being a parody of the usual\\n[Greek: apotheosis]; but this title is not given in the MSS. of the Ludus\\nde Morte Claudii, nor is there anything in the piece which suits the title\\nvery well.\\n\\nAs a literary form, the piece belongs to the class called\\n_Satura Menippea_, a satiric medley in prose and verse.\\n\\nThis text is that of Buecheler, with a few trifling changes, which are\\nindicated in the notes. We have been courteously allowed by Messrs\\nWeidmann to use this text. I have to acknowledge the help of Mr Ball's\\nnotes, from which I have taken a few references; but my translation was\\nmade many years ago.\\n\\nW.H.D. ROUSE.\\n\\n\\n\\n\\n\\nBIBLIOGRAPHY\\n\\n_Editio Princeps:_ Lucii Annaei Senecae in morte\\n  Claudii Caesaris Lud...   \n",
       "1  Produced by Suzanne Shell, Sjaani and PG Distributed Proofreaders\\n\\n\\n\\n\\nTHE HOUSE ON THE BORDERLAND\\n\\nWilliam Hope Hodgson\\n\\n\\n_From the Manuscript discovered in 1877 by Messrs. Tonnison and\\nBerreggnog in the Ruins that lie to the South of the Village of\\nKraighten, in the West of Ireland. Set out here, with Notes_.\\n\\n\\nTO MY FATHER\\n_(Whose feet tread the lost aeons)_\\n\\nOpen the door,\\n  And listen!\\nOnly the wind's muffled roar,\\n  And the glisten\\nOf tears 'round the moon.\\n  And, in fancy, the tread\\nOf vanishing shoon--\\n  Out in the night with the Dead.\\n\\n\"Hush! And hark\\n  To the sorrowful cry\\nOf the wind in the dark.\\n  Hush and hark, without murmur or sigh,\\n    To shoon that tread the lost aeons:\\n  To the sound that bids you to die.\\nHush and hark! Hush and Hark!\"\\n                               _Shoon of the Dead_\\n\\n\\n\\n\\nAUTHOR'S INTRODUCTION TO THE MANUSCRIPT\\n\\nMany are the hours in which I have pondered upon the story that is set\\nforth in the following pages. I trust that my instincts are not awry\\nwhen they prompt me to leave the account, in simplicity, as it was\\nhanded to me.\\n\\nAnd the MS. itself--You must picture me, when first it was given into my\\ncare, turning it over, curiously, and making a swift, jerky examination.\\nA small book it is; but thick, and all, save the last few pages, filled\\nwith a quaint but legible handwriting, and writ very close. I have the\\nqueer, faint, pit-water smell of it in my nostrils now as I write, and\\nmy f...   \n",
       "2  Produced by Charles Aldarondo, Charlie Kirschner\\nand the Online Distributed Proofreading Team.\\n\\n\\n\\n\\nTHE WARRIORS\\n\\nBY ANNA ROBERTSON BROWN LINDSAY PH.D.\\n\\nAUTHOR OF\\n\\nWHAT IS WORTH WHILE?\\nCULTURE AND REFORM\\nTHE VICTORY OF OUR FAITH\\n\\n\\n\\n\\nPREFACE\\n\\nThis work was begun nearly five years ago. Since then, the whole face of\\nAmerican history has changed. We have had the Spanish-American War, and\\nthe opening-up of our new possessions. In this period of time Gladstone,\\nLi Hung Chang, and Queen Victoria have died; there has also occurred the\\nassassination of the Empress of Austria and of President McKinley. There\\nhas been the Chinese persecution, the destruction of Galveston by storm\\nand of Martinique by volcanic action. Wireless telegraphy has been\\ndiscovered, and the source of the spread of certain fevers. In this time\\nhave been carried on gigantic engineering undertakings,--the\\nTrans-Siberian Railroad, the Trans-Balkan Railroad, the rebuilding of\\nNew York. We have also looked upon the consolidation of vast forces of\\nsteel, iron, sugar, shipping, and other trusts. We have witnessed an\\nextraordinary growth of universities, libraries, and higher\\nschools,--the widespread increase of commerce, the prosperity of\\nbusiness, the rise in the price of food, and the great coal-strike of\\n1902. Perhaps never before in the world's history have there been\\ncrowded into five years such dramatic occurrences on the world-stage,\\nnor such large opportunities for the in...   \n",
       "\n",
       "                                                                                                                                                                                                                                                                                                                                                                            genres  \n",
       "0                                                                                                                                                                    {'21st-century', 'history', 'roman', 'classics', 'religion', 'novels', 'philosophy', 'fiction', 'literature', 'short-stories', 'politics', 'non-fiction', 'read-for-school', 'poetry', 'historical', 'humor'}  \n",
       "1                                                                                                                                                                                         {'horror', 'mystery', 'classics', 'science-fiction', 'fantasy', 'novels', 'literature', 'fiction', 'paranormal', '20th-century', 'adult', 'speculative-fiction', 'supernatural', 'dark'}  \n",
       "2  {'literary-fiction', 'history', 'biography', 'family', 'mythology', 'historical-fiction', 'non-fiction', 'historical', 'college', 'contemporary', 'high-school', 'fantasy', 'novels', 'literature', 'fiction', '20th-century', 'essays', 'school', 'adult', 'read-for-school', 'american', 'feminism', 'classics', 'short-stories', 'adult-fiction', 'memoir', 'coming-of-age'}  "
      ]
     },
     "execution_count": 2,
     "metadata": {},
     "output_type": "execute_result"
    }
   ],
   "source": [
    "import pandas as pd\n",
    "import nltk\n",
    "from nltk.tokenize import word_tokenize, sent_tokenize\n",
    "from nltk.corpus import stopwords\n",
    "from nltk.stem import WordNetLemmatizer\n",
    "from typing import Optional\n",
    "\n",
    "\"\"\"\n",
    "Loading the data\n",
    "\"\"\"\n",
    "pd.options.display.max_colwidth = 1500\n",
    "pd.options.display.max_rows = 1000\n",
    "\n",
    "df = pd.read_csv(r'books_and_genres.csv')\n",
    "\n",
    "# drop the extra index column\n",
    "df = df.drop(columns=df.columns[0])\n",
    "\n",
    "df.head(3)"
   ]
  },
  {
   "cell_type": "code",
   "execution_count": 3,
   "id": "418916c8",
   "metadata": {
    "collapsed": false,
    "jupyter": {
     "outputs_hidden": false
    },
    "pycharm": {
     "name": "#%%\n"
    }
   },
   "outputs": [
    {
     "data": {
      "text/html": [
       "<div>\n",
       "<style scoped>\n",
       "    .dataframe tbody tr th:only-of-type {\n",
       "        vertical-align: middle;\n",
       "    }\n",
       "\n",
       "    .dataframe tbody tr th {\n",
       "        vertical-align: top;\n",
       "    }\n",
       "\n",
       "    .dataframe thead th {\n",
       "        text-align: right;\n",
       "    }\n",
       "</style>\n",
       "<table border=\"1\" class=\"dataframe\">\n",
       "  <thead>\n",
       "    <tr style=\"text-align: right;\">\n",
       "      <th></th>\n",
       "      <th>title</th>\n",
       "      <th>text</th>\n",
       "      <th>genres</th>\n",
       "    </tr>\n",
       "  </thead>\n",
       "  <tbody>\n",
       "    <tr>\n",
       "      <th>0</th>\n",
       "      <td>apocolocyntosis</td>\n",
       "      <td>Produced by Ted Garvin, Ben Courtney and PG Distributed Proofreaders                            SENECA                    APOCOLOCYNTOSIS            WITH AN ENGLISH TRANSLATION BY              W.H.D. ROUSE, M.A. LITT. D.                         MCMXX      INTRODUCTION  This piece is ascribed to Seneca by ancient tradition; it is impossible to prove that it is his, and impossible to prove that it is not. The matter will probably continue to be decided by every one according to his view of Seneca's character and abilities: in the matters of style and of sentiment much may be said on both sides. Dion Cassius (lx, 35) says that Seneca composed an [Greek: apokolokuntosis] or Pumpkinification of Claudius after his death, the title being a parody of the usual [Greek: apotheosis]; but this title is not given in the MSS. of the Ludus de Morte Claudii, nor is there anything in the piece which suits the title very well.  As a literary form, the piece belongs to the class called _Satura Menippea_, a satiric medley in prose and verse.  This text is that of Buecheler, with a few trifling changes, which are indicated in the notes. We have been courteously allowed by Messrs Weidmann to use this text. I have to acknowledge the help of Mr Ball's notes, from which I have taken a few references; but my translation was made many years ago.  W.H.D. ROUSE.      BIBLIOGRAPHY  _Editio Princeps:_ Lucii Annaei Senecae in morte   Claudii Caesaris Ludus nuper repertus: Rome,   1513.  _Latest critical...</td>\n",
       "      <td>{'21st-century', 'history', 'roman', 'classics', 'religion', 'novels', 'philosophy', 'fiction', 'literature', 'short-stories', 'politics', 'non-fiction', 'read-for-school', 'poetry', 'historical', 'humor'}</td>\n",
       "    </tr>\n",
       "    <tr>\n",
       "      <th>1</th>\n",
       "      <td>the house on the borderland</td>\n",
       "      <td>Produced by Suzanne Shell, Sjaani and PG Distributed Proofreaders     THE HOUSE ON THE BORDERLAND  William Hope Hodgson   _From the Manuscript discovered in 1877 by Messrs. Tonnison and Berreggnog in the Ruins that lie to the South of the Village of Kraighten, in the West of Ireland. Set out here, with Notes_.   TO MY FATHER _(Whose feet tread the lost aeons)_  Open the door,   And listen! Only the wind's muffled roar,   And the glisten Of tears 'round the moon.   And, in fancy, the tread Of vanishing shoon--   Out in the night with the Dead.  \"Hush! And hark   To the sorrowful cry Of the wind in the dark.   Hush and hark, without murmur or sigh,     To shoon that tread the lost aeons:   To the sound that bids you to die. Hush and hark! Hush and Hark!\"                                _Shoon of the Dead_     AUTHOR'S INTRODUCTION TO THE MANUSCRIPT  Many are the hours in which I have pondered upon the story that is set forth in the following pages. I trust that my instincts are not awry when they prompt me to leave the account, in simplicity, as it was handed to me.  And the MS. itself--You must picture me, when first it was given into my care, turning it over, curiously, and making a swift, jerky examination. A small book it is; but thick, and all, save the last few pages, filled with a quaint but legible handwriting, and writ very close. I have the queer, faint, pit-water smell of it in my nostrils now as I write, and my fingers have subconscious memories of the soft, \"clo...</td>\n",
       "      <td>{'horror', 'mystery', 'classics', 'science-fiction', 'fantasy', 'novels', 'literature', 'fiction', 'paranormal', '20th-century', 'adult', 'speculative-fiction', 'supernatural', 'dark'}</td>\n",
       "    </tr>\n",
       "    <tr>\n",
       "      <th>2</th>\n",
       "      <td>the warriors</td>\n",
       "      <td>Produced by Charles Aldarondo, Charlie Kirschner and the Online Distributed Proofreading Team.     THE WARRIORS  BY ANNA ROBERTSON BROWN LINDSAY PH.D.  AUTHOR OF  WHAT IS WORTH WHILE? CULTURE AND REFORM THE VICTORY OF OUR FAITH     PREFACE  This work was begun nearly five years ago. Since then, the whole face of American history has changed. We have had the Spanish-American War, and the opening-up of our new possessions. In this period of time Gladstone, Li Hung Chang, and Queen Victoria have died; there has also occurred the assassination of the Empress of Austria and of President McKinley. There has been the Chinese persecution, the destruction of Galveston by storm and of Martinique by volcanic action. Wireless telegraphy has been discovered, and the source of the spread of certain fevers. In this time have been carried on gigantic engineering undertakings,--the Trans-Siberian Railroad, the Trans-Balkan Railroad, the rebuilding of New York. We have also looked upon the consolidation of vast forces of steel, iron, sugar, shipping, and other trusts. We have witnessed an extraordinary growth of universities, libraries, and higher schools,--the widespread increase of commerce, the prosperity of business, the rise in the price of food, and the great coal-strike of 1902. Perhaps never before in the world's history have there been crowded into five years such dramatic occurrences on the world-stage, nor such large opportunities for the individual man or woman.  It is interest...</td>\n",
       "      <td>{'literary-fiction', 'history', 'biography', 'family', 'mythology', 'historical-fiction', 'non-fiction', 'historical', 'college', 'contemporary', 'high-school', 'fantasy', 'novels', 'literature', 'fiction', '20th-century', 'essays', 'school', 'adult', 'read-for-school', 'american', 'feminism', 'classics', 'short-stories', 'adult-fiction', 'memoir', 'coming-of-age'}</td>\n",
       "    </tr>\n",
       "  </tbody>\n",
       "</table>\n",
       "</div>"
      ],
      "text/plain": [
       "                         title  \\\n",
       "0              apocolocyntosis   \n",
       "1  the house on the borderland   \n",
       "2                 the warriors   \n",
       "\n",
       "                                                                                                                                                                                                                                                                                                                                                                                                                                                                                                                                                                                                                                                                                                                                                                                                                                                                                                                                                                                                                                                                                                                                                                                                                                                                                                                                                                                                                                                                                                                                                          text  \\\n",
       "0  Produced by Ted Garvin, Ben Courtney and PG Distributed Proofreaders                            SENECA                    APOCOLOCYNTOSIS            WITH AN ENGLISH TRANSLATION BY              W.H.D. ROUSE, M.A. LITT. D.                         MCMXX      INTRODUCTION  This piece is ascribed to Seneca by ancient tradition; it is impossible to prove that it is his, and impossible to prove that it is not. The matter will probably continue to be decided by every one according to his view of Seneca's character and abilities: in the matters of style and of sentiment much may be said on both sides. Dion Cassius (lx, 35) says that Seneca composed an [Greek: apokolokuntosis] or Pumpkinification of Claudius after his death, the title being a parody of the usual [Greek: apotheosis]; but this title is not given in the MSS. of the Ludus de Morte Claudii, nor is there anything in the piece which suits the title very well.  As a literary form, the piece belongs to the class called _Satura Menippea_, a satiric medley in prose and verse.  This text is that of Buecheler, with a few trifling changes, which are indicated in the notes. We have been courteously allowed by Messrs Weidmann to use this text. I have to acknowledge the help of Mr Ball's notes, from which I have taken a few references; but my translation was made many years ago.  W.H.D. ROUSE.      BIBLIOGRAPHY  _Editio Princeps:_ Lucii Annaei Senecae in morte   Claudii Caesaris Ludus nuper repertus: Rome,   1513.  _Latest critical...   \n",
       "1  Produced by Suzanne Shell, Sjaani and PG Distributed Proofreaders     THE HOUSE ON THE BORDERLAND  William Hope Hodgson   _From the Manuscript discovered in 1877 by Messrs. Tonnison and Berreggnog in the Ruins that lie to the South of the Village of Kraighten, in the West of Ireland. Set out here, with Notes_.   TO MY FATHER _(Whose feet tread the lost aeons)_  Open the door,   And listen! Only the wind's muffled roar,   And the glisten Of tears 'round the moon.   And, in fancy, the tread Of vanishing shoon--   Out in the night with the Dead.  \"Hush! And hark   To the sorrowful cry Of the wind in the dark.   Hush and hark, without murmur or sigh,     To shoon that tread the lost aeons:   To the sound that bids you to die. Hush and hark! Hush and Hark!\"                                _Shoon of the Dead_     AUTHOR'S INTRODUCTION TO THE MANUSCRIPT  Many are the hours in which I have pondered upon the story that is set forth in the following pages. I trust that my instincts are not awry when they prompt me to leave the account, in simplicity, as it was handed to me.  And the MS. itself--You must picture me, when first it was given into my care, turning it over, curiously, and making a swift, jerky examination. A small book it is; but thick, and all, save the last few pages, filled with a quaint but legible handwriting, and writ very close. I have the queer, faint, pit-water smell of it in my nostrils now as I write, and my fingers have subconscious memories of the soft, \"clo...   \n",
       "2  Produced by Charles Aldarondo, Charlie Kirschner and the Online Distributed Proofreading Team.     THE WARRIORS  BY ANNA ROBERTSON BROWN LINDSAY PH.D.  AUTHOR OF  WHAT IS WORTH WHILE? CULTURE AND REFORM THE VICTORY OF OUR FAITH     PREFACE  This work was begun nearly five years ago. Since then, the whole face of American history has changed. We have had the Spanish-American War, and the opening-up of our new possessions. In this period of time Gladstone, Li Hung Chang, and Queen Victoria have died; there has also occurred the assassination of the Empress of Austria and of President McKinley. There has been the Chinese persecution, the destruction of Galveston by storm and of Martinique by volcanic action. Wireless telegraphy has been discovered, and the source of the spread of certain fevers. In this time have been carried on gigantic engineering undertakings,--the Trans-Siberian Railroad, the Trans-Balkan Railroad, the rebuilding of New York. We have also looked upon the consolidation of vast forces of steel, iron, sugar, shipping, and other trusts. We have witnessed an extraordinary growth of universities, libraries, and higher schools,--the widespread increase of commerce, the prosperity of business, the rise in the price of food, and the great coal-strike of 1902. Perhaps never before in the world's history have there been crowded into five years such dramatic occurrences on the world-stage, nor such large opportunities for the individual man or woman.  It is interest...   \n",
       "\n",
       "                                                                                                                                                                                                                                                                                                                                                                            genres  \n",
       "0                                                                                                                                                                    {'21st-century', 'history', 'roman', 'classics', 'religion', 'novels', 'philosophy', 'fiction', 'literature', 'short-stories', 'politics', 'non-fiction', 'read-for-school', 'poetry', 'historical', 'humor'}  \n",
       "1                                                                                                                                                                                         {'horror', 'mystery', 'classics', 'science-fiction', 'fantasy', 'novels', 'literature', 'fiction', 'paranormal', '20th-century', 'adult', 'speculative-fiction', 'supernatural', 'dark'}  \n",
       "2  {'literary-fiction', 'history', 'biography', 'family', 'mythology', 'historical-fiction', 'non-fiction', 'historical', 'college', 'contemporary', 'high-school', 'fantasy', 'novels', 'literature', 'fiction', '20th-century', 'essays', 'school', 'adult', 'read-for-school', 'american', 'feminism', 'classics', 'short-stories', 'adult-fiction', 'memoir', 'coming-of-age'}  "
      ]
     },
     "execution_count": 3,
     "metadata": {},
     "output_type": "execute_result"
    }
   ],
   "source": [
    "\"\"\"\n",
    "Basic formatting\n",
    "\"\"\"\n",
    "# stringify all text\n",
    "df['text'] = df['text'].map(str)\n",
    "df = df.replace({r'\\r\\n|\\r|\\n': ' '}, regex=True)\n",
    "\n",
    "df.head(3)"
   ]
  },
  {
   "cell_type": "code",
   "execution_count": 4,
   "id": "52329ffc",
   "metadata": {
    "collapsed": false,
    "jupyter": {
     "outputs_hidden": false
    },
    "pycharm": {
     "name": "#%%\n"
    }
   },
   "outputs": [],
   "source": [
    "\"\"\"\n",
    "Methods that will be used in the next block to try to source a published date\n",
    "\"\"\"\n",
    "import re\n",
    "import roman\n",
    "from roman import InvalidRomanNumeralError\n",
    "\n",
    "# regex for finding Gregorian or Roman publish dates\n",
    "rn_year_regex = r\"\\b(.[M{0,4}(CM|CD|D?C{0,3})(XC|XL|L?X{0,3})(IX|IV|V?I{0,3}))]{3,})\\b\"\n",
    "modern_year_regex = r\"(\\b\\d{4}\\b)\"\n",
    "valid_year_regex = f\"{modern_year_regex}|{rn_year_regex}\"\n",
    "\n",
    "# methods for finding above regex matches in text\n",
    "find_year = re.compile(\"(\" + rn_year_regex + \"|\" + modern_year_regex + \")\")\n",
    "find_modern_year = re.compile(\"(\" + modern_year_regex + \")\")\n",
    "\n",
    "\n",
    "def is_right_era(int_date: int):\n",
    "    return 1000 < int_date < 1922\n",
    "\n",
    "\n",
    "def get_valid_date(date: str) -> int:\n",
    "    try:\n",
    "        int_date = int(date)\n",
    "    except (ValueError, TypeError):\n",
    "        return 0\n",
    "\n",
    "    if is_right_era(int_date):\n",
    "        return int_date\n",
    "\n",
    "    return 0\n",
    "\n",
    "\n",
    "def convert_date(date: str) -> int:\n",
    "    if date == \"no date\":\n",
    "        return 0\n",
    "\n",
    "    valid_date = get_valid_date(date)\n",
    "    if valid_date:\n",
    "        return valid_date\n",
    "\n",
    "    # If the number cannot be found from the string, maybe it is a roman number\n",
    "    try:\n",
    "        number = roman.fromRoman(date.strip())\n",
    "    except (InvalidRomanNumeralError, TypeError, AttributeError) as e:\n",
    "        return 0\n",
    "\n",
    "    valid_date = get_valid_date(number)\n",
    "    return valid_date"
   ]
  },
  {
   "cell_type": "code",
   "execution_count": 5,
   "id": "d80a2b48",
   "metadata": {
    "collapsed": false,
    "jupyter": {
     "outputs_hidden": false
    },
    "pycharm": {
     "name": "#%%\n"
    }
   },
   "outputs": [
    {
     "name": "stdout",
     "output_type": "stream",
     "text": [
      "3721\n",
      "5611\n"
     ]
    }
   ],
   "source": [
    "\n",
    "\n",
    "\"\"\"\n",
    "Try to source a published date from the intro text of each book and write to new \"year\" column\n",
    "\"\"\"\n",
    "\n",
    "# try to find either a Roman or Gregorian year within the text of each book, and insert into the \"year\" column\n",
    "df['year'] = df['text'].map(lambda t: (find_year.search( t[0:1000]) or [\"no date\"])[0])\n",
    "\n",
    "# no date before\n",
    "print(len(df.loc[df['year'] == 'no date']))\n",
    "df['year'] = df['year'].map(convert_date)\n",
    "\n",
    "# no date after :(\n",
    "print(len(df.loc[df['year'] == 0]))\n",
    "\n"
   ]
  },
  {
   "cell_type": "code",
   "execution_count": 6,
   "id": "9df8555a",
   "metadata": {
    "collapsed": false,
    "jupyter": {
     "outputs_hidden": false
    },
    "pycharm": {
     "name": "#%%\n"
    }
   },
   "outputs": [],
   "source": [
    "\"\"\"\n",
    "Methods that will be used in the next block to try to source published date from Google Books\n",
    "\"\"\"\n",
    "\n",
    "import requests\n",
    "import time\n",
    "\n",
    "# ADD YOUR GOOGLE BOOKS API CLIENT SECRET HERE IF YOU WOULD LIKE TO RUN THIS PORTION\n",
    "secret = \"\"\n",
    "\n",
    "\n",
    "def is_valid_date(date: str) -> bool:\n",
    "    if not date.isnumeric():\n",
    "        return False\n",
    "\n",
    "    return is_right_era(int(date))\n",
    "\n",
    "# Try to source the publication date from a single book edition in the payload\n",
    "def find_publication_year_from_item(item: dict) -> Optional[int]:\n",
    "    published_date = item[\"volumeInfo\"].get(\"publishedDate\", \"\")\n",
    "\n",
    "    if published_date and is_valid_date(published_date):\n",
    "        return published_date\n",
    "\n",
    "    # if there is no valid publishedDate, search in the description text of the response\n",
    "    description = item[\"volumeInfo\"].get(\"description\", \"\")\n",
    "    possible_dates = [\n",
    "        date[0]\n",
    "        for date in find_modern_year.findall(description)\n",
    "        if is_valid_date(date[0])\n",
    "    ]\n",
    "    if possible_dates:\n",
    "        return min(possible_dates)\n",
    "\n",
    "\n",
    "# Check the Google Books API by a book's title in order to get the publication year\n",
    "def get_publication_year(title: str) -> Optional[int]:\n",
    "    if not secret:\n",
    "        print(\n",
    "            'Please assign value to \"secret\" variable above with your Google Books API key'\n",
    "        )\n",
    "        return\n",
    "\n",
    "    # avoid per-minute rate limiting\n",
    "    time.sleep(0.05)\n",
    "    url = f\"https://www.googleapis.com/books/v1/volumes?q={title}&key={secret}\"\n",
    "    response = requests.get(url)\n",
    "\n",
    "    items = response.json().get(\"items\")\n",
    "    if not items:\n",
    "        print(\"No matches found for \", title, response.json())\n",
    "        return 0\n",
    "\n",
    "    possible_years = [\n",
    "        found\n",
    "        for item in items\n",
    "        if (found := find_publication_year_from_item(item)) is not None\n",
    "    ]\n",
    "\n",
    "    if possible_years:\n",
    "        year = min(possible_years)\n",
    "        print(f\"{title}: {year}\")\n",
    "        return year\n",
    "\n",
    "    print(\"could not find year for title \", title)\n",
    "    return 0"
   ]
  },
  {
   "cell_type": "code",
   "execution_count": 7,
   "id": "2ec00f9e",
   "metadata": {
    "collapsed": false,
    "jupyter": {
     "outputs_hidden": false
    },
    "pycharm": {
     "name": "#%%\n"
    }
   },
   "outputs": [
    {
     "data": {
      "text/html": [
       "<div>\n",
       "<style scoped>\n",
       "    .dataframe tbody tr th:only-of-type {\n",
       "        vertical-align: middle;\n",
       "    }\n",
       "\n",
       "    .dataframe tbody tr th {\n",
       "        vertical-align: top;\n",
       "    }\n",
       "\n",
       "    .dataframe thead th {\n",
       "        text-align: right;\n",
       "    }\n",
       "</style>\n",
       "<table border=\"1\" class=\"dataframe\">\n",
       "  <thead>\n",
       "    <tr style=\"text-align: right;\">\n",
       "      <th></th>\n",
       "      <th>title</th>\n",
       "      <th>text</th>\n",
       "      <th>year</th>\n",
       "    </tr>\n",
       "  </thead>\n",
       "  <tbody>\n",
       "    <tr>\n",
       "      <th>0</th>\n",
       "      <td>apocolocyntosis</td>\n",
       "      <td>Produced by Ted Garvin, Ben Courtney and PG Distributed Proofreaders                            SENECA                    APOCOLOCYNTOSIS            WITH AN ENGLISH TRANSLATION BY              W.H.D. ROUSE, M.A. LITT. D.                         MCMXX      INTRODUCTION  This piece is ascribed to Seneca by ancient tradition; it is impossible to prove that it is his, and impossible to prove that it is not. The matter will probably continue to be decided by every one according to his view of Seneca's character and abilities: in the matters of style and of sentiment much may be said on both sides. Dion Cassius (lx, 35) says that Seneca composed an [Greek: apokolokuntosis] or Pumpkinification of Claudius after his death, the title being a parody of the usual [Greek: apotheosis]; but this title is not given in the MSS. of the Ludus de Morte Claudii, nor is there anything in the piece which suits the title very well.  As a literary form, the piece belongs to the class called _Satura Menippea_, a satiric medley in prose and verse.  This text is that of Buecheler, with a few trifling changes, which are indicated in the notes. We have been courteously allowed by Messrs Weidmann to use this text. I have to acknowledge the help of Mr Ball's notes, from which I have taken a few references; but my translation was made many years ago.  W.H.D. ROUSE.      BIBLIOGRAPHY  _Editio Princeps:_ Lucii Annaei Senecae in morte   Claudii Caesaris Ludus nuper repertus: Rome,   1513.  _Latest critical...</td>\n",
       "      <td>1920</td>\n",
       "    </tr>\n",
       "    <tr>\n",
       "      <th>1</th>\n",
       "      <td>the house on the borderland</td>\n",
       "      <td>Produced by Suzanne Shell, Sjaani and PG Distributed Proofreaders     THE HOUSE ON THE BORDERLAND  William Hope Hodgson   _From the Manuscript discovered in 1877 by Messrs. Tonnison and Berreggnog in the Ruins that lie to the South of the Village of Kraighten, in the West of Ireland. Set out here, with Notes_.   TO MY FATHER _(Whose feet tread the lost aeons)_  Open the door,   And listen! Only the wind's muffled roar,   And the glisten Of tears 'round the moon.   And, in fancy, the tread Of vanishing shoon--   Out in the night with the Dead.  \"Hush! And hark   To the sorrowful cry Of the wind in the dark.   Hush and hark, without murmur or sigh,     To shoon that tread the lost aeons:   To the sound that bids you to die. Hush and hark! Hush and Hark!\"                                _Shoon of the Dead_     AUTHOR'S INTRODUCTION TO THE MANUSCRIPT  Many are the hours in which I have pondered upon the story that is set forth in the following pages. I trust that my instincts are not awry when they prompt me to leave the account, in simplicity, as it was handed to me.  And the MS. itself--You must picture me, when first it was given into my care, turning it over, curiously, and making a swift, jerky examination. A small book it is; but thick, and all, save the last few pages, filled with a quaint but legible handwriting, and writ very close. I have the queer, faint, pit-water smell of it in my nostrils now as I write, and my fingers have subconscious memories of the soft, \"clo...</td>\n",
       "      <td>1877</td>\n",
       "    </tr>\n",
       "    <tr>\n",
       "      <th>2</th>\n",
       "      <td>the warriors</td>\n",
       "      <td>Produced by Charles Aldarondo, Charlie Kirschner and the Online Distributed Proofreading Team.     THE WARRIORS  BY ANNA ROBERTSON BROWN LINDSAY PH.D.  AUTHOR OF  WHAT IS WORTH WHILE? CULTURE AND REFORM THE VICTORY OF OUR FAITH     PREFACE  This work was begun nearly five years ago. Since then, the whole face of American history has changed. We have had the Spanish-American War, and the opening-up of our new possessions. In this period of time Gladstone, Li Hung Chang, and Queen Victoria have died; there has also occurred the assassination of the Empress of Austria and of President McKinley. There has been the Chinese persecution, the destruction of Galveston by storm and of Martinique by volcanic action. Wireless telegraphy has been discovered, and the source of the spread of certain fevers. In this time have been carried on gigantic engineering undertakings,--the Trans-Siberian Railroad, the Trans-Balkan Railroad, the rebuilding of New York. We have also looked upon the consolidation of vast forces of steel, iron, sugar, shipping, and other trusts. We have witnessed an extraordinary growth of universities, libraries, and higher schools,--the widespread increase of commerce, the prosperity of business, the rise in the price of food, and the great coal-strike of 1902. Perhaps never before in the world's history have there been crowded into five years such dramatic occurrences on the world-stage, nor such large opportunities for the individual man or woman.  It is interest...</td>\n",
       "      <td>0</td>\n",
       "    </tr>\n",
       "  </tbody>\n",
       "</table>\n",
       "</div>"
      ],
      "text/plain": [
       "                         title  \\\n",
       "0              apocolocyntosis   \n",
       "1  the house on the borderland   \n",
       "2                 the warriors   \n",
       "\n",
       "                                                                                                                                                                                                                                                                                                                                                                                                                                                                                                                                                                                                                                                                                                                                                                                                                                                                                                                                                                                                                                                                                                                                                                                                                                                                                                                                                                                                                                                                                                                                                          text  \\\n",
       "0  Produced by Ted Garvin, Ben Courtney and PG Distributed Proofreaders                            SENECA                    APOCOLOCYNTOSIS            WITH AN ENGLISH TRANSLATION BY              W.H.D. ROUSE, M.A. LITT. D.                         MCMXX      INTRODUCTION  This piece is ascribed to Seneca by ancient tradition; it is impossible to prove that it is his, and impossible to prove that it is not. The matter will probably continue to be decided by every one according to his view of Seneca's character and abilities: in the matters of style and of sentiment much may be said on both sides. Dion Cassius (lx, 35) says that Seneca composed an [Greek: apokolokuntosis] or Pumpkinification of Claudius after his death, the title being a parody of the usual [Greek: apotheosis]; but this title is not given in the MSS. of the Ludus de Morte Claudii, nor is there anything in the piece which suits the title very well.  As a literary form, the piece belongs to the class called _Satura Menippea_, a satiric medley in prose and verse.  This text is that of Buecheler, with a few trifling changes, which are indicated in the notes. We have been courteously allowed by Messrs Weidmann to use this text. I have to acknowledge the help of Mr Ball's notes, from which I have taken a few references; but my translation was made many years ago.  W.H.D. ROUSE.      BIBLIOGRAPHY  _Editio Princeps:_ Lucii Annaei Senecae in morte   Claudii Caesaris Ludus nuper repertus: Rome,   1513.  _Latest critical...   \n",
       "1  Produced by Suzanne Shell, Sjaani and PG Distributed Proofreaders     THE HOUSE ON THE BORDERLAND  William Hope Hodgson   _From the Manuscript discovered in 1877 by Messrs. Tonnison and Berreggnog in the Ruins that lie to the South of the Village of Kraighten, in the West of Ireland. Set out here, with Notes_.   TO MY FATHER _(Whose feet tread the lost aeons)_  Open the door,   And listen! Only the wind's muffled roar,   And the glisten Of tears 'round the moon.   And, in fancy, the tread Of vanishing shoon--   Out in the night with the Dead.  \"Hush! And hark   To the sorrowful cry Of the wind in the dark.   Hush and hark, without murmur or sigh,     To shoon that tread the lost aeons:   To the sound that bids you to die. Hush and hark! Hush and Hark!\"                                _Shoon of the Dead_     AUTHOR'S INTRODUCTION TO THE MANUSCRIPT  Many are the hours in which I have pondered upon the story that is set forth in the following pages. I trust that my instincts are not awry when they prompt me to leave the account, in simplicity, as it was handed to me.  And the MS. itself--You must picture me, when first it was given into my care, turning it over, curiously, and making a swift, jerky examination. A small book it is; but thick, and all, save the last few pages, filled with a quaint but legible handwriting, and writ very close. I have the queer, faint, pit-water smell of it in my nostrils now as I write, and my fingers have subconscious memories of the soft, \"clo...   \n",
       "2  Produced by Charles Aldarondo, Charlie Kirschner and the Online Distributed Proofreading Team.     THE WARRIORS  BY ANNA ROBERTSON BROWN LINDSAY PH.D.  AUTHOR OF  WHAT IS WORTH WHILE? CULTURE AND REFORM THE VICTORY OF OUR FAITH     PREFACE  This work was begun nearly five years ago. Since then, the whole face of American history has changed. We have had the Spanish-American War, and the opening-up of our new possessions. In this period of time Gladstone, Li Hung Chang, and Queen Victoria have died; there has also occurred the assassination of the Empress of Austria and of President McKinley. There has been the Chinese persecution, the destruction of Galveston by storm and of Martinique by volcanic action. Wireless telegraphy has been discovered, and the source of the spread of certain fevers. In this time have been carried on gigantic engineering undertakings,--the Trans-Siberian Railroad, the Trans-Balkan Railroad, the rebuilding of New York. We have also looked upon the consolidation of vast forces of steel, iron, sugar, shipping, and other trusts. We have witnessed an extraordinary growth of universities, libraries, and higher schools,--the widespread increase of commerce, the prosperity of business, the rise in the price of food, and the great coal-strike of 1902. Perhaps never before in the world's history have there been crowded into five years such dramatic occurrences on the world-stage, nor such large opportunities for the individual man or woman.  It is interest...   \n",
       "\n",
       "   year  \n",
       "0  1920  \n",
       "1  1877  \n",
       "2     0  "
      ]
     },
     "execution_count": 7,
     "metadata": {},
     "output_type": "execute_result"
    }
   ],
   "source": [
    "\"\"\"\n",
    "Loop over the rows missing a publication year and run the above methods to attempt to fill it.\n",
    "This needs to be done in batches because of rate limiting.\n",
    "\n",
    "CSV with saved results imported in file in leui of live fetching. See commented out block below\n",
    "if you would like to test it (you will need a Google Book API client key)\n",
    "\"\"\"\n",
    "\n",
    "# If you would like to test this out, uncomment the block below and use your own secret key in the block above\n",
    "# dfcopy = df.copy()[0:100]\n",
    "# dfcopy.loc[dfcopy['year'] == 0, 'year'] = dfcopy.loc[dfcopy['year'] == 0]['title'].apply(get_publication_year)\n",
    "\n",
    "# read from the already compiled set instead of fetching live from Google Books API\n",
    "dfFull = pd.read_csv(\"fullset.csv\")\n",
    "\n",
    "# Extra formatting!\n",
    "# Force the year into an int and the text into a string\n",
    "dfFull.year = dfFull.year.astype(\"int\")\n",
    "dfFull[\"text\"] = dfFull[\"text\"].astype(str)\n",
    "\n",
    "# Drop the \"genres\" column as we will not use it\n",
    "dfFull = dfFull.drop(\"genres\", axis=1)\n",
    "dfFull.head(3)"
   ]
  },
  {
   "cell_type": "code",
   "execution_count": 8,
   "id": "437dadc5",
   "metadata": {
    "collapsed": false,
    "jupyter": {
     "outputs_hidden": false
    },
    "pycharm": {
     "name": "#%%\n"
    }
   },
   "outputs": [],
   "source": [
    "\"\"\"\n",
    "Helper method to determine whether a certain book has adequately long text\n",
    "\"\"\"\n",
    "MIN_FULL_TEXT = 15000\n",
    "\n",
    "def is_acceptable_length(text: str, length: int = MIN_FULL_TEXT):\n",
    "    if not isinstance(text, str) or len(text) < length:\n",
    "        return False\n",
    "\n",
    "    return True"
   ]
  },
  {
   "cell_type": "code",
   "execution_count": 9,
   "id": "ebce580a",
   "metadata": {
    "collapsed": false,
    "jupyter": {
     "outputs_hidden": false
    },
    "pycharm": {
     "name": "#%%\n"
    }
   },
   "outputs": [
    {
     "name": "stdout",
     "output_type": "stream",
     "text": [
      "Book count before removing undated and outliers:  10633\n",
      "Number of books without dates to be removed:  946\n",
      "Number of books from before 1775, to be removed:  975\n",
      "Number of books from after 1922, to be removed:  143\n",
      "Number of books with too short or absent text, to be removed:  460\n",
      "Dropping duplicates\n",
      "New book count:  7279\n"
     ]
    },
    {
     "data": {
      "text/html": [
       "<div>\n",
       "<style scoped>\n",
       "    .dataframe tbody tr th:only-of-type {\n",
       "        vertical-align: middle;\n",
       "    }\n",
       "\n",
       "    .dataframe tbody tr th {\n",
       "        vertical-align: top;\n",
       "    }\n",
       "\n",
       "    .dataframe thead th {\n",
       "        text-align: right;\n",
       "    }\n",
       "</style>\n",
       "<table border=\"1\" class=\"dataframe\">\n",
       "  <thead>\n",
       "    <tr style=\"text-align: right;\">\n",
       "      <th></th>\n",
       "      <th>title</th>\n",
       "      <th>text</th>\n",
       "      <th>year</th>\n",
       "    </tr>\n",
       "  </thead>\n",
       "  <tbody>\n",
       "    <tr>\n",
       "      <th>0</th>\n",
       "      <td>apocolocyntosis</td>\n",
       "      <td>Produced by Ted Garvin, Ben Courtney and PG Distributed Proofreaders                            SENECA                    APOCOLOCYNTOSIS            WITH AN ENGLISH TRANSLATION BY              W.H.D. ROUSE, M.A. LITT. D.                         MCMXX      INTRODUCTION  This piece is ascribed to Seneca by ancient tradition; it is impossible to prove that it is his, and impossible to prove that it is not. The matter will probably continue to be decided by every one according to his view of Seneca's character and abilities: in the matters of style and of sentiment much may be said on both sides. Dion Cassius (lx, 35) says that Seneca composed an [Greek: apokolokuntosis] or Pumpkinification of Claudius after his death, the title being a parody of the usual [Greek: apotheosis]; but this title is not given in the MSS. of the Ludus de Morte Claudii, nor is there anything in the piece which suits the title very well.  As a literary form, the piece belongs to the class called _Satura Menippea_, a satiric medley in prose and verse.  This text is that of Buecheler, with a few trifling changes, which are indicated in the notes. We have been courteously allowed by Messrs Weidmann to use this text. I have to acknowledge the help of Mr Ball's notes, from which I have taken a few references; but my translation was made many years ago.  W.H.D. ROUSE.      BIBLIOGRAPHY  _Editio Princeps:_ Lucii Annaei Senecae in morte   Claudii Caesaris Ludus nuper repertus: Rome,   1513.  _Latest critical...</td>\n",
       "      <td>1920</td>\n",
       "    </tr>\n",
       "    <tr>\n",
       "      <th>1</th>\n",
       "      <td>the house on the borderland</td>\n",
       "      <td>Produced by Suzanne Shell, Sjaani and PG Distributed Proofreaders     THE HOUSE ON THE BORDERLAND  William Hope Hodgson   _From the Manuscript discovered in 1877 by Messrs. Tonnison and Berreggnog in the Ruins that lie to the South of the Village of Kraighten, in the West of Ireland. Set out here, with Notes_.   TO MY FATHER _(Whose feet tread the lost aeons)_  Open the door,   And listen! Only the wind's muffled roar,   And the glisten Of tears 'round the moon.   And, in fancy, the tread Of vanishing shoon--   Out in the night with the Dead.  \"Hush! And hark   To the sorrowful cry Of the wind in the dark.   Hush and hark, without murmur or sigh,     To shoon that tread the lost aeons:   To the sound that bids you to die. Hush and hark! Hush and Hark!\"                                _Shoon of the Dead_     AUTHOR'S INTRODUCTION TO THE MANUSCRIPT  Many are the hours in which I have pondered upon the story that is set forth in the following pages. I trust that my instincts are not awry when they prompt me to leave the account, in simplicity, as it was handed to me.  And the MS. itself--You must picture me, when first it was given into my care, turning it over, curiously, and making a swift, jerky examination. A small book it is; but thick, and all, save the last few pages, filled with a quaint but legible handwriting, and writ very close. I have the queer, faint, pit-water smell of it in my nostrils now as I write, and my fingers have subconscious memories of the soft, \"clo...</td>\n",
       "      <td>1877</td>\n",
       "    </tr>\n",
       "    <tr>\n",
       "      <th>3</th>\n",
       "      <td>a voyage to the moon</td>\n",
       "      <td>Produced by Christine De Ryck, Stig M. Valstad, Suzanne L. Shell and PG Distributed Proofreaders                           A              VOYAGE TO THE MOON:                      WITH                  SOME ACCOUNT                     OF THE   MANNERS AND CUSTOMS, SCIENCE AND PHILOSOPHY,                     OF THE               PEOPLE OF MOROSOFIA,                      AND                 OTHER LUNARIANS.            BY GEORGE TUCKER (JOSEPH ATTERLEY)         \"It is the very error of the moon,     She comes more near the earth than she was wont,     And makes men mad.\"--_Othello_.                        1827        CONTENTS.         CHAPTER I.  Atterley's birth and education--He makes a voyage--   Founders off the Burman coast--Adventures in   that Empire--Meets with a learned Brahmin from   Benares.       CHAPTER II.  The Brahmin's illness--He reveals an important secret   to Atterley--Curious information concerning the   Moon--The Glonglims--They plan a voyage to   the Moon.       CHAPTER III.  The Brahmin and Atterley prepare for their voyage--   Description of their travelling machine--Incidents   of the voyage--The appearance of the earth;   Africa; Greece--The Brahmin's speculations on   the different races of men--National character.       CHAPTER IV.  Continuation of the voyage--View of Europe; Atlantic   Ocean; America--Speculations on the future   destiny of the United States--Moral reflections--   Pacific Ocean--Hypothesis on the origin of the   Moon.       CHAPT...</td>\n",
       "      <td>1827</td>\n",
       "    </tr>\n",
       "    <tr>\n",
       "      <th>4</th>\n",
       "      <td>la fiammetta</td>\n",
       "      <td>Produced by Ted Garvin, Dave Morgan and PG Distributed Proofreaders     LA FIAMMETTA  BY  GIOVANNI BOCCACCIO   TRANSLATED BY JAMES C. BROGAN  1907.     INTRODUCTION   Youth, beauty, and love, wit, gayety and laughter, are the component parts of the delightful picture conjured up by the mere name of Giovanni Boccaccio, the prince of story-tellers for all generations of men. This creator of a real literary epoch was born in Paris, in 1313, (in the eleventh year of Dante's exile), of an Italian father and a French-woman of good family. His father was a merchant of Florence, whither he returned with his son when the child was seven years old. The boy received some education, but was placed in a counting-house when he was only thirteen, and at seventeen he was sent by his father to Naples to enter another commercial establishment. But he disliked commerce, and finally persuaded his father to allow him to study law for two years at the University of Naples, during which period the lively and attractive youth made brisk use of his leisure time in that gay and romantic city, where he made his way into the highest circles of society, and unconsciously gleaned the material for the rich harvest of song and story that came with his later years. At this time he was present at the coronation of the poet Petrarch in the Capitol, and was fired with admiration for the second greatest poet of that day. He chose Petrarch for his model and guide, and in riper manhood became his most intimate...</td>\n",
       "      <td>1907</td>\n",
       "    </tr>\n",
       "    <tr>\n",
       "      <th>5</th>\n",
       "      <td>carmilla</td>\n",
       "      <td>Produced by Suzanne Shell, Sjaani and PG Distributed Proofreaders     CARMILLA  J. Sheridan LeFanu  1872    PROLOGUE  _Upon a paper attached to the Narrative which follows, Doctor Hesselius has written a rather elaborate note, which he accompanies with a reference to his Essay on the strange subject which the MS. illuminates.  This mysterious subject he treats, in that Essay, with his usual learning and acumen, and with remarkable directness and condensation. It will form but one volume of the series of that extraordinary man's collected papers.  As I publish the case, in this volume, simply to interest the \"laity,\" I shall forestall the intelligent lady, who relates it, in nothing; and after due consideration, I have determined, therefore, to abstain from presenting any précis of the learned Doctor's reasoning, or extract from his statement on a subject which he describes as \"involving, not improbably, some of the profoundest arcana of our dual existence, and its intermediates.\"  I was anxious on discovering this paper, to reopen the correspondence commenced by Doctor Hesselius, so many years before, with a person so clever and careful as his informant seems to have been. Much to my regret, however, I found that she had died in the interval.  She, probably, could have added little to the Narrative _which she communicates in the following pages, with, so far as I can pronounce, such conscientious particularity_.    I  _An Early Fright_  In Styria, we, though by no means m...</td>\n",
       "      <td>1872</td>\n",
       "    </tr>\n",
       "  </tbody>\n",
       "</table>\n",
       "</div>"
      ],
      "text/plain": [
       "                         title  \\\n",
       "0              apocolocyntosis   \n",
       "1  the house on the borderland   \n",
       "3         a voyage to the moon   \n",
       "4                 la fiammetta   \n",
       "5                     carmilla   \n",
       "\n",
       "                                                                                                                                                                                                                                                                                                                                                                                                                                                                                                                                                                                                                                                                                                                                                                                                                                                                                                                                                                                                                                                                                                                                                                                                                                                                                                                                                                                                                                                                                                                                                          text  \\\n",
       "0  Produced by Ted Garvin, Ben Courtney and PG Distributed Proofreaders                            SENECA                    APOCOLOCYNTOSIS            WITH AN ENGLISH TRANSLATION BY              W.H.D. ROUSE, M.A. LITT. D.                         MCMXX      INTRODUCTION  This piece is ascribed to Seneca by ancient tradition; it is impossible to prove that it is his, and impossible to prove that it is not. The matter will probably continue to be decided by every one according to his view of Seneca's character and abilities: in the matters of style and of sentiment much may be said on both sides. Dion Cassius (lx, 35) says that Seneca composed an [Greek: apokolokuntosis] or Pumpkinification of Claudius after his death, the title being a parody of the usual [Greek: apotheosis]; but this title is not given in the MSS. of the Ludus de Morte Claudii, nor is there anything in the piece which suits the title very well.  As a literary form, the piece belongs to the class called _Satura Menippea_, a satiric medley in prose and verse.  This text is that of Buecheler, with a few trifling changes, which are indicated in the notes. We have been courteously allowed by Messrs Weidmann to use this text. I have to acknowledge the help of Mr Ball's notes, from which I have taken a few references; but my translation was made many years ago.  W.H.D. ROUSE.      BIBLIOGRAPHY  _Editio Princeps:_ Lucii Annaei Senecae in morte   Claudii Caesaris Ludus nuper repertus: Rome,   1513.  _Latest critical...   \n",
       "1  Produced by Suzanne Shell, Sjaani and PG Distributed Proofreaders     THE HOUSE ON THE BORDERLAND  William Hope Hodgson   _From the Manuscript discovered in 1877 by Messrs. Tonnison and Berreggnog in the Ruins that lie to the South of the Village of Kraighten, in the West of Ireland. Set out here, with Notes_.   TO MY FATHER _(Whose feet tread the lost aeons)_  Open the door,   And listen! Only the wind's muffled roar,   And the glisten Of tears 'round the moon.   And, in fancy, the tread Of vanishing shoon--   Out in the night with the Dead.  \"Hush! And hark   To the sorrowful cry Of the wind in the dark.   Hush and hark, without murmur or sigh,     To shoon that tread the lost aeons:   To the sound that bids you to die. Hush and hark! Hush and Hark!\"                                _Shoon of the Dead_     AUTHOR'S INTRODUCTION TO THE MANUSCRIPT  Many are the hours in which I have pondered upon the story that is set forth in the following pages. I trust that my instincts are not awry when they prompt me to leave the account, in simplicity, as it was handed to me.  And the MS. itself--You must picture me, when first it was given into my care, turning it over, curiously, and making a swift, jerky examination. A small book it is; but thick, and all, save the last few pages, filled with a quaint but legible handwriting, and writ very close. I have the queer, faint, pit-water smell of it in my nostrils now as I write, and my fingers have subconscious memories of the soft, \"clo...   \n",
       "3  Produced by Christine De Ryck, Stig M. Valstad, Suzanne L. Shell and PG Distributed Proofreaders                           A              VOYAGE TO THE MOON:                      WITH                  SOME ACCOUNT                     OF THE   MANNERS AND CUSTOMS, SCIENCE AND PHILOSOPHY,                     OF THE               PEOPLE OF MOROSOFIA,                      AND                 OTHER LUNARIANS.            BY GEORGE TUCKER (JOSEPH ATTERLEY)         \"It is the very error of the moon,     She comes more near the earth than she was wont,     And makes men mad.\"--_Othello_.                        1827        CONTENTS.         CHAPTER I.  Atterley's birth and education--He makes a voyage--   Founders off the Burman coast--Adventures in   that Empire--Meets with a learned Brahmin from   Benares.       CHAPTER II.  The Brahmin's illness--He reveals an important secret   to Atterley--Curious information concerning the   Moon--The Glonglims--They plan a voyage to   the Moon.       CHAPTER III.  The Brahmin and Atterley prepare for their voyage--   Description of their travelling machine--Incidents   of the voyage--The appearance of the earth;   Africa; Greece--The Brahmin's speculations on   the different races of men--National character.       CHAPTER IV.  Continuation of the voyage--View of Europe; Atlantic   Ocean; America--Speculations on the future   destiny of the United States--Moral reflections--   Pacific Ocean--Hypothesis on the origin of the   Moon.       CHAPT...   \n",
       "4  Produced by Ted Garvin, Dave Morgan and PG Distributed Proofreaders     LA FIAMMETTA  BY  GIOVANNI BOCCACCIO   TRANSLATED BY JAMES C. BROGAN  1907.     INTRODUCTION   Youth, beauty, and love, wit, gayety and laughter, are the component parts of the delightful picture conjured up by the mere name of Giovanni Boccaccio, the prince of story-tellers for all generations of men. This creator of a real literary epoch was born in Paris, in 1313, (in the eleventh year of Dante's exile), of an Italian father and a French-woman of good family. His father was a merchant of Florence, whither he returned with his son when the child was seven years old. The boy received some education, but was placed in a counting-house when he was only thirteen, and at seventeen he was sent by his father to Naples to enter another commercial establishment. But he disliked commerce, and finally persuaded his father to allow him to study law for two years at the University of Naples, during which period the lively and attractive youth made brisk use of his leisure time in that gay and romantic city, where he made his way into the highest circles of society, and unconsciously gleaned the material for the rich harvest of song and story that came with his later years. At this time he was present at the coronation of the poet Petrarch in the Capitol, and was fired with admiration for the second greatest poet of that day. He chose Petrarch for his model and guide, and in riper manhood became his most intimate...   \n",
       "5  Produced by Suzanne Shell, Sjaani and PG Distributed Proofreaders     CARMILLA  J. Sheridan LeFanu  1872    PROLOGUE  _Upon a paper attached to the Narrative which follows, Doctor Hesselius has written a rather elaborate note, which he accompanies with a reference to his Essay on the strange subject which the MS. illuminates.  This mysterious subject he treats, in that Essay, with his usual learning and acumen, and with remarkable directness and condensation. It will form but one volume of the series of that extraordinary man's collected papers.  As I publish the case, in this volume, simply to interest the \"laity,\" I shall forestall the intelligent lady, who relates it, in nothing; and after due consideration, I have determined, therefore, to abstain from presenting any précis of the learned Doctor's reasoning, or extract from his statement on a subject which he describes as \"involving, not improbably, some of the profoundest arcana of our dual existence, and its intermediates.\"  I was anxious on discovering this paper, to reopen the correspondence commenced by Doctor Hesselius, so many years before, with a person so clever and careful as his informant seems to have been. Much to my regret, however, I found that she had died in the interval.  She, probably, could have added little to the Narrative _which she communicates in the following pages, with, so far as I can pronounce, such conscientious particularity_.    I  _An Early Fright_  In Styria, we, though by no means m...   \n",
       "\n",
       "   year  \n",
       "0  1920  \n",
       "1  1877  \n",
       "3  1827  \n",
       "4  1907  \n",
       "5  1872  "
      ]
     },
     "execution_count": 9,
     "metadata": {},
     "output_type": "execute_result"
    }
   ],
   "source": [
    "print(\"Book count before removing undated and outliers: \", len(dfFull))\n",
    "\n",
    "print(\"Number of books without dates to be removed: \", len(dfFull.loc[dfFull.year == 0]))\n",
    "dfFull = dfFull.drop(dfFull[dfFull.year == 0].index)\n",
    "\n",
    "# drop the books from before 1775 - not enough examples\n",
    "print(\"Number of books from before 1775, to be removed: \",len(dfFull.loc[dfFull.year < 1775]))\n",
    "dfFull = dfFull.drop(dfFull[dfFull.year < 1775].index)\n",
    "\n",
    "# drop books after 1922 - these are errors\n",
    "print(\"Number of books from after 1922, to be removed: \", len(dfFull.loc[dfFull.year > 1922]))\n",
    "dfFull = dfFull.drop(dfFull[dfFull.year > 1922].index)\n",
    "\n",
    "# drop any books without text or not enough text\n",
    "print(\"Number of books with too short or absent text, to be removed: \", len(dfFull[dfFull.text.apply(is_acceptable_length) == False]))\n",
    "dfFull = dfFull.drop(dfFull[dfFull.text.apply(is_acceptable_length) == False].index)\n",
    "\n",
    "print(\"Dropping duplicates\")\n",
    "dfFull = dfFull.drop_duplicates(subset=\"title\", keep=\"first\")\n",
    "\n",
    "print(\"New book count: \", len(dfFull))\n",
    "\n",
    "dfFull.head()"
   ]
  },
  {
   "cell_type": "markdown",
   "id": "01424401",
   "metadata": {
    "pycharm": {
     "name": "#%% md\n"
    }
   },
   "source": [
    "Histogram of the distribution of publication year. Data is heavily skewed towards the later years of the set. The first 75 years of the dataset contains only ~1/3 of the total amount of books, while the last 72 years of the date range of the set contains 2/3rds of the total books. A full 45% of the books are from 1900-1922."
   ]
  },
  {
   "cell_type": "code",
   "execution_count": 10,
   "id": "d8e8b1c8",
   "metadata": {
    "collapsed": false,
    "jupyter": {
     "outputs_hidden": false
    },
    "pycharm": {
     "name": "#%%\n"
    }
   },
   "outputs": [
    {
     "name": "stdout",
     "output_type": "stream",
     "text": [
      "Between 1775-1850 books: 32%\n",
      "Between 1850-1900 books:23%\n",
      "Between 1900-1922 books: 45%\n"
     ]
    },
    {
     "data": {
      "text/plain": [
       "Text(0.5, 1.05, 'Distribution of books across year published')"
      ]
     },
     "execution_count": 10,
     "metadata": {},
     "output_type": "execute_result"
    },
    {
     "data": {
      "image/png": "[encoded data removed]",
      "text/plain": [
       "<Figure size 432x288 with 1 Axes>"
      ]
     },
     "metadata": {
      "needs_background": "light"
     },
     "output_type": "display_data"
    }
   ],
   "source": [
    "import matplotlib.pyplot as plt\n",
    "\n",
    "# uncomment this statement to see the count for each year\n",
    "# print(dfFull['year'].value_counts(ascending=True).sort_index())\n",
    "print(\n",
    "    f\"Between 1775-1850 books: {round(len(dfFull.loc[dfFull.year < 1875]) / len(dfFull) * 100)}%\"\n",
    ")\n",
    "print(\n",
    "    f\"Between 1850-1900 books:{round(len(dfFull.loc[(dfFull.year >= 1875) & (dfFull.year < 1900)]) / len(dfFull) * 100)}%\"\n",
    ")\n",
    "print(\n",
    "    f\"Between 1900-1922 books: {round(len(dfFull.loc[(dfFull.year >= 1900) & (dfFull.year <= 1922)]) / len(dfFull) * 100)}%\"\n",
    ")\n",
    "\n",
    "dfFull.plot(kind=\"hist\", title=\"Publication Year\")\n",
    "plt.suptitle(\n",
    "    \"Distribution of books across year published\",\n",
    "    x=0.5,\n",
    "    y=1.05,\n",
    "    ha=\"center\",\n",
    "    fontsize=\"x-large\",\n",
    ")"
   ]
  },
  {
   "cell_type": "code",
   "execution_count": 11,
   "id": "95de743f",
   "metadata": {
    "collapsed": false,
    "jupyter": {
     "outputs_hidden": false
    },
    "pycharm": {
     "name": "#%%\n"
    }
   },
   "outputs": [],
   "source": [
    "\"\"\"\n",
    "Define testing and training books\n",
    "\"\"\"\n",
    "# testing books are every 5th book for each year according to the original dataset\n",
    "# or if there are fewer than 5 books, the first book.\n",
    "testing_books = []\n",
    "did_it = []\n",
    "\n",
    "for year in range(1775, 1923):\n",
    "    books_from_year = list(dfFull[dfFull.year == year].index)\n",
    "    if len(books_from_year) < 5:\n",
    "        testing_books.append(books_from_year[0])\n",
    "    testing_books.extend(books_from_year[::5])  # we want 20% testing dat\n",
    "\n",
    "\n",
    "def get_is_testing(row):\n",
    "    if row.name in testing_books:\n",
    "        did_it.append(row.name)\n",
    "        row[\"test\"] = True\n",
    "    else:\n",
    "        row[\"test\"] = False\n",
    "    return row\n",
    "\n",
    "\n",
    "dfFull = dfFull.apply(get_is_testing, axis=1)"
   ]
  },
  {
   "cell_type": "markdown",
   "id": "1f9716d9",
   "metadata": {
    "pycharm": {
     "name": "#%% md\n"
    }
   },
   "source": [
    "To have a more even distribution of the dataset, as well as to have more manageable data points that the text of an entire book, I create 200 data points for each year represented in the set. The 200 points are 5000 character portions of the books attributed to that year. For years with only a few books, the points from that year will have less variety, perhaps yielding worse results than the years with a variety of different books. I do this before tokenizing and other processing the text as the process will be less intense once the texts have been truncated."
   ]
  },
  {
   "cell_type": "code",
   "execution_count": 39,
   "id": "e056d298",
   "metadata": {
    "collapsed": false,
    "jupyter": {
     "outputs_hidden": false
    },
    "pycharm": {
     "name": "#%%\n"
    }
   },
   "outputs": [
    {
     "name": "stdout",
     "output_type": "stream",
     "text": [
      "29600\n"
     ]
    },
    {
     "data": {
      "text/html": [
       "<div>\n",
       "<style scoped>\n",
       "    .dataframe tbody tr th:only-of-type {\n",
       "        vertical-align: middle;\n",
       "    }\n",
       "\n",
       "    .dataframe tbody tr th {\n",
       "        vertical-align: top;\n",
       "    }\n",
       "\n",
       "    .dataframe thead th {\n",
       "        text-align: right;\n",
       "    }\n",
       "</style>\n",
       "<table border=\"1\" class=\"dataframe\">\n",
       "  <thead>\n",
       "    <tr style=\"text-align: right;\">\n",
       "      <th></th>\n",
       "      <th>title</th>\n",
       "      <th>passage</th>\n",
       "      <th>year</th>\n",
       "      <th>test</th>\n",
       "      <th>index</th>\n",
       "    </tr>\n",
       "  </thead>\n",
       "  <tbody>\n",
       "    <tr>\n",
       "      <th>0</th>\n",
       "      <td>NaN</td>\n",
       "      <td>NaN</td>\n",
       "      <td>1775</td>\n",
       "      <td>NaN</td>\n",
       "      <td>0</td>\n",
       "    </tr>\n",
       "    <tr>\n",
       "      <th>1</th>\n",
       "      <td>NaN</td>\n",
       "      <td>NaN</td>\n",
       "      <td>1775</td>\n",
       "      <td>NaN</td>\n",
       "      <td>1</td>\n",
       "    </tr>\n",
       "    <tr>\n",
       "      <th>29598</th>\n",
       "      <td>NaN</td>\n",
       "      <td>NaN</td>\n",
       "      <td>1922</td>\n",
       "      <td>NaN</td>\n",
       "      <td>29598</td>\n",
       "    </tr>\n",
       "    <tr>\n",
       "      <th>29599</th>\n",
       "      <td>NaN</td>\n",
       "      <td>NaN</td>\n",
       "      <td>1922</td>\n",
       "      <td>NaN</td>\n",
       "      <td>29599</td>\n",
       "    </tr>\n",
       "  </tbody>\n",
       "</table>\n",
       "</div>"
      ],
      "text/plain": [
       "      title passage  year test  index\n",
       "0       NaN     NaN  1775  NaN      0\n",
       "1       NaN     NaN  1775  NaN      1\n",
       "29598   NaN     NaN  1922  NaN  29598\n",
       "29599   NaN     NaN  1922  NaN  29599"
      ]
     },
     "execution_count": 39,
     "metadata": {},
     "output_type": "execute_result"
    }
   ],
   "source": [
    "\"\"\"\n",
    "Create new dataframe for final data. Each year will have 200 rows, each with a unique portion of text sourced\n",
    "from a book published in that year\n",
    "\"\"\"\n",
    "\n",
    "all_years = []\n",
    "PER_YEAR_COUNT = 200\n",
    "\n",
    "for year in range(1775, 1923):\n",
    "    years = [year] * PER_YEAR_COUNT\n",
    "    all_years.extend(years)\n",
    "\n",
    "print(len(all_years))\n",
    "dfPas = pd.DataFrame(columns=[\"title\", \"passage\", \"year\", \"test\"])\n",
    "dfPas[\"year\"] = all_years\n",
    "dfPas[\"index\"] = dfPas.index\n",
    "\n",
    "pd.concat([dfPas.head(2), dfPas.tail(2)])"
   ]
  },
  {
   "cell_type": "code",
   "execution_count": 40,
   "id": "ec6df853",
   "metadata": {
    "collapsed": false,
    "jupyter": {
     "outputs_hidden": false
    },
    "pycharm": {
     "name": "#%%\n"
    }
   },
   "outputs": [
    {
     "name": "stdout",
     "output_type": "stream",
     "text": [
      "dropping book: st patricks day at index 10381 from year 1775\n",
      "dropping book: the duenna at index 10433 from year 1775\n",
      "dropping book: the passenger at index 7669 from year 1776\n",
      "dropping book: le nouveau dictionnaire at index 5891 from year 1776\n",
      "dropping book: prisoners of the revolution at index 9467 from year 1776\n",
      "dropping book: faithfully yours at index 5408 from year 1777\n",
      "dropping book: dominica at index 5675 from year 1777\n",
      "dropping book: aslaugas knight at index 6720 from year 1777\n",
      "dropping book: proeve van kleine gedigten at index 2602 from year 1778\n",
      "dropping book: percy at index 7675 from year 1778\n",
      "dropping book: logbook of timothy boardman at index 5929 from year 1778\n",
      "dropping book: edouard at index 6189 from year 1778\n",
      "dropping book: die argonauten at index 8997 from year 1779\n",
      "dropping book: thankful blossom at index 4368 from year 1779\n",
      "dropping book: paul jones at index 6877 from year 1779\n",
      "dropping book: die erziehung des at index 9361 from year 1780\n",
      "dropping book: the metaphysical elements of ethics at index 10005 from year 1780\n",
      "dropping book: chocolate at index 1199 from year 1780\n",
      "dropping book: the robbers at index 8654 from year 1781\n",
      "dropping book: de vrouw at index 4790 from year 1781\n",
      "dropping book: john marr and other poems at index 1068 from year 1781\n",
      "dropping book: twee edellieden van verona at index 6110 from year 1781\n",
      "THERE ARE NO BOOKS LEFT FOR 1781. NOT CONTINUING WITH THIS YEAR.\n",
      "dropping book: white slaves at index 10616 from year 1782\n",
      "dropping book: om en door den peloponnesus at index 5368 from year 1782\n",
      "dropping book: the beauty of the village at index 4784 from year 1783\n",
      "dropping book: a story of one short life at index 7445 from year 1783\n",
      "dropping book: scotch highlanders in america at index 5866 from year 1783\n",
      "dropping book: the art of poetry at index 9002 from year 1783\n",
      "dropping book: john jacob astor at index 8148 from year 1784\n",
      "dropping book: kabale und liebe at index 9305 from year 1784\n",
      "dropping book: works of aristotle at index 1016 from year 1784\n",
      "THERE ARE NO BOOKS LEFT FOR 1784. NOT CONTINUING WITH THIS YEAR.\n",
      "dropping book: introduction to pamela at index 5526 from year 1785\n",
      "dropping book: an account of the foxglove at index 5539 from year 1785\n",
      "dropping book: samuel johnson at index 393 from year 1786\n",
      "dropping book: das maedchen aus der feenwelt at index 9363 from year 1786\n",
      "dropping book: the groundash at index 4785 from year 1787\n",
      "dropping book: aunt deborah at index 4782 from year 1787\n",
      "dropping book: true stories about cats and dogs at index 8116 from year 1787\n",
      "dropping book: het dichtste bij de zuidpool at index 6506 from year 1787\n",
      "dropping book: mozart auf der reise nach prag at index 9405 from year 1787\n",
      "dropping book: thomas jefferson brown at index 4921 from year 1788\n",
      "dropping book: roemische elegien at index 9135 from year 1788\n",
      "dropping book: gaudissart ii at index 1769 from year 1789\n",
      "dropping book: my robin at index 10166 from year 1789\n",
      "dropping book: voyage to botany bay at index 1898 from year 1789\n",
      "dropping book: le jugement dernier des rois at index 5949 from year 1789\n",
      "dropping book: the ruins at index 1485 from year 1789\n",
      "dropping book: the first one at index 5265 from year 1790\n",
      "dropping book: findelkind at index 1377 from year 1790\n",
      "dropping book: short method of prayer at index 5577 from year 1790\n",
      "dropping book: der gastfreund at index 9217 from year 1791\n",
      "dropping book: das kloster bei sendomir at index 8849 from year 1791\n",
      "dropping book: ein treuer diener seines herrn at index 8866 from year 1791\n",
      "dropping book: faraday as a discoverer at index 860 from year 1791\n",
      "THERE ARE NO BOOKS LEFT FOR 1791. NOT CONTINUING WITH THIS YEAR.\n",
      "dropping book: hyacinthe at index 2510 from year 1792\n",
      "dropping book: the daemon of the world at index 8333 from year 1792\n",
      "dropping book: the witch of atlas at index 8343 from year 1792\n",
      "dropping book: the recruit at index 1573 from year 1793\n",
      "dropping book: an episode under the terror at index 1702 from year 1793\n",
      "dropping book: belagerung von mainz at index 2842 from year 1793\n",
      "dropping book: on the method of zadig at index 6001 from year 1794\n",
      "dropping book: journaux intimes at index 1420 from year 1794\n",
      "dropping book: the purse at index 696 from year 1794\n",
      "dropping book: phil purcel the pigdriver at index 2207 from year 1794\n",
      "dropping book: memoirs of my life and writings at index 8567 from year 1794\n",
      "dropping book: john james audubon at index 9291 from year 1794\n",
      "dropping book: tales and novels of fontaine v at index 10063 from year 1795\n",
      "dropping book: abolition societies at index 7765 from year 1795\n",
      "dropping book: christian devotedness at index 5310 from year 1795\n",
      "dropping book: la chartreuse de parme at index 9436 from year 1796\n",
      "dropping book: remarks concerning stones at index 7111 from year 1796\n",
      "dropping book: works charles and mary lamb at index 9328 from year 1796\n",
      "dropping book: der mann des schicksals at index 9114 from year 1796\n",
      "dropping book: antislavery poems ii at index 10593 from year 1797\n",
      "dropping book: east and west at index 9148 from year 1797\n",
      "dropping book: poems at index 64 from year 1797\n",
      "dropping book: an account of egypt at index 4157 from year 1798\n",
      "dropping book: a passion in the desert at index 2045 from year 1799\n",
      "dropping book: the atheists mass at index 834 from year 1799\n",
      "dropping book: facino cane at index 2725 from year 1799\n",
      "dropping book: a drama on the seashore at index 1580 from year 1799\n",
      "dropping book: girl scouts at index 5575 from year 1800\n",
      "dropping book: the bequest at index 169 from year 1800\n",
      "dropping book: de lducation dun homme sauvage at index 4046 from year 1801\n",
      "dropping book: costituzione della repubblica italiana at index 4461 from year 1802\n",
      "dropping book: the hated at index 7221 from year 1803\n",
      "dropping book: essays first series at index 7193 from year 1803\n",
      "dropping book: essays second series at index 7197 from year 1803\n",
      "dropping book: an old womans tale at index 9950 from year 1804\n",
      "dropping book: the village uncle at index 9918 from year 1804\n",
      "dropping book: improvisos de bocage at index 4882 from year 1805\n",
      "dropping book: the sword and the atopen at index 6221 from year 1805\n",
      "dropping book: the life of francis marion at index 8918 from year 1806\n",
      "dropping book: the grecian daughter at index 7551 from year 1806\n",
      "dropping book: das haidedorf at index 9221 from year 1806\n",
      "dropping book: der parasit oder die kunst sein glueck zu machen at index 9470 from year 1806\n",
      "dropping book: antislavery poems iii at index 10594 from year 1807\n",
      "dropping book: antislavery poems i at index 10592 from year 1807\n",
      "dropping book: the adventures of ulysses at index 9628 from year 1807\n",
      "dropping book: the last tournament at index 10469 from year 1809\n",
      "dropping book: on books and the housing of them at index 7923 from year 1809\n",
      "dropping book: a simple soul at index 965 from year 1809\n",
      "dropping book: domestic peace at index 1524 from year 1809\n",
      "dropping book: astoria at index 1394 from year 1810\n",
      "dropping book: some poems by sir walter scott at index 10612 from year 1811\n",
      "dropping book: der zerbrochene krug at index 9513 from year 1811\n",
      "dropping book: eighteen hundred and eleven at index 1522 from year 1812\n",
      "dropping book: am i still there at index 7759 from year 1812\n",
      "dropping book: second sight at index 7362 from year 1812\n",
      "dropping book: book of nonsense at index 9610 from year 1812\n",
      "dropping book: the lumley autograph at index 4293 from year 1813\n",
      "dropping book: the starspangled banner at index 8721 from year 1814\n",
      "dropping book: little britain at index 8959 from year 1814\n",
      "dropping book: effects of the corn laws at index 8218 from year 1814\n",
      "dropping book: private life of napoleon at index 5468 from year 1815\n",
      "dropping book: le nain noir at index 1753 from year 1816\n",
      "dropping book: solomons orbit at index 4910 from year 1817\n",
      "dropping book: pandemic at index 5978 from year 1817\n",
      "dropping book: bulemanns haus at index 8834 from year 1817\n",
      "dropping book: wild apples at index 8126 from year 1817\n",
      "dropping book: der spiegel des cyprianus at index 9544 from year 1817\n",
      "dropping book: the keepsake at index 5032 from year 1818\n",
      "dropping book: the leech at index 7230 from year 1818\n",
      "dropping book: articles of frederick douglass at index 9615 from year 1818\n",
      "dropping book: burlesques at index 6165 from year 1819\n",
      "dropping book: keeping watch at index 799 from year 1820\n",
      "dropping book: o arrependimento at index 4986 from year 1820\n",
      "dropping book: lives of the poets at index 758 from year 1820\n",
      "dropping book: the hills of home at index 4484 from year 1821\n",
      "dropping book: un coeur simple at index 6188 from year 1821\n",
      "dropping book: the kasidah of haji abdu elyezdi at index 9304 from year 1821\n",
      "dropping book: wild bills last trail at index 4103 from year 1821\n",
      "dropping book: indian language at index 2591 from year 1822\n",
      "dropping book: progress of palaeontology at index 6005 from year 1822\n",
      "dropping book: die nymphe des brunnens at index 5743 from year 1823\n",
      "dropping book: a childs antislavery book at index 135 from year 1826\n",
      "dropping book: folk tales from the russian at index 1073 from year 1826\n",
      "dropping book: the works of edgar allan poe at index 4209 from year 1827\n",
      "dropping book: origins of contemporary france at index 5054 from year 1828\n",
      "dropping book: the odyssey of sam meecham at index 7152 from year 1828\n",
      "dropping book: the tapestried chamber at index 2469 from year 1828\n",
      "dropping book: een goudzoeker op madagascar at index 4019 from year 1828\n",
      "dropping book: a letter to a hindu at index 8713 from year 1828\n",
      "dropping book: my aunt margarets mirror at index 2465 from year 1828\n",
      "dropping book: the papers of thomas jefferson at index 6952 from year 1829\n",
      "dropping book: back to back at index 798 from year 1830\n",
      "dropping book: el verdugo at index 1567 from year 1830\n",
      "dropping book: carmen at index 5442 from year 1830\n",
      "dropping book: on the origin of species at index 870 from year 1831\n",
      "dropping book: the confessions of nat turner at index 1977 from year 1831\n",
      "dropping book: all day wednesday at index 7724 from year 1832\n",
      "dropping book: little songs at index 8115 from year 1832\n",
      "dropping book: a scientist rises at index 6437 from year 1833\n",
      "dropping book: le secrtaire intime at index 6119 from year 1833\n",
      "dropping book: the seven vagabonds at index 9921 from year 1833\n",
      "dropping book: a relinquished work at index 9938 from year 1834\n",
      "dropping book: the ideal at index 4805 from year 1834\n",
      "dropping book: captains all at index 451 from year 1835\n",
      "dropping book: goldsmiths friend abroad again at index 7834 from year 1835\n",
      "dropping book: eves diary complete at index 8931 from year 1835\n",
      "dropping book: how tell a story and others at index 7853 from year 1835\n",
      "dropping book: remember the alamo at index 6906 from year 1836\n",
      "dropping book: wind at index 4673 from year 1836\n",
      "dropping book: texas at index 10417 from year 1836\n",
      "dropping book: ups and downs at index 5211 from year 1836\n",
      "dropping book: tree spare that woodman at index 7351 from year 1837\n",
      "dropping book: the lilys quest at index 9924 from year 1837\n",
      "dropping book: staccato notes of a vanished at index 7904 from year 1837\n",
      "dropping book: the white old maid at index 9922 from year 1837\n",
      "dropping book: the threefold destiny at index 9927 from year 1837\n",
      "dropping book: the nuts by georg ebers at index 9865 from year 1837\n",
      "dropping book: footprints on seashore at index 9925 from year 1837\n",
      "dropping book: times portraiture at index 9951 from year 1838\n",
      "dropping book: mutineer at index 7077 from year 1838\n",
      "dropping book: suite mentale at index 4747 from year 1838\n",
      "dropping book: on the frontier at index 5818 from year 1838\n",
      "dropping book: the cavalry general at index 637 from year 1838\n",
      "dropping book: orations at index 8969 from year 1839\n",
      "dropping book: shipwreck in the sky at index 7045 from year 1840\n",
      "dropping book: emile zola at index 2723 from year 1840\n",
      "dropping book: the widows dog at index 4781 from year 1840\n",
      "dropping book: the christmas banquet at index 9934 from year 1841\n",
      "dropping book: the wentworth letter at index 10602 from year 1842\n",
      "dropping book: an occurrence at owl creek at index 8032 from year 1842\n",
      "dropping book: m salvius otho at index 8612 from year 1842\n",
      "dropping book: the parenticide club at index 8024 from year 1842\n",
      "dropping book: abolition of slavery at index 2963 from year 1842\n",
      "dropping book: family cares at index 552 from year 1843\n",
      "dropping book: fire worship at index 9930 from year 1843\n",
      "dropping book: henry james jr at index 8717 from year 1843\n",
      "dropping book: a bit of old china at index 7874 from year 1843\n",
      "dropping book: the hall of fantasy at index 9933 from year 1843\n",
      "dropping book: history of the th at index 5267 from year 1843\n",
      "dropping book: two christmas celebrations at index 2579 from year 1843\n",
      "dropping book: the velvet glove at index 98 from year 1843\n",
      "dropping book: der struwwelpeter at index 5413 from year 1844\n",
      "dropping book: monsieur bergeret a paris at index 10145 from year 1844\n",
      "dropping book: the intelligence office at index 9935 from year 1844\n",
      "dropping book: isidora at index 1407 from year 1845\n",
      "dropping book: town versus country at index 4778 from year 1846\n",
      "dropping book: stonewall jackson at index 853 from year 1846\n",
      "dropping book: waste not want at index 7626 from year 1847\n",
      "dropping book: eatin crow at index 4836 from year 1847\n",
      "dropping book: the d doodler at index 4535 from year 1847\n",
      "dropping book: sea garden at index 6893 from year 1847\n",
      "dropping book: the most sentimental man at index 7349 from year 1848\n",
      "dropping book: tennessees partner at index 8338 from year 1848\n",
      "dropping book: the second voice at index 7393 from year 1848\n",
      "dropping book: the fatal boots at index 6786 from year 1850\n",
      "dropping book: sylph etherege at index 9942 from year 1851\n",
      "dropping book: les posies de sapho de lesbos at index 6377 from year 1852\n",
      "dropping book: with a vengeance at index 7655 from year 1853\n",
      "dropping book: the love of frank nineteen at index 6597 from year 1853\n",
      "dropping book: livro de mguas at index 2819 from year 1854\n",
      "dropping book: im saal at index 5276 from year 1854\n",
      "dropping book: marthe und ihre uhr at index 5277 from year 1854\n",
      "dropping book: monsieur du miroir at index 9932 from year 1854\n",
      "dropping book: the boatswains mate at index 452 from year 1854\n",
      "dropping book: im sonnenschein at index 4048 from year 1854\n",
      "dropping book: the substitute at index 553 from year 1856\n",
      "dropping book: ancient regime at index 5834 from year 1856\n",
      "dropping book: the babe in the bulrushes at index 7535 from year 1856\n",
      "dropping book: a kidnapped santa claus at index 8450 from year 1856\n",
      "dropping book: maxims for revolutionists at index 5944 from year 1856\n",
      "dropping book: a matter of proportion at index 5183 from year 1856\n",
      "dropping book: the convert at index 550 from year 1857\n",
      "dropping book: after a few words at index 5198 from year 1858\n",
      "dropping book: operation earthworm at index 7125 from year 1858\n",
      "dropping book: the cabmans story at index 2731 from year 1859\n",
      "dropping book: fairy gold at index 167 from year 1859\n",
      "dropping book: speech of john hossack at index 1487 from year 1860\n",
      "dropping book: the spirit proper to the times at index 5873 from year 1861\n",
      "dropping book: mcilvaines star at index 7510 from year 1861\n",
      "dropping book: the story of little black sambo at index 1256 from year 1862\n",
      "dropping book: the monkeys paw at index 778 from year 1863\n",
      "dropping book: golden deeds at index 5726 from year 1864\n",
      "dropping book: the birthday party at index 4416 from year 1864\n",
      "dropping book: japon at index 7337 from year 1865\n",
      "dropping book: the red room at index 4932 from year 1866\n",
      "dropping book: the trial of william tinkling at index 5030 from year 1867\n",
      "dropping book: quotes from galsworthy at index 8760 from year 1867\n",
      "dropping book: young canadas nursery rhymes at index 10626 from year 1867\n",
      "dropping book: the nuts of knowledge at index 2442 from year 1867\n",
      "dropping book: captain boldheart at index 5140 from year 1867\n",
      "dropping book: kearsarge and alabama at index 6179 from year 1868\n",
      "dropping book: fine feathers at index 164 from year 1869\n",
      "dropping book: the lost child at index 4866 from year 1871\n",
      "dropping book: the little people of the snow at index 4609 from year 1873\n",
      "dropping book: the cuckoo clock at index 6873 from year 1874\n",
      "dropping book: la religieuse at index 6940 from year 1875\n",
      "dropping book: phaedo at index 2425 from year 1875\n",
      "dropping book: les deux amis de bourbonne at index 6868 from year 1875\n",
      "dropping book: seth at index 4974 from year 1877\n",
      "dropping book: meno at index 2358 from year 1877\n",
      "dropping book: the world english bible web song of solomon at index 10538 from year 1878\n",
      "dropping book: the world english bible web micah at index 10548 from year 1878\n",
      "dropping book: the world english bible web galatians at index 10561 from year 1878\n",
      "dropping book: the sea fogs at index 8465 from year 1879\n",
      "dropping book: in the library at index 781 from year 1880\n",
      "dropping book: found at blazing star at index 6603 from year 1882\n",
      "dropping book: how to make a shoe at index 5583 from year 1882\n",
      "dropping book: the psychical researchers at index 4631 from year 1883\n",
      "dropping book: beauties of tennyson at index 5078 from year 1885\n",
      "dropping book: the standard at index 7905 from year 1885\n",
      "dropping book: nets to catch the wind at index 10187 from year 1885\n",
      "dropping book: sight gag at index 7563 from year 1892\n",
      "dropping book: alaska indian dictionary at index 14 from year 1896\n"
     ]
    },
    {
     "data": {
      "text/html": [
       "<div>\n",
       "<style scoped>\n",
       "    .dataframe tbody tr th:only-of-type {\n",
       "        vertical-align: middle;\n",
       "    }\n",
       "\n",
       "    .dataframe tbody tr th {\n",
       "        vertical-align: top;\n",
       "    }\n",
       "\n",
       "    .dataframe thead th {\n",
       "        text-align: right;\n",
       "    }\n",
       "</style>\n",
       "<table border=\"1\" class=\"dataframe\">\n",
       "  <thead>\n",
       "    <tr style=\"text-align: right;\">\n",
       "      <th></th>\n",
       "      <th>title</th>\n",
       "      <th>passage</th>\n",
       "      <th>year</th>\n",
       "      <th>test</th>\n",
       "      <th>index</th>\n",
       "    </tr>\n",
       "  </thead>\n",
       "  <tbody>\n",
       "    <tr>\n",
       "      <th>0</th>\n",
       "      <td>thomas jefferson</td>\n",
       "      <td>nt, later on to become habitable and settled areas, and make a great and important addition to the public domain. In the appointment of the expedition and the interest taken in it, Jefferson showed his intelligent appreciation of what was to become of high value to the country, and ere long result in a land of beautiful homes to future generations of its hardy people.  At the close of his second term in the Presidential chair (1809) Jefferson retired once more, and finally, to \"Monticello,\" after over forty years of almost continuous public service. His career in this high office was entirely worthy of the man, being that of an honorable and public-spirited, as well as an able and patriotic, statesman. If not so astute and sagacious as some who have held the presidency, especially in failing to see where his political principles, if carried out to their logical conclusions, would lead, his conscientiousness and liberality of mind prevented him from falling gravely into error or making any very fatal mistakes. Though far from orthodox,--indeed, a freethinker he may be termed, in matters of religious belief, his personal life was most exemplary, and his relations with his fellowmen were ever just, honorable, and upright. He had no gifts as a speaker, but was endowed highly as a writer and thinker; and, generally, was a man of broad intelligence, unusual culture for his time, and possessed a most alert and enlightened mind. His interest in education and the liberal arts was ...</td>\n",
       "      <td>1775.0</td>\n",
       "      <td>True</td>\n",
       "      <td>0.0</td>\n",
       "    </tr>\n",
       "    <tr>\n",
       "      <th>1</th>\n",
       "      <td>charles lamb</td>\n",
       "      <td>of my old friend.  The fact that distinguished Charles Lamb from other men was his entire devotion to one grand and tender purpose. There is, probably, a romance involved in every life. In his life it exceeded that of others. In gravity, in acuteness, in his noble battle with a great calamity, it was beyond the rest. Neither pleasure nor toil ever distracted him from his holy purpose. Everything was made subservient to it. He had an insane sister, who, in a moment of uncontrollable madness, had unconsciously destroyed her own mother; and to protect and save this sister--a gentle woman, who had watched like a mother over his own infancy--the whole length of his life was devoted. What he endured, through the space of nearly forty years, from the incessant fear and frequent recurrence of his sister's insanity, can now only be conjectured. In this constant and uncomplaining endurance, and in his steady adherence to a great principle of conduct, his life was heroic.  We read of men giving up all their days to a single object--to religion, to vengeance, to some overpowering selfish wish; of daring acts done to avert death or disgrace, or some oppressing misfortune. We read mythical tales of friendship; but we do not recollect any instance in which a great object has been so unremittingly carried out throughout a whole life, in defiance of a thousand difficulties, and of numberless temptations, straining the good resolution to its utmost, except in the case of our poor clerk of ...</td>\n",
       "      <td>1775.0</td>\n",
       "      <td>False</td>\n",
       "      <td>1.0</td>\n",
       "    </tr>\n",
       "    <tr>\n",
       "      <th>29598</th>\n",
       "      <td>making the house a home</td>\n",
       "      <td>n and convenient. To-day the landlord would ask ninety dollars a month for that place and tell you he was losing money at that.  With the rent paid, we should have eighty-seven dollars a month left to live on. The grocery bill, at that time, would not run more than twenty dollars a month; telephone, gas, and electric light would not exceed ten dollars a month; the milkman and the paper boy would take but little, and in winter time a ton of coal per month would be sufficient. Oh, we should have plenty of money, and could easily afford to pledge twenty dollars a month to pay for necessary furniture.  It will be noticed that into our dreaming came no physician, no dentist, no expenses bobbing up from unexpected sources. Not a single bill collector called at the front door of our dream castle to ask for money which we did not have.  If older and wiser heads suggested the possibility of danger, we produced our plans on paper, and asked them from whence could trouble come? To-day we understand the depth of the kindly smile which our protests always evoked. They were letting the dreamers dream.  At last the furniture was bought on the installment plan and the new flat was being put in order. It called for a few more pieces of furniture than we had figured on, and the debt, in consequence, was greater; but that meant merely a few months more to make payments.  It was fine furniture, too! Of course it has long since ceased to serve us; but never in this world shall that dining set...</td>\n",
       "      <td>1922.0</td>\n",
       "      <td>False</td>\n",
       "      <td>29598.0</td>\n",
       "    </tr>\n",
       "    <tr>\n",
       "      <th>29599</th>\n",
       "      <td>stolen treasure</td>\n",
       "      <td>his unexpected address Captain Obadiah's face fell from its expression of malicious triumph, growing longer and longer, until at last it was overclouded with so much doubt and anxiety that, had he been threatened by the loss of a thousand pounds, he could not have assumed a greater appearance of mortification and dejection. Meantime, regarding him with a mischievous smile, our young gentleman began the history of all those adventures that had befallen him from the time he embarked upon the memorable expedition with his two companions in dissipation from York Stairs. As his account proceeded Captain Obadiah's face altered by degrees from its natural brown to a sickly yellow, and then to so leaden a hue that it could not have assumed a more ghastly appearance were he about to swoon dead away. Great beads of sweat gathered upon his forehead and trickled down his cheeks. At last he could endure no more, but with a great and strident voice, such as might burst forth from a devil tormented, he cried out: \"'Tis a lie! 'Tis all a monstrous lie! He is a beggarly runaway servant whom I took in out of the rain and fed and housed--to have him turn thus against me and strike the hand that has benefited him!\"  \"Sir,\" replied our young gentleman, with a moderate and easy voice, \"what I tell you is no lie, but the truth. If any here misdoubts my veracity, see, here is a letter received by the last packet from my honored father. You, Colonel Belford, know his handwriting perfectly well. L...</td>\n",
       "      <td>1922.0</td>\n",
       "      <td>True</td>\n",
       "      <td>29599.0</td>\n",
       "    </tr>\n",
       "  </tbody>\n",
       "</table>\n",
       "</div>"
      ],
      "text/plain": [
       "                         title  \\\n",
       "0             thomas jefferson   \n",
       "1                 charles lamb   \n",
       "29598  making the house a home   \n",
       "29599          stolen treasure   \n",
       "\n",
       "                                                                                                                                                                                                                                                                                                                                                                                                                                                                                                                                                                                                                                                                                                                                                                                                                                                                                                                                                                                                                                                                                                                                                                                                                                                                                                                                                                                                                                                                                                                                                           passage  \\\n",
       "0      nt, later on to become habitable and settled areas, and make a great and important addition to the public domain. In the appointment of the expedition and the interest taken in it, Jefferson showed his intelligent appreciation of what was to become of high value to the country, and ere long result in a land of beautiful homes to future generations of its hardy people.  At the close of his second term in the Presidential chair (1809) Jefferson retired once more, and finally, to \"Monticello,\" after over forty years of almost continuous public service. His career in this high office was entirely worthy of the man, being that of an honorable and public-spirited, as well as an able and patriotic, statesman. If not so astute and sagacious as some who have held the presidency, especially in failing to see where his political principles, if carried out to their logical conclusions, would lead, his conscientiousness and liberality of mind prevented him from falling gravely into error or making any very fatal mistakes. Though far from orthodox,--indeed, a freethinker he may be termed, in matters of religious belief, his personal life was most exemplary, and his relations with his fellowmen were ever just, honorable, and upright. He had no gifts as a speaker, but was endowed highly as a writer and thinker; and, generally, was a man of broad intelligence, unusual culture for his time, and possessed a most alert and enlightened mind. His interest in education and the liberal arts was ...   \n",
       "1      of my old friend.  The fact that distinguished Charles Lamb from other men was his entire devotion to one grand and tender purpose. There is, probably, a romance involved in every life. In his life it exceeded that of others. In gravity, in acuteness, in his noble battle with a great calamity, it was beyond the rest. Neither pleasure nor toil ever distracted him from his holy purpose. Everything was made subservient to it. He had an insane sister, who, in a moment of uncontrollable madness, had unconsciously destroyed her own mother; and to protect and save this sister--a gentle woman, who had watched like a mother over his own infancy--the whole length of his life was devoted. What he endured, through the space of nearly forty years, from the incessant fear and frequent recurrence of his sister's insanity, can now only be conjectured. In this constant and uncomplaining endurance, and in his steady adherence to a great principle of conduct, his life was heroic.  We read of men giving up all their days to a single object--to religion, to vengeance, to some overpowering selfish wish; of daring acts done to avert death or disgrace, or some oppressing misfortune. We read mythical tales of friendship; but we do not recollect any instance in which a great object has been so unremittingly carried out throughout a whole life, in defiance of a thousand difficulties, and of numberless temptations, straining the good resolution to its utmost, except in the case of our poor clerk of ...   \n",
       "29598  n and convenient. To-day the landlord would ask ninety dollars a month for that place and tell you he was losing money at that.  With the rent paid, we should have eighty-seven dollars a month left to live on. The grocery bill, at that time, would not run more than twenty dollars a month; telephone, gas, and electric light would not exceed ten dollars a month; the milkman and the paper boy would take but little, and in winter time a ton of coal per month would be sufficient. Oh, we should have plenty of money, and could easily afford to pledge twenty dollars a month to pay for necessary furniture.  It will be noticed that into our dreaming came no physician, no dentist, no expenses bobbing up from unexpected sources. Not a single bill collector called at the front door of our dream castle to ask for money which we did not have.  If older and wiser heads suggested the possibility of danger, we produced our plans on paper, and asked them from whence could trouble come? To-day we understand the depth of the kindly smile which our protests always evoked. They were letting the dreamers dream.  At last the furniture was bought on the installment plan and the new flat was being put in order. It called for a few more pieces of furniture than we had figured on, and the debt, in consequence, was greater; but that meant merely a few months more to make payments.  It was fine furniture, too! Of course it has long since ceased to serve us; but never in this world shall that dining set...   \n",
       "29599  his unexpected address Captain Obadiah's face fell from its expression of malicious triumph, growing longer and longer, until at last it was overclouded with so much doubt and anxiety that, had he been threatened by the loss of a thousand pounds, he could not have assumed a greater appearance of mortification and dejection. Meantime, regarding him with a mischievous smile, our young gentleman began the history of all those adventures that had befallen him from the time he embarked upon the memorable expedition with his two companions in dissipation from York Stairs. As his account proceeded Captain Obadiah's face altered by degrees from its natural brown to a sickly yellow, and then to so leaden a hue that it could not have assumed a more ghastly appearance were he about to swoon dead away. Great beads of sweat gathered upon his forehead and trickled down his cheeks. At last he could endure no more, but with a great and strident voice, such as might burst forth from a devil tormented, he cried out: \"'Tis a lie! 'Tis all a monstrous lie! He is a beggarly runaway servant whom I took in out of the rain and fed and housed--to have him turn thus against me and strike the hand that has benefited him!\"  \"Sir,\" replied our young gentleman, with a moderate and easy voice, \"what I tell you is no lie, but the truth. If any here misdoubts my veracity, see, here is a letter received by the last packet from my honored father. You, Colonel Belford, know his handwriting perfectly well. L...   \n",
       "\n",
       "         year   test    index  \n",
       "0      1775.0   True      0.0  \n",
       "1      1775.0  False      1.0  \n",
       "29598  1922.0  False  29598.0  \n",
       "29599  1922.0   True  29599.0  "
      ]
     },
     "execution_count": 40,
     "metadata": {},
     "output_type": "execute_result"
    }
   ],
   "source": [
    "import random\n",
    "import copy\n",
    "\n",
    "PASSAGE_LENGTH = 5000\n",
    "\n",
    "dfFullCopy = dfFull.copy()\n",
    "no_continue_list = []\n",
    "\n",
    "\n",
    "def get_full_text(row):\n",
    "    index = row[\"index\"]\n",
    "    index_for_year = index % PER_YEAR_COUNT\n",
    "\n",
    "    books_from_year = list(dfFullCopy[dfFullCopy.year == row[\"year\"]].index)\n",
    "\n",
    "    # we have exhausted all the text from the books from this year. There are a few \"bad\" years with only 4 books\n",
    "    if not len(books_from_year):\n",
    "        print(f\"THERE ARE NO BOOKS LEFT FOR {row.year}. NOT CONTINUING WITH THIS YEAR.\")\n",
    "        raise ValueError(\"Depleted books\")\n",
    "\n",
    "    index_in_book_list = index_for_year % len(books_from_year)\n",
    "    book_index = books_from_year[index_in_book_list]\n",
    "\n",
    "    book = dfFullCopy.loc[book_index]\n",
    "    is_test = book[\"test\"]\n",
    "    full_text = copy.copy(book[\"text\"])\n",
    "\n",
    "    return full_text, book_index, book[\"title\"], is_test\n",
    "\n",
    "\n",
    "def get_passage(row):\n",
    "    if row[\"year\"] in no_continue_list:\n",
    "        return\n",
    "\n",
    "    try:\n",
    "        full_text, book_index, book_title, is_test = get_full_text(row)\n",
    "    except ValueError:\n",
    "        no_continue_list.append(row[\"year\"])\n",
    "        return\n",
    "\n",
    "    # # testing books are every 5th book for each year according to the original dataset\n",
    "    # # or if there are fewer than 5 books, the first book.\n",
    "    # books_from_year_original = list(dfFull[dfFull.year == row['year']].index)\n",
    "    # testing_books = books_from_year_original[::5]\n",
    "    # row['test'] = book_index == 0 if len(books_from_year_original) < 5 else book_index in testing_books\n",
    "\n",
    "    # print(f'Creating excerpt for {row.year}: from {book_title}.')\n",
    "\n",
    "    max_start_point = len(full_text) - PASSAGE_LENGTH\n",
    "    start_point = random.randint(0, max_start_point)\n",
    "    end_point = start_point + PASSAGE_LENGTH\n",
    "    passage = full_text[start_point:end_point]\n",
    "\n",
    "    if not len(passage) == PASSAGE_LENGTH:\n",
    "        print(f\"SOMETHING WENT WRONG FOR BOOK {book_title}\")\n",
    "        return\n",
    "\n",
    "    # Remove the used text from the original dataframe if remaining text is less than the passage length, remove the book\n",
    "    # Otherwise remove the used text from the existing full text and replace the modified text in the original df\n",
    "    full_text_modified = full_text[:start_point] + full_text[end_point:]\n",
    "    if len(full_text_modified) < PASSAGE_LENGTH:\n",
    "        print(f\"dropping book: {book_title} at index {book_index} from year {row.year}\")\n",
    "        dfFullCopy.drop([book_index], inplace=True)\n",
    "    else:\n",
    "        dfFullCopy.at[book_index, \"text\"] = full_text_modified\n",
    "        new_text_length = len(dfFullCopy.loc[book_index][\"text\"])\n",
    "\n",
    "        if not new_text_length < len(full_text):\n",
    "            print(f\"SOMETHING WENT WRONG FOR BOOK {book_title}\")\n",
    "            return\n",
    "\n",
    "    row[\"passage\"] = passage\n",
    "    row[\"title\"] = book_title\n",
    "    row[\"test\"] = is_test\n",
    "    # print(f'Success! {len(row.passage)} char passage created for {book_title}.')\n",
    "\n",
    "    return row\n",
    "\n",
    "\n",
    "dfPas = dfPas.apply(get_passage, axis=1)\n",
    "pd.concat([dfPas.head(2), dfPas.tail(2)])"
   ]
  },
  {
   "cell_type": "code",
   "execution_count": 41,
   "id": "c0644b7d",
   "metadata": {
    "collapsed": false,
    "jupyter": {
     "outputs_hidden": false
    },
    "pycharm": {
     "name": "#%%\n"
    }
   },
   "outputs": [
    {
     "data": {
      "text/plain": [
       "Text(0.5, 1.05, 'Distribution of books across year published')"
      ]
     },
     "execution_count": 41,
     "metadata": {},
     "output_type": "execute_result"
    },
    {
     "data": {
      "image/png": "[encoded data removed]",
      "text/plain": [
       "<Figure size 432x288 with 1 Axes>"
      ]
     },
     "metadata": {
      "needs_background": "light"
     },
     "output_type": "display_data"
    }
   ],
   "source": [
    "# histogram of datapoint distribution across years\n",
    "dfPas.hist(column=\"year\", bins=148)\n",
    "plt.suptitle(\n",
    "    \"Distribution of books across year published\",\n",
    "    x=0.5,\n",
    "    y=1.05,\n",
    "    fontsize=\"x-large\",\n",
    ")"
   ]
  },
  {
   "cell_type": "code",
   "execution_count": 42,
   "id": "ea2c8ce5",
   "metadata": {
    "collapsed": false,
    "jupyter": {
     "outputs_hidden": false
    },
    "pycharm": {
     "name": "#%%\n"
    }
   },
   "outputs": [
    {
     "name": "stdout",
     "output_type": "stream",
     "text": [
      "Count before removal  29600\n",
      "Count after removal  29330\n"
     ]
    }
   ],
   "source": [
    "\"\"\"\n",
    "Delete rows without passages (from depleted years)\n",
    "\"\"\"\n",
    "print(\"Count before removal \", dfPas.shape[0])\n",
    "dfPas = dfPas.drop(\n",
    "    dfPas[dfPas.passage.apply(is_acceptable_length, length=5000) == False].index\n",
    ")\n",
    "print(\"Count after removal \", dfPas.shape[0])"
   ]
  },
  {
   "cell_type": "code",
   "execution_count": 43,
   "id": "ef3af228",
   "metadata": {
    "collapsed": false,
    "jupyter": {
     "outputs_hidden": false
    },
    "pycharm": {
     "name": "#%%\n"
    }
   },
   "outputs": [
    {
     "name": "stdout",
     "output_type": "stream",
     "text": [
      "    test  Count\n",
      "0  False  22775\n",
      "1   True   6555\n"
     ]
    }
   ],
   "source": [
    "\"\"\"\n",
    "Combine them\n",
    "\"\"\"\n",
    "dfGrouped = (\n",
    "    dfPas.groupby([\"test\"])[\"test\"]\n",
    "    .count()\n",
    "    .reset_index(name=\"Count\")\n",
    "    .sort_values([\"Count\"], ascending=False)\n",
    ")\n",
    "\n",
    "print(dfGrouped.head())"
   ]
  },
  {
   "cell_type": "code",
   "execution_count": 44,
   "id": "41a657ff",
   "metadata": {
    "collapsed": false,
    "jupyter": {
     "outputs_hidden": false
    },
    "pycharm": {
     "name": "#%%\n"
    }
   },
   "outputs": [
    {
     "data": {
      "text/html": [
       "<div>\n",
       "<style scoped>\n",
       "    .dataframe tbody tr th:only-of-type {\n",
       "        vertical-align: middle;\n",
       "    }\n",
       "\n",
       "    .dataframe tbody tr th {\n",
       "        vertical-align: top;\n",
       "    }\n",
       "\n",
       "    .dataframe thead th {\n",
       "        text-align: right;\n",
       "    }\n",
       "</style>\n",
       "<table border=\"1\" class=\"dataframe\">\n",
       "  <thead>\n",
       "    <tr style=\"text-align: right;\">\n",
       "      <th></th>\n",
       "      <th>title</th>\n",
       "      <th>passage</th>\n",
       "      <th>year</th>\n",
       "      <th>test</th>\n",
       "    </tr>\n",
       "  </thead>\n",
       "  <tbody>\n",
       "    <tr>\n",
       "      <th>0</th>\n",
       "      <td>the europeans</td>\n",
       "      <td>Gertrude sat down again on that day, and she sat down on several other days. Felix, while he plied his brush, told her a great many stories, and she listened with charmed avidity. Her eyes rested upon his lips; she was very serious; sometimes, from her air of wondering gravity, he thought she was displeased. But Felix never believed for more than a single moment in any displeasure of his own producing. This would have been fatuity if the optimism it expressed had not been much more a hope than a prejudice. It is beside the matter to say that he had a good conscience; for the best conscience is a sort of self-reproach, and this young man's brilliantly healthy nature spent itself in objective good intentions which were ignorant of any test save exactness in hitting their mark. He told Gertrude how he had walked over France and Italy with a painter's knapsack on his back, paying his way often by knocking off a flattering portrait of his host or hostess. He told her how he had played the violin in a little band of musicians--not of high celebrity--who traveled through foreign lands giving provincial concerts. He told her also how he had been a momentary ornament of a troupe of strolling actors, engaged in the arduous task of interpreting Shakespeare to French and German, Polish and Hungarian audiences.  While this periodical recital was going on, Gertrude lived in a fantastic world; she seemed to herself to be reading a romance that came out in daily numbers. She had known ...</td>\n",
       "      <td>1878.0</td>\n",
       "      <td>False</td>\n",
       "    </tr>\n",
       "    <tr>\n",
       "      <th>1</th>\n",
       "      <td>afghanistan and the anglorussian dispute</td>\n",
       "      <td>general, but there would be the reception that any     Christian foe would almost certainly meet at the hands of a     warlike and powerful people, who can unite with all the cohesion     of religious fanaticism, backed up by something like military     organization and a perfect acquaintance with the strategical     conditions of their country. Most probably there would be no     serious local opposition to the occupation by Russia of a line     extending from Balkh eastwards through Khulm and Kunduz to     Faizabad and Sarhadd, all of which places can be reached without     great difficulty from the Oxus, and are connected by excellent     lateral road communications. But the occupation of such a line     could have but one possible object, which would be to conceal     the actual line of further advance. Each of these places may be     said to dominate a pass to India over the Hindoo Kush. Opposite     Sarhadd is the Baroghil, leading either to Kashmir or to Mastuj     and the Kunar valley. Faizabad commands the Nuksa Pass. Khulm     looks southwards to Ghozi and the Parwan Pass into Kohistan,     while from Balkh two main routes diverge, one to Bamian and     Kabul, the other to Maimana and Herat.      It would be a great mistake to suppose that this short list     disposes of all the practicable passes over the Hindoo Kush. The     range is a singularly well-defined one throughout its vast     length; but it is not by any means a range of startling peaks     and magn...</td>\n",
       "      <td>1838.0</td>\n",
       "      <td>False</td>\n",
       "    </tr>\n",
       "    <tr>\n",
       "      <th>2</th>\n",
       "      <td>the piccolomini</td>\n",
       "      <td>ared not but be silent. And those brilliants, That like a crown of stars enwreathed your brows, They scared me too! O wherefore, wherefore should be At the first meeting spread as 'twere the ban Of excommunication round you,--wherefore Dress up the angel as for sacrifice. And cast upon the light and joyous heart The mournful burden of his station? Fitly May love dare woo for love; but such a splendor Might none but monarchs venture to approach.  THEKLA. Hush! not a word more of this mummery; You see how soon the burden is thrown off.             [To the COUNTESS. He is not in spirits. Wherefore is he not? 'Tis you, aunt, that have made him all so gloomy! He had quite another nature on the journey-- So calm, so bright, so joyous eloquent.             [To MAX. It was my wish to see you always so, And never otherwise!  MAX.            You find yourself In your great father's arms, beloved lady! All in a new world, which does homage to you, And which, were't only by its novelty, Delights your eye.  THEKLA.           Yes; I confess to you That many things delight me here: this camp, This motley stage of warriors, which renews So manifold the image of my fancy, And binds to life, binds to reality, What hitherto had but been present to me As a sweet dream!  MAX.           Alas! not so to me. It makes a dream of my reality. Upon some island in the ethereal heights I've lived for these last days. This mass of men Forces me down to earth. It is a bridge That, reconducting to my for...</td>\n",
       "      <td>1823.0</td>\n",
       "      <td>False</td>\n",
       "    </tr>\n",
       "  </tbody>\n",
       "</table>\n",
       "</div>"
      ],
      "text/plain": [
       "                                      title  \\\n",
       "0                             the europeans   \n",
       "1  afghanistan and the anglorussian dispute   \n",
       "2                           the piccolomini   \n",
       "\n",
       "                                                                                                                                                                                                                                                                                                                                                                                                                                                                                                                                                                                                                                                                                                                                                                                                                                                                                                                                                                                                                                                                                                                                                                                                                                                                                                                                                                                                                                                                                                                                                       passage  \\\n",
       "0    Gertrude sat down again on that day, and she sat down on several other days. Felix, while he plied his brush, told her a great many stories, and she listened with charmed avidity. Her eyes rested upon his lips; she was very serious; sometimes, from her air of wondering gravity, he thought she was displeased. But Felix never believed for more than a single moment in any displeasure of his own producing. This would have been fatuity if the optimism it expressed had not been much more a hope than a prejudice. It is beside the matter to say that he had a good conscience; for the best conscience is a sort of self-reproach, and this young man's brilliantly healthy nature spent itself in objective good intentions which were ignorant of any test save exactness in hitting their mark. He told Gertrude how he had walked over France and Italy with a painter's knapsack on his back, paying his way often by knocking off a flattering portrait of his host or hostess. He told her how he had played the violin in a little band of musicians--not of high celebrity--who traveled through foreign lands giving provincial concerts. He told her also how he had been a momentary ornament of a troupe of strolling actors, engaged in the arduous task of interpreting Shakespeare to French and German, Polish and Hungarian audiences.  While this periodical recital was going on, Gertrude lived in a fantastic world; she seemed to herself to be reading a romance that came out in daily numbers. She had known ...   \n",
       "1  general, but there would be the reception that any     Christian foe would almost certainly meet at the hands of a     warlike and powerful people, who can unite with all the cohesion     of religious fanaticism, backed up by something like military     organization and a perfect acquaintance with the strategical     conditions of their country. Most probably there would be no     serious local opposition to the occupation by Russia of a line     extending from Balkh eastwards through Khulm and Kunduz to     Faizabad and Sarhadd, all of which places can be reached without     great difficulty from the Oxus, and are connected by excellent     lateral road communications. But the occupation of such a line     could have but one possible object, which would be to conceal     the actual line of further advance. Each of these places may be     said to dominate a pass to India over the Hindoo Kush. Opposite     Sarhadd is the Baroghil, leading either to Kashmir or to Mastuj     and the Kunar valley. Faizabad commands the Nuksa Pass. Khulm     looks southwards to Ghozi and the Parwan Pass into Kohistan,     while from Balkh two main routes diverge, one to Bamian and     Kabul, the other to Maimana and Herat.      It would be a great mistake to suppose that this short list     disposes of all the practicable passes over the Hindoo Kush. The     range is a singularly well-defined one throughout its vast     length; but it is not by any means a range of startling peaks     and magn...   \n",
       "2  ared not but be silent. And those brilliants, That like a crown of stars enwreathed your brows, They scared me too! O wherefore, wherefore should be At the first meeting spread as 'twere the ban Of excommunication round you,--wherefore Dress up the angel as for sacrifice. And cast upon the light and joyous heart The mournful burden of his station? Fitly May love dare woo for love; but such a splendor Might none but monarchs venture to approach.  THEKLA. Hush! not a word more of this mummery; You see how soon the burden is thrown off.             [To the COUNTESS. He is not in spirits. Wherefore is he not? 'Tis you, aunt, that have made him all so gloomy! He had quite another nature on the journey-- So calm, so bright, so joyous eloquent.             [To MAX. It was my wish to see you always so, And never otherwise!  MAX.            You find yourself In your great father's arms, beloved lady! All in a new world, which does homage to you, And which, were't only by its novelty, Delights your eye.  THEKLA.           Yes; I confess to you That many things delight me here: this camp, This motley stage of warriors, which renews So manifold the image of my fancy, And binds to life, binds to reality, What hitherto had but been present to me As a sweet dream!  MAX.           Alas! not so to me. It makes a dream of my reality. Upon some island in the ethereal heights I've lived for these last days. This mass of men Forces me down to earth. It is a bridge That, reconducting to my for...   \n",
       "\n",
       "     year   test  \n",
       "0  1878.0  False  \n",
       "1  1838.0  False  \n",
       "2  1823.0  False  "
      ]
     },
     "execution_count": 44,
     "metadata": {},
     "output_type": "execute_result"
    }
   ],
   "source": [
    "from sklearn.utils import shuffle\n",
    "\n",
    "dfPas = dfPas.copy()\n",
    "dfPas = dfPas.drop(columns=[\"index\"])\n",
    "dfPas = shuffle(dfPas, random_state=1)\n",
    "dfPas = dfPas.reset_index(drop=True)\n",
    "dfPas.head(3)"
   ]
  },
  {
   "cell_type": "code",
   "execution_count": 45,
   "id": "b033c20a",
   "metadata": {
    "collapsed": false,
    "jupyter": {
     "outputs_hidden": false
    },
    "pycharm": {
     "name": "#%%\n"
    }
   },
   "outputs": [
    {
     "name": "stdout",
     "output_type": "stream",
     "text": [
      "Training count:  22775\n",
      "Testing count:  6555\n",
      "Number of books in commong between the sets:  0\n",
      "                      title  \\\n",
      "0  on the origin of species   \n",
      "1                  ferragus   \n",
      "\n",
      "                                                                                                                                                                                                                                                                                                                                                                                                                                                                                                                                                                                                                                                                                                                                                                                                                                                                                                                                                                                                                                                                                                                                                                                                                                                                                                                                                                                                                                                                                                                                                       passage  \\\n",
      "0   inquiry respecting the causes of the phenomena of organic nature resolves itself into two problems--the first being the question of the origination of living or organic beings; and the second being the totally distinct problem of the modification and perpetuation of organic beings when they have already come into existence. The first question Mr. Darwin does not touch; he does not deal with it at all; but he says--given the origin of organic matter--supposing its creation to have already taken place, my object is to show in consequence of what laws and what demonstrable properties of organic matter, and of its environments, such states of organic nature as those with which we are acquainted must have come about. This, you will observe, is a perfectly legitimate proposition; every person has a right to define the limits of the inquiry which he sets before himself; and yet it is a most singular thing that in all the multifarious, and, not unfrequently, ignorant attacks which have been made upon the 'Origin of Species', there is nothing which has been more speciously criticised than this particular limitation. If people have nothing else to urge against the book, they say--\"Well, after all, you see, Mr. Darwin's explanation of the 'Origin of Species' is not good for much, because, in the long run, he admits that he does not know how organic matter began to exist. But if you admit any special creation for the first particle of organic matter you may just as well admit it for...   \n",
      "1  obtaining either the vengeance or the knowledge which would punish or reward such cares, such efforts, such wiles. But he had not yet reached that impatience which wrings our very entrails and makes us sweat; he roamed in hope, believing that Madame Jules would only refrain for a few days from revisiting the place where she knew she had been detected. He devoted the first days therefore, to a careful study of the secrets of the street. A novice at such work, he dared not question either the porter or the shoemaker of the house to which Madame Jules had gone; but he managed to obtain a post of observation in a house directly opposite to the mysterious apartment. He studied the ground, trying to reconcile the conflicting demands of prudence, impatience, love, and secrecy.  Early in the month of March, while busy with plans by which he expected to strike a decisive blow, he left his post about four in the afternoon, after one of those patient watches from which he had learned nothing. He was on his way to his own house whither a matter relating to his military service called him, when he was overtaken in the rue Coquilliere by one of those heavy showers which instantly flood the gutters, while each drop of rain rings loudly in the puddles of the roadway. A pedestrian under these circumstances is forced to stop short and take refuge in a shop or cafe if he is rich enough to pay for the forced hospitality, or, if in poorer circumstances, under a _porte-cochere_, that haven of ...   \n",
      "\n",
      "     year  \n",
      "0  1831.0  \n",
      "1  1820.0  \n"
     ]
    }
   ],
   "source": [
    "dfTest = dfPas[dfPas[\"test\"] == True].drop(columns=[\"test\"]).reset_index(drop=True)\n",
    "dfTrain = dfPas[dfPas[\"test\"] == False].drop(columns=[\"test\"]).reset_index(drop=True)\n",
    "print(\"Training count: \", dfTrain.shape[0])\n",
    "print(\"Testing count: \", dfTest.shape[0])\n",
    "\n",
    "test_books = set(dfTest[\"title\"].values.tolist())\n",
    "train_books = set(dfTrain[\"title\"].values.tolist())\n",
    "books_in_common = [book for book in test_books if book in train_books]\n",
    "\n",
    "print(\"Number of books in commong between the sets: \", len(books_in_common))\n",
    "\n",
    "# dfTest.to_csv('testing.csv', index=False)\n",
    "# dfTrain.to_csv('training.csv', index=False)\n",
    "\n",
    "print(dfTest.head(2))"
   ]
  },
  {
   "cell_type": "markdown",
   "id": "dcf71f3d",
   "metadata": {
    "pycharm": {
     "name": "#%% md\n"
    }
   },
   "source": [
    "All of the years are evenly distributed, except for three years that had very sparse data - less than four books each. 1781 only has 77 instances, 1791 only 87 instances, and 1784 has 166. This may yield less exact results for these years. In general, pre-1825 results will be worse than post-1825 as the amount of books available is relatively low for these years, meaning that there is less variety of examples of each year's text."
   ]
  },
  {
   "cell_type": "markdown",
   "id": "260c3b84",
   "metadata": {
    "pycharm": {
     "name": "#%% md\n"
    }
   },
   "source": [
    "We have manually separate the training and testing data in the methods above rather than using a library. This is because we do not want to train the model to fit a specific book, but rather a specific year, therefor we must ensure that each book is either exclusively in the testing set or in the training set. The split comes to roughly 27% testing and 63% training"
   ]
  },
  {
   "cell_type": "code",
   "execution_count": 46,
   "id": "442dfec1",
   "metadata": {
    "collapsed": false,
    "jupyter": {
     "outputs_hidden": false
    },
    "pycharm": {
     "name": "#%%\n"
    }
   },
   "outputs": [],
   "source": [
    "from keras.preprocessing.text import Tokenizer\n",
    "from keras.preprocessing.sequence import pad_sequences\n",
    "from sklearn import preprocessing\n",
    "\n",
    "MAX_WORDS = 10000\n",
    "\n",
    "x_test = dfTest[\"passage\"]\n",
    "y_test = dfTest[\"year\"]\n",
    "\n",
    "x_train = dfTrain[\"passage\"]\n",
    "y_train = dfTrain[\"year\"]\n",
    "\n",
    "# Create a tokenizer to feed to the embedding layer\n",
    "tokenizer = Tokenizer(num_words=MAX_WORDS)\n",
    "tokenizer.fit_on_texts(x_train)\n",
    "\n",
    "x_train = tokenizer.texts_to_sequences(x_train)\n",
    "x_test = tokenizer.texts_to_sequences(x_test)"
   ]
  },
  {
   "cell_type": "code",
   "execution_count": 47,
   "id": "eb6ff88b",
   "metadata": {
    "collapsed": false,
    "jupyter": {
     "outputs_hidden": false
    },
    "pycharm": {
     "name": "#%%\n"
    }
   },
   "outputs": [
    {
     "name": "stdout",
     "output_type": "stream",
     "text": [
      "415648\n",
      "Found 400001 word vectors\n"
     ]
    }
   ],
   "source": [
    "import numpy as np\n",
    "\n",
    "MAX_LENGTH = 700\n",
    "\n",
    "vocab_size = len(tokenizer.word_index)\n",
    "print(vocab_size)\n",
    "\n",
    "# Padding to make all batches has equal length\n",
    "x_train = pad_sequences(x_train, padding=\"post\", maxlen=MAX_LENGTH)\n",
    "x_test = pad_sequences(x_test, padding=\"post\", maxlen=MAX_LENGTH)\n",
    "\n",
    "\n",
    "# Get word to vev from pretrained glove embeddings\n",
    "embeddings_dictionary = dict()\n",
    "glove_file = open(\"glove.6B/glove.6B.100d.txt\", encoding=\"utf8\")\n",
    "\n",
    "for line in glove_file:\n",
    "    values = line.split()\n",
    "    word = values[0]\n",
    "    vector_dimensions = np.asarray(values[1:], dtype=\"float32\")\n",
    "    embeddings_dictionary[word] = vector_dimensions\n",
    "\n",
    "glove_file.close()\n",
    "print(f\"Found {len(embeddings_dictionary)} word vectors\")"
   ]
  },
  {
   "cell_type": "code",
   "execution_count": 48,
   "id": "78cfe85c",
   "metadata": {
    "collapsed": false,
    "jupyter": {
     "outputs_hidden": false
    },
    "pycharm": {
     "name": "#%%\n"
    }
   },
   "outputs": [],
   "source": [
    "# If glove embeddings has an embedding for word in our tokenizer, add it to embedding matrix\n",
    "EMBEDDING_DIMENSION = 100\n",
    "embedding_matrix = np.zeros((vocab_size, EMBEDDING_DIMENSION))\n",
    "for word, index in tokenizer.word_index.items():\n",
    "    embedding_vector = embeddings_dictionary.get(word)\n",
    "    if embedding_vector is not None:\n",
    "        embedding_matrix[index - 1] = embedding_vector"
   ]
  },
  {
   "cell_type": "code",
   "execution_count": 49,
   "id": "c513b5e2",
   "metadata": {
    "collapsed": false,
    "jupyter": {
     "outputs_hidden": false
    },
    "pycharm": {
     "name": "#%%\n"
    }
   },
   "outputs": [
    {
     "name": "stdout",
     "output_type": "stream",
     "text": [
      "Model: \"sequential\"\n",
      "_________________________________________________________________\n",
      " Layer (type)                Output Shape              Param #   \n",
      "=================================================================\n",
      " embedding (Embedding)       (None, 700, 100)          41564800  \n",
      "                                                                 \n",
      " flatten (Flatten)           (None, 70000)             0         \n",
      "                                                                 \n",
      " dense (Dense)               (None, 512)               35840512  \n",
      "                                                                 \n",
      " dense_1 (Dense)             (None, 256)               131328    \n",
      "                                                                 \n",
      " dense_2 (Dense)             (None, 1)                 257       \n",
      "                                                                 \n",
      "=================================================================\n",
      "Total params: 77,536,897\n",
      "Trainable params: 35,972,097\n",
      "Non-trainable params: 41,564,800\n",
      "_________________________________________________________________\n",
      "Epoch 1/10\n"
     ]
    },
    {
     "name": "stderr",
     "output_type": "stream",
     "text": [
      "2022-08-27 18:29:54.293194: W tensorflow/core/platform/profile_utils/cpu_utils.cc:128] Failed to get CPU frequency: 0 Hz\n"
     ]
    },
    {
     "name": "stdout",
     "output_type": "stream",
     "text": [
      "178/178 [==============================] - 22s 123ms/step - loss: 2443744000.0000 - val_loss: 4818.6509\n",
      "Epoch 2/10\n",
      "178/178 [==============================] - 20s 113ms/step - loss: 995882.1875 - val_loss: 4913.7075\n",
      "Epoch 3/10\n",
      "178/178 [==============================] - 21s 116ms/step - loss: 1896.6239 - val_loss: 1862.4919\n",
      "Epoch 4/10\n",
      "178/178 [==============================] - 22s 123ms/step - loss: 1787.5537 - val_loss: 1872.8790\n",
      "Epoch 5/10\n",
      "178/178 [==============================] - 21s 117ms/step - loss: 1786.7002 - val_loss: 1876.1746\n",
      "Epoch 6/10\n",
      "178/178 [==============================] - 21s 121ms/step - loss: 1787.2330 - val_loss: 1874.7585\n",
      "Epoch 7/10\n",
      "178/178 [==============================] - 22s 121ms/step - loss: 1787.9222 - val_loss: 1866.5321\n",
      "Epoch 8/10\n",
      "178/178 [==============================] - 22s 121ms/step - loss: 1787.8312 - val_loss: 1873.1965\n",
      "Epoch 9/10\n",
      "178/178 [==============================] - 22s 123ms/step - loss: 1788.9674 - val_loss: 1888.8071\n",
      "Epoch 10/10\n",
      "178/178 [==============================] - 22s 121ms/step - loss: 1789.3367 - val_loss: 1895.0646\n"
     ]
    }
   ],
   "source": [
    "\"\"\"\n",
    "Try as regression\n",
    "\"\"\"\n",
    "from keras.models import Sequential\n",
    "from keras.layers import Embedding, Flatten, Dense\n",
    "from tensorflow.keras.optimizers import Adam\n",
    "\n",
    "model = Sequential()\n",
    "model.add(Embedding(vocab_size, EMBEDDING_DIMENSION, input_length=MAX_LENGTH))\n",
    "model.add(Flatten())\n",
    "model.add(Dense(512, activation=\"relu\"))\n",
    "model.add(Dense(256, activation=\"relu\"))\n",
    "model.add(Dense(1))\n",
    "model.layers[0].set_weights([embedding_matrix])\n",
    "model.layers[0].trainable = False\n",
    "model.summary()\n",
    "\n",
    "model.compile(optimizer=Adam(learning_rate=0.1), loss=\"mean_squared_error\")\n",
    "\n",
    "history = model.fit(\n",
    "    x_train, y_train, epochs=10, batch_size=128, validation_data=(x_test, y_test)\n",
    ")"
   ]
  },
  {
   "cell_type": "code",
   "execution_count": 51,
   "id": "7d60d789",
   "metadata": {
    "collapsed": false,
    "jupyter": {
     "outputs_hidden": false
    },
    "pycharm": {
     "name": "#%%\n"
    }
   },
   "outputs": [
    {
     "data": {
      "image/png": "[encoded data removed]",
      "text/plain": [
       "<Figure size 576x432 with 1 Axes>"
      ]
     },
     "metadata": {
      "needs_background": "light"
     },
     "output_type": "display_data"
    }
   ],
   "source": [
    "import tensorflow\n",
    "\n",
    "def get_predictions(current_model: tensorflow.keras.Model, test_x):\n",
    "    test_array = np.array(test_x)\n",
    "    return current_model.predict(test_array)\n",
    "\n",
    "\n",
    "def create_scatterplot(test_x, test_y, current_model: tensorflow.keras.Model, title: str, category=False):\n",
    "    predictions = get_predictions(current_model, test_x)\n",
    "    plt.rcParams[\"figure.figsize\"] = [8, 6]\n",
    "    plt.axis([1775, 1922, 1725, 2000])\n",
    "    plt.scatter(x=test_y, y=predictions, color=\"blue\", alpha=0.2, s=10)\n",
    "    plt.scatter(x=test_y, y=test_y, color=\"pink\", alpha=0.2, s=10)\n",
    "    plt.title(title)\n",
    "    plt.xlabel(\"Actual Years\")\n",
    "    plt.ylabel(\"Predicted Years\")\n",
    "    plt.show()\n",
    "\n",
    "\n",
    "create_scatterplot(x_test, y_test, model, \"Model 1: three dense layers, MSE\")"
   ]
  },
  {
   "cell_type": "code",
   "execution_count": 52,
   "id": "cbe7ebdd",
   "metadata": {
    "collapsed": false,
    "jupyter": {
     "outputs_hidden": false
    },
    "pycharm": {
     "name": "#%%\n"
    }
   },
   "outputs": [
    {
     "name": "stdout",
     "output_type": "stream",
     "text": [
      "Mean squared error:  43.53233764909073\n",
      "Mean absolute error:  6.139058309150538\n"
     ]
    }
   ],
   "source": [
    "from sklearn import metrics\n",
    "\n",
    "\n",
    "def get_MSE_and_MAE(current_model: tensorflow.keras.Model, test_x):\n",
    "    predictions = get_predictions(current_model, test_x)\n",
    "    print(\n",
    "        \"Mean squared error: \", np.sqrt(metrics.mean_squared_error(y_test, predictions))\n",
    "    )\n",
    "    print(\n",
    "        \"Mean absolute error: \",\n",
    "        np.sqrt(metrics.mean_absolute_error(y_test, predictions)),\n",
    "    )\n",
    "\n",
    "\n",
    "get_MSE_and_MAE(model, x_test)"
   ]
  },
  {
   "cell_type": "code",
   "execution_count": 54,
   "id": "93d61acd",
   "metadata": {
    "collapsed": false,
    "jupyter": {
     "outputs_hidden": false
    },
    "pycharm": {
     "name": "#%%\n"
    }
   },
   "outputs": [
    {
     "name": "stdout",
     "output_type": "stream",
     "text": [
      "205/205 [==============================] - 5s 24ms/step - loss: 1895.0652\n",
      "Test Score: 1895.065185546875\n"
     ]
    },
    {
     "data": {
      "image/png": "[encoded data removed]",
      "text/plain": [
       "<Figure size 576x432 with 1 Axes>"
      ]
     },
     "metadata": {
      "needs_background": "light"
     },
     "output_type": "display_data"
    }
   ],
   "source": [
    "def plot_loss(score: float):\n",
    "    print(\"Test Score:\", score)\n",
    "\n",
    "    plt.plot(history.history[\"loss\"])\n",
    "    plt.plot(history.history[\"val_loss\"])\n",
    "\n",
    "    plt.title(\"model loss\")\n",
    "    plt.ylabel(\"loss\")\n",
    "    plt.xlabel(\"epoch\")\n",
    "    plt.legend([\"train\", \"test\"], loc=\"upper left\")\n",
    "    plt.show()\n",
    "\n",
    "\n",
    "plot_loss(model.evaluate(x_test, y_test, verbose=1))"
   ]
  },
  {
   "cell_type": "code",
   "execution_count": 55,
   "id": "0207d948",
   "metadata": {
    "collapsed": false,
    "jupyter": {
     "outputs_hidden": false
    },
    "pycharm": {
     "name": "#%%\n"
    }
   },
   "outputs": [
    {
     "name": "stdout",
     "output_type": "stream",
     "text": [
      "Model: \"sequential_1\"\n",
      "_________________________________________________________________\n",
      " Layer (type)                Output Shape              Param #   \n",
      "=================================================================\n",
      " embedding_1 (Embedding)     (None, 700, 100)          41564800  \n",
      "                                                                 \n",
      " flatten_1 (Flatten)         (None, 70000)             0         \n",
      "                                                                 \n",
      " dense_3 (Dense)             (None, 512)               35840512  \n",
      "                                                                 \n",
      " dense_4 (Dense)             (None, 256)               131328    \n",
      "                                                                 \n",
      " dense_5 (Dense)             (None, 1)                 257       \n",
      "                                                                 \n",
      "=================================================================\n",
      "Total params: 77,536,897\n",
      "Trainable params: 35,972,097\n",
      "Non-trainable params: 41,564,800\n",
      "_________________________________________________________________\n",
      "Epoch 1/10\n",
      "178/178 [==============================] - 22s 122ms/step - loss: 4804.8564 - val_loss: 63.1136\n",
      "Epoch 2/10\n",
      "178/178 [==============================] - 22s 126ms/step - loss: 80.7908 - val_loss: 76.4306\n",
      "Epoch 3/10\n",
      "178/178 [==============================] - 23s 130ms/step - loss: 55.8140 - val_loss: 89.0500\n",
      "Epoch 4/10\n",
      "178/178 [==============================] - 23s 131ms/step - loss: 64.8669 - val_loss: 69.7977\n",
      "Epoch 5/10\n",
      "178/178 [==============================] - 22s 124ms/step - loss: 45.6241 - val_loss: 56.4369\n",
      "Epoch 6/10\n",
      "178/178 [==============================] - 22s 123ms/step - loss: 62.2826 - val_loss: 207.8993\n",
      "Epoch 7/10\n",
      "178/178 [==============================] - 22s 122ms/step - loss: 65.8150 - val_loss: 60.6462\n",
      "Epoch 8/10\n",
      "178/178 [==============================] - 21s 118ms/step - loss: 45.6181 - val_loss: 75.1717\n",
      "Epoch 9/10\n",
      "178/178 [==============================] - 23s 127ms/step - loss: 56.8875 - val_loss: 200.2345\n",
      "Epoch 10/10\n",
      "178/178 [==============================] - 22s 124ms/step - loss: 72.5513 - val_loss: 68.3461\n"
     ]
    }
   ],
   "source": [
    "\"\"\"\n",
    "Try same params but with mean absolute error loss function\n",
    "\"\"\"\n",
    "model2 = Sequential()\n",
    "model2.add(Embedding(vocab_size, EMBEDDING_DIMENSION, input_length=MAX_LENGTH))\n",
    "model2.add(Flatten())\n",
    "model2.add(Dense(512, activation=\"relu\"))\n",
    "model2.add(Dense(256, activation=\"relu\"))\n",
    "model2.add(Dense(1))\n",
    "model2.layers[0].set_weights([embedding_matrix])\n",
    "model2.layers[0].trainable = False\n",
    "model2.summary()\n",
    "\n",
    "model2.compile(optimizer=Adam(learning_rate=0.1), loss=\"mean_absolute_error\")\n",
    "\n",
    "history = model2.fit(\n",
    "    x_train, y_train, epochs=10, batch_size=128, validation_data=(x_test, y_test)\n",
    ")"
   ]
  },
  {
   "cell_type": "code",
   "execution_count": 56,
   "id": "c119fcc7",
   "metadata": {
    "collapsed": false,
    "jupyter": {
     "outputs_hidden": false
    },
    "pycharm": {
     "name": "#%%\n"
    }
   },
   "outputs": [
    {
     "data": {
      "image/png": "[encoded data removed]",
      "text/plain": [
       "<Figure size 576x432 with 1 Axes>"
      ]
     },
     "metadata": {
      "needs_background": "light"
     },
     "output_type": "display_data"
    }
   ],
   "source": [
    "create_scatterplot(x_test, y_test, model2, \"Model 2: three dense layers, MAE\")"
   ]
  },
  {
   "cell_type": "code",
   "execution_count": 57,
   "id": "03a50dca",
   "metadata": {
    "collapsed": false,
    "jupyter": {
     "outputs_hidden": false
    },
    "pycharm": {
     "name": "#%%\n"
    }
   },
   "outputs": [
    {
     "name": "stdout",
     "output_type": "stream",
     "text": [
      "Mean squared error:  84.64383845663014\n",
      "Mean absolute error:  8.267167371964451\n"
     ]
    }
   ],
   "source": [
    "get_MSE_and_MAE(model2, x_test)"
   ]
  },
  {
   "cell_type": "code",
   "execution_count": 58,
   "id": "c5ed7b58",
   "metadata": {
    "collapsed": false,
    "jupyter": {
     "outputs_hidden": false
    },
    "pycharm": {
     "name": "#%%\n"
    }
   },
   "outputs": [
    {
     "name": "stdout",
     "output_type": "stream",
     "text": [
      "Model: \"sequential_2\"\n",
      "_________________________________________________________________\n",
      " Layer (type)                Output Shape              Param #   \n",
      "=================================================================\n",
      " embedding_2 (Embedding)     (None, 700, 100)          41564800  \n",
      "                                                                 \n",
      " simple_rnn (SimpleRNN)      (None, 32)                4256      \n",
      "                                                                 \n",
      " dense_6 (Dense)             (None, 512)               16896     \n",
      "                                                                 \n",
      " dense_7 (Dense)             (None, 256)               131328    \n",
      "                                                                 \n",
      " dense_8 (Dense)             (None, 1)                 257       \n",
      "                                                                 \n",
      "=================================================================\n",
      "Total params: 41,717,537\n",
      "Trainable params: 152,737\n",
      "Non-trainable params: 41,564,800\n",
      "_________________________________________________________________\n",
      "Epoch 1/12\n",
      "356/356 [==============================] - 26s 71ms/step - loss: 291.2949 - val_loss: 37.5846\n",
      "Epoch 2/12\n",
      "356/356 [==============================] - 25s 70ms/step - loss: 37.4397 - val_loss: 39.0329\n",
      "Epoch 3/12\n",
      "356/356 [==============================] - 25s 70ms/step - loss: 37.2112 - val_loss: 39.8496\n",
      "Epoch 4/12\n",
      "356/356 [==============================] - 25s 70ms/step - loss: 37.3967 - val_loss: 37.8419\n",
      "Epoch 5/12\n",
      "356/356 [==============================] - 25s 70ms/step - loss: 37.6985 - val_loss: 38.7558\n",
      "Epoch 6/12\n",
      "356/356 [==============================] - 25s 71ms/step - loss: 37.2887 - val_loss: 37.2652\n",
      "Epoch 7/12\n",
      "356/356 [==============================] - 25s 71ms/step - loss: 37.8660 - val_loss: 37.5659\n",
      "Epoch 8/12\n",
      "356/356 [==============================] - 25s 71ms/step - loss: 37.6982 - val_loss: 39.1526\n",
      "Epoch 9/12\n",
      "356/356 [==============================] - 25s 69ms/step - loss: 37.0018 - val_loss: 38.5298\n",
      "Epoch 10/12\n",
      "356/356 [==============================] - 25s 69ms/step - loss: 37.4518 - val_loss: 40.3180\n",
      "Epoch 11/12\n",
      "356/356 [==============================] - 24s 69ms/step - loss: 37.1684 - val_loss: 42.8725\n",
      "Epoch 12/12\n",
      "356/356 [==============================] - 25s 69ms/step - loss: 37.3074 - val_loss: 40.8916\n"
     ]
    }
   ],
   "source": [
    "from keras.layers import SimpleRNN\n",
    "\n",
    "\"\"\"\n",
    "Using SIMPLE RNN\n",
    "\"\"\"\n",
    "model3 = Sequential()\n",
    "model3.add(\n",
    "    Embedding(\n",
    "        vocab_size,\n",
    "        EMBEDDING_DIMENSION,\n",
    "        weights=[embedding_matrix],\n",
    "        input_length=MAX_LENGTH,\n",
    "    )\n",
    ")\n",
    "model3.add(SimpleRNN(units=32))\n",
    "model3.add(Dense(512, activation=\"relu\"))\n",
    "model3.add(Dense(256, activation=\"relu\"))\n",
    "model3.add(Dense(1))\n",
    "model3.layers[0].trainable = False\n",
    "model3.summary()\n",
    "model3.compile(loss=\"mean_absolute_error\", optimizer=\"adam\")\n",
    "\n",
    "history = model3.fit(\n",
    "    x_train, y_train, epochs=12, batch_size=64, validation_data=(x_test, y_test)\n",
    ")"
   ]
  },
  {
   "cell_type": "code",
   "execution_count": 60,
   "id": "d2da7f1c",
   "metadata": {
    "collapsed": false,
    "jupyter": {
     "outputs_hidden": false
    },
    "pycharm": {
     "name": "#%%\n"
    }
   },
   "outputs": [
    {
     "data": {
      "image/png": "[encoded data removed]",
      "text/plain": [
       "<Figure size 576x432 with 1 Axes>"
      ]
     },
     "metadata": {
      "needs_background": "light"
     },
     "output_type": "display_data"
    }
   ],
   "source": [
    "create_scatterplot(x_test, y_test, model3, \"Model 3: Simple RNN\")"
   ]
  },
  {
   "cell_type": "code",
   "execution_count": 61,
   "id": "207b6805",
   "metadata": {
    "collapsed": false,
    "jupyter": {
     "outputs_hidden": false
    },
    "pycharm": {
     "name": "#%%\n"
    }
   },
   "outputs": [
    {
     "name": "stdout",
     "output_type": "stream",
     "text": [
      "Mean squared error:  48.36783058182553\n",
      "Mean absolute error:  6.39465102189202\n"
     ]
    }
   ],
   "source": [
    "get_MSE_and_MAE(model3, x_test)"
   ]
  },
  {
   "cell_type": "code",
   "execution_count": 62,
   "id": "81af3822",
   "metadata": {
    "collapsed": false,
    "jupyter": {
     "outputs_hidden": false
    },
    "pycharm": {
     "name": "#%%\n"
    }
   },
   "outputs": [
    {
     "name": "stdout",
     "output_type": "stream",
     "text": [
      "205/205 [==============================] - 3s 14ms/step - loss: 40.8916\n",
      "Test Score: 40.891563415527344\n"
     ]
    },
    {
     "data": {
      "image/png": "[encoded data removed]",
      "text/plain": [
       "<Figure size 576x432 with 1 Axes>"
      ]
     },
     "metadata": {
      "needs_background": "light"
     },
     "output_type": "display_data"
    }
   ],
   "source": [
    "plot_loss(model3.evaluate(x_test, y_test, verbose=1))"
   ]
  },
  {
   "cell_type": "code",
   "execution_count": 63,
   "id": "7217070d",
   "metadata": {
    "collapsed": false,
    "jupyter": {
     "outputs_hidden": false
    },
    "pycharm": {
     "name": "#%%\n"
    }
   },
   "outputs": [
    {
     "name": "stdout",
     "output_type": "stream",
     "text": [
      "Model: \"sequential_3\"\n",
      "_________________________________________________________________\n",
      " Layer (type)                Output Shape              Param #   \n",
      "=================================================================\n",
      " embedding_3 (Embedding)     (None, 700, 100)          41564800  \n",
      "                                                                 \n",
      " lstm (LSTM)                 (None, 32)                17024     \n",
      "                                                                 \n",
      " dense_9 (Dense)             (None, 512)               16896     \n",
      "                                                                 \n",
      " dense_10 (Dense)            (None, 256)               131328    \n",
      "                                                                 \n",
      " dense_11 (Dense)            (None, 128)               32896     \n",
      "                                                                 \n",
      " dense_12 (Dense)            (None, 1)                 129       \n",
      "                                                                 \n",
      "=================================================================\n",
      "Total params: 41,763,073\n",
      "Trainable params: 198,273\n",
      "Non-trainable params: 41,564,800\n",
      "_________________________________________________________________\n",
      "Epoch 1/10\n",
      "89/89 [==============================] - 41s 455ms/step - loss: 833.7314 - val_loss: 52.4348\n",
      "Epoch 2/10\n",
      "89/89 [==============================] - 40s 446ms/step - loss: 43.9242 - val_loss: 40.1726\n",
      "Epoch 3/10\n",
      "89/89 [==============================] - 40s 448ms/step - loss: 38.5938 - val_loss: 39.0942\n",
      "Epoch 4/10\n",
      "89/89 [==============================] - 39s 443ms/step - loss: 37.8677 - val_loss: 39.1812\n",
      "Epoch 5/10\n",
      "89/89 [==============================] - 39s 440ms/step - loss: 37.2770 - val_loss: 42.5281\n",
      "Epoch 6/10\n",
      "89/89 [==============================] - 40s 449ms/step - loss: 37.8009 - val_loss: 37.3347\n",
      "Epoch 7/10\n",
      "89/89 [==============================] - 41s 456ms/step - loss: 37.2869 - val_loss: 38.6524\n",
      "Epoch 8/10\n",
      "89/89 [==============================] - 42s 468ms/step - loss: 37.6410 - val_loss: 37.9420\n",
      "Epoch 9/10\n",
      "89/89 [==============================] - 39s 440ms/step - loss: 37.2252 - val_loss: 37.7721\n",
      "Epoch 10/10\n",
      "89/89 [==============================] - 39s 443ms/step - loss: 37.6244 - val_loss: 37.3724\n"
     ]
    }
   ],
   "source": [
    "from keras.layers import LSTM\n",
    "\n",
    "\"\"\"\n",
    "Using LSTM - (reads from both sides)\n",
    "\"\"\"\n",
    "model4 = Sequential()\n",
    "model4.add(\n",
    "    Embedding(\n",
    "        vocab_size,\n",
    "        EMBEDDING_DIMENSION,\n",
    "        weights=[embedding_matrix],\n",
    "        input_length=MAX_LENGTH,\n",
    "    )\n",
    ")\n",
    "model4.add(LSTM(units=32))\n",
    "model4.add(Dense(512, activation=\"relu\"))\n",
    "model4.add(Dense(256, activation=\"relu\"))\n",
    "model4.add(Dense(128, activation=\"relu\"))\n",
    "model4.add(Dense(1))\n",
    "model4.layers[0].trainable = False\n",
    "model4.summary()\n",
    "model4.compile(loss=\"mean_absolute_error\", optimizer=\"adam\")\n",
    "\n",
    "history = model4.fit(\n",
    "    x_train, y_train, epochs=10, batch_size=256, validation_data=(x_test, y_test)\n",
    ")"
   ]
  },
  {
   "cell_type": "code",
   "execution_count": 64,
   "id": "c50ffcd9",
   "metadata": {
    "collapsed": false,
    "jupyter": {
     "outputs_hidden": false
    },
    "pycharm": {
     "name": "#%%\n"
    }
   },
   "outputs": [
    {
     "data": {
      "image/png": "[encoded data removed]",
      "text/plain": [
       "<Figure size 576x432 with 1 Axes>"
      ]
     },
     "metadata": {
      "needs_background": "light"
     },
     "output_type": "display_data"
    }
   ],
   "source": [
    "create_scatterplot(x_test, y_test, model4, \"Model 4\")"
   ]
  },
  {
   "cell_type": "code",
   "execution_count": 65,
   "id": "4e7d6be0",
   "metadata": {
    "collapsed": false,
    "jupyter": {
     "outputs_hidden": false
    },
    "pycharm": {
     "name": "#%%\n"
    }
   },
   "outputs": [
    {
     "data": {
      "text/html": [
       "<div>\n",
       "<style scoped>\n",
       "    .dataframe tbody tr th:only-of-type {\n",
       "        vertical-align: middle;\n",
       "    }\n",
       "\n",
       "    .dataframe tbody tr th {\n",
       "        vertical-align: top;\n",
       "    }\n",
       "\n",
       "    .dataframe thead th {\n",
       "        text-align: right;\n",
       "    }\n",
       "</style>\n",
       "<table border=\"1\" class=\"dataframe\">\n",
       "  <thead>\n",
       "    <tr style=\"text-align: right;\">\n",
       "      <th></th>\n",
       "      <th>title</th>\n",
       "      <th>passage</th>\n",
       "      <th>year</th>\n",
       "      <th>era</th>\n",
       "    </tr>\n",
       "  </thead>\n",
       "  <tbody>\n",
       "    <tr>\n",
       "      <th>0</th>\n",
       "      <td>on the origin of species</td>\n",
       "      <td>inquiry respecting the causes of the phenomena of organic nature resolves itself into two problems--the first being the question of the origination of living or organic beings; and the second being the totally distinct problem of the modification and perpetuation of organic beings when they have already come into existence. The first question Mr. Darwin does not touch; he does not deal with it at all; but he says--given the origin of organic matter--supposing its creation to have already taken place, my object is to show in consequence of what laws and what demonstrable properties of organic matter, and of its environments, such states of organic nature as those with which we are acquainted must have come about. This, you will observe, is a perfectly legitimate proposition; every person has a right to define the limits of the inquiry which he sets before himself; and yet it is a most singular thing that in all the multifarious, and, not unfrequently, ignorant attacks which have been made upon the 'Origin of Species', there is nothing which has been more speciously criticised than this particular limitation. If people have nothing else to urge against the book, they say--\"Well, after all, you see, Mr. Darwin's explanation of the 'Origin of Species' is not good for much, because, in the long run, he admits that he does not know how organic matter began to exist. But if you admit any special creation for the first particle of organic matter you may just as well admit it for...</td>\n",
       "      <td>1831.0</td>\n",
       "      <td>2</td>\n",
       "    </tr>\n",
       "    <tr>\n",
       "      <th>1</th>\n",
       "      <td>ferragus</td>\n",
       "      <td>obtaining either the vengeance or the knowledge which would punish or reward such cares, such efforts, such wiles. But he had not yet reached that impatience which wrings our very entrails and makes us sweat; he roamed in hope, believing that Madame Jules would only refrain for a few days from revisiting the place where she knew she had been detected. He devoted the first days therefore, to a careful study of the secrets of the street. A novice at such work, he dared not question either the porter or the shoemaker of the house to which Madame Jules had gone; but he managed to obtain a post of observation in a house directly opposite to the mysterious apartment. He studied the ground, trying to reconcile the conflicting demands of prudence, impatience, love, and secrecy.  Early in the month of March, while busy with plans by which he expected to strike a decisive blow, he left his post about four in the afternoon, after one of those patient watches from which he had learned nothing. He was on his way to his own house whither a matter relating to his military service called him, when he was overtaken in the rue Coquilliere by one of those heavy showers which instantly flood the gutters, while each drop of rain rings loudly in the puddles of the roadway. A pedestrian under these circumstances is forced to stop short and take refuge in a shop or cafe if he is rich enough to pay for the forced hospitality, or, if in poorer circumstances, under a _porte-cochere_, that haven of ...</td>\n",
       "      <td>1820.0</td>\n",
       "      <td>2</td>\n",
       "    </tr>\n",
       "  </tbody>\n",
       "</table>\n",
       "</div>"
      ],
      "text/plain": [
       "                      title  \\\n",
       "0  on the origin of species   \n",
       "1                  ferragus   \n",
       "\n",
       "                                                                                                                                                                                                                                                                                                                                                                                                                                                                                                                                                                                                                                                                                                                                                                                                                                                                                                                                                                                                                                                                                                                                                                                                                                                                                                                                                                                                                                                                                                                                                       passage  \\\n",
       "0   inquiry respecting the causes of the phenomena of organic nature resolves itself into two problems--the first being the question of the origination of living or organic beings; and the second being the totally distinct problem of the modification and perpetuation of organic beings when they have already come into existence. The first question Mr. Darwin does not touch; he does not deal with it at all; but he says--given the origin of organic matter--supposing its creation to have already taken place, my object is to show in consequence of what laws and what demonstrable properties of organic matter, and of its environments, such states of organic nature as those with which we are acquainted must have come about. This, you will observe, is a perfectly legitimate proposition; every person has a right to define the limits of the inquiry which he sets before himself; and yet it is a most singular thing that in all the multifarious, and, not unfrequently, ignorant attacks which have been made upon the 'Origin of Species', there is nothing which has been more speciously criticised than this particular limitation. If people have nothing else to urge against the book, they say--\"Well, after all, you see, Mr. Darwin's explanation of the 'Origin of Species' is not good for much, because, in the long run, he admits that he does not know how organic matter began to exist. But if you admit any special creation for the first particle of organic matter you may just as well admit it for...   \n",
       "1  obtaining either the vengeance or the knowledge which would punish or reward such cares, such efforts, such wiles. But he had not yet reached that impatience which wrings our very entrails and makes us sweat; he roamed in hope, believing that Madame Jules would only refrain for a few days from revisiting the place where she knew she had been detected. He devoted the first days therefore, to a careful study of the secrets of the street. A novice at such work, he dared not question either the porter or the shoemaker of the house to which Madame Jules had gone; but he managed to obtain a post of observation in a house directly opposite to the mysterious apartment. He studied the ground, trying to reconcile the conflicting demands of prudence, impatience, love, and secrecy.  Early in the month of March, while busy with plans by which he expected to strike a decisive blow, he left his post about four in the afternoon, after one of those patient watches from which he had learned nothing. He was on his way to his own house whither a matter relating to his military service called him, when he was overtaken in the rue Coquilliere by one of those heavy showers which instantly flood the gutters, while each drop of rain rings loudly in the puddles of the roadway. A pedestrian under these circumstances is forced to stop short and take refuge in a shop or cafe if he is rich enough to pay for the forced hospitality, or, if in poorer circumstances, under a _porte-cochere_, that haven of ...   \n",
       "\n",
       "     year  era  \n",
       "0  1831.0    2  \n",
       "1  1820.0    2  "
      ]
     },
     "execution_count": 65,
     "metadata": {},
     "output_type": "execute_result"
    }
   ],
   "source": [
    "\"\"\"\n",
    "Separate data into eras\n",
    "\"\"\"\n",
    "\n",
    "def write_era(row):\n",
    "    if row[\"year\"] < 1820:\n",
    "        row[\"era\"] = 1\n",
    "    elif 1820 <= row[\"year\"] < 1870:\n",
    "        row[\"era\"] = 2\n",
    "    elif row[\"year\"] >= 1870:\n",
    "        row[\"era\"] = 3\n",
    "    return row\n",
    "\n",
    "\n",
    "dfTest2 = dfTest.copy()\n",
    "dfTrain2 = dfTrain.copy()\n",
    "dfTest2 = dfTest2.apply(write_era, axis=1)\n",
    "dfTrain2 = dfTrain2.apply(write_era, axis=1)\n",
    "\n",
    "dfTest2.head(2)"
   ]
  },
  {
   "cell_type": "code",
   "execution_count": 67,
   "id": "39437662",
   "metadata": {
    "collapsed": false,
    "jupyter": {
     "outputs_hidden": false
    },
    "pycharm": {
     "name": "#%%\n"
    }
   },
   "outputs": [
    {
     "data": {
      "text/plain": [
       "Text(0.5, 1.05, 'Distribution of books across published year groupings')"
      ]
     },
     "execution_count": 67,
     "metadata": {},
     "output_type": "execute_result"
    },
    {
     "data": {
      "image/png": "[encoded data removed]",
      "text/plain": [
       "<Figure size 576x432 with 2 Axes>"
      ]
     },
     "metadata": {
      "needs_background": "light"
     },
     "output_type": "display_data"
    }
   ],
   "source": [
    "dfTest2.hist()\n",
    "plt.suptitle(\n",
    "    \"Distribution of books across published year groupings\",\n",
    "    x=0.5,\n",
    "    y=1.05,\n",
    "    fontsize=\"x-large\",\n",
    ")"
   ]
  },
  {
   "cell_type": "code",
   "execution_count": 71,
   "id": "de230574",
   "metadata": {
    "collapsed": false,
    "jupyter": {
     "outputs_hidden": false
    },
    "pycharm": {
     "name": "#%%\n"
    }
   },
   "outputs": [],
   "source": [
    "\"\"\"\n",
    "Create test and train data for passages over eras\n",
    "\"\"\"\n",
    "x_test_era = dfTest2[\"passage\"]\n",
    "y_test_era = dfTest2[\"era\"]\n",
    "\n",
    "x_train_era = dfTrain2[\"passage\"]\n",
    "y_train_era = dfTrain2[\"era\"]\n",
    "\n",
    "# Get labels and make them suitable for training. [1,2,3] -> [0,1,2]\n",
    "label_encoder = preprocessing.LabelEncoder()\n",
    "y_test_era = label_encoder.fit_transform(y_test_era)\n",
    "y_train_era = label_encoder.fit_transform(y_train_era)\n",
    "\n",
    "# One hot encode the labels\n",
    "y_train_era = tensorflow.keras.utils.to_categorical(y_train_era)\n",
    "y_test_era = tensorflow.keras.utils.to_categorical(y_test_era)\n",
    "\n",
    "tokenizer = Tokenizer(num_words=MAX_WORDS)\n",
    "tokenizer.fit_on_texts(x_train_era)\n",
    "\n",
    "x_train_era = tokenizer.texts_to_sequences(x_train_era)\n",
    "x_test_era = tokenizer.texts_to_sequences(x_test_era)"
   ]
  },
  {
   "cell_type": "code",
   "execution_count": 72,
   "id": "69222d17",
   "metadata": {
    "collapsed": false,
    "jupyter": {
     "outputs_hidden": false
    },
    "pycharm": {
     "name": "#%%\n"
    }
   },
   "outputs": [
    {
     "name": "stdout",
     "output_type": "stream",
     "text": [
      "Found 400001 word vectors\n"
     ]
    }
   ],
   "source": [
    "import numpy as np\n",
    "\"\"\"\n",
    "Create glove embeddings\n",
    "\"\"\"\n",
    "vocab_size = len(tokenizer.word_index)\n",
    "\n",
    "x_train_era = pad_sequences(x_train_era, padding=\"post\", maxlen=MAX_LENGTH)\n",
    "x_test_era = pad_sequences(x_test_era, padding=\"post\", maxlen=MAX_LENGTH)\n",
    "\n",
    "embeddings_dictionary = dict()\n",
    "glove_file = open(\"glove.6B/glove.6B.100d.txt\", encoding=\"utf8\")\n",
    "\n",
    "for line in glove_file:\n",
    "    values = line.split()\n",
    "    word = values[0]\n",
    "    vector_dimensions = np.asarray(values[1:], dtype=\"float32\")\n",
    "    embeddings_dictionary[word] = vector_dimensions\n",
    "\n",
    "glove_file.close()\n",
    "print(f\"Found {len(embeddings_dictionary)} word vectors\")"
   ]
  },
  {
   "cell_type": "code",
   "execution_count": 73,
   "id": "72382cda",
   "metadata": {
    "collapsed": false,
    "jupyter": {
     "outputs_hidden": false
    },
    "pycharm": {
     "name": "#%%\n"
    }
   },
   "outputs": [],
   "source": [
    "EMBEDDING_DIMENSION = 100\n",
    "embedding_matrix = np.zeros((vocab_size, EMBEDDING_DIMENSION))\n",
    "for word, index in tokenizer.word_index.items():\n",
    "    embedding_vector = embeddings_dictionary.get(word)\n",
    "    if embedding_vector is not None:\n",
    "        embedding_matrix[index - 1] = embedding_vector"
   ]
  },
  {
   "cell_type": "code",
   "execution_count": 89,
   "id": "534b25a6",
   "metadata": {
    "collapsed": false,
    "jupyter": {
     "outputs_hidden": false
    },
    "pycharm": {
     "name": "#%%\n"
    }
   },
   "outputs": [
    {
     "name": "stdout",
     "output_type": "stream",
     "text": [
      "Model: \"sequential_11\"\n",
      "_________________________________________________________________\n",
      " Layer (type)                Output Shape              Param #   \n",
      "=================================================================\n",
      " embedding_11 (Embedding)    (None, 700, 100)          41564800  \n",
      "                                                                 \n",
      " lstm_12 (LSTM)              (None, 700, 128)          117248    \n",
      "                                                                 \n",
      " lstm_13 (LSTM)              (None, 32)                20608     \n",
      "                                                                 \n",
      " dense_22 (Dense)            (None, 3)                 99        \n",
      "                                                                 \n",
      "=================================================================\n",
      "Total params: 41,702,755\n",
      "Trainable params: 137,955\n",
      "Non-trainable params: 41,564,800\n",
      "_________________________________________________________________\n",
      "Epoch 1/7\n",
      "178/178 [==============================] - 235s 1s/step - loss: 1.0999 - acc: 0.3640 - val_loss: 1.1051 - val_acc: 0.3327\n",
      "Epoch 2/7\n",
      "178/178 [==============================] - 237s 1s/step - loss: 1.0925 - acc: 0.3653 - val_loss: 1.1030 - val_acc: 0.3327\n",
      "Epoch 3/7\n",
      "178/178 [==============================] - 233s 1s/step - loss: 1.0912 - acc: 0.3677 - val_loss: 1.1100 - val_acc: 0.3324\n",
      "Epoch 4/7\n",
      "178/178 [==============================] - 230s 1s/step - loss: 1.0906 - acc: 0.3768 - val_loss: 1.1093 - val_acc: 0.3332\n",
      "Epoch 5/7\n",
      "178/178 [==============================] - 231s 1s/step - loss: 1.0904 - acc: 0.3734 - val_loss: 1.1045 - val_acc: 0.3342\n",
      "Epoch 6/7\n",
      "178/178 [==============================] - 228s 1s/step - loss: 1.0892 - acc: 0.3827 - val_loss: 1.1124 - val_acc: 0.3379\n",
      "Epoch 7/7\n",
      "178/178 [==============================] - 225s 1s/step - loss: 1.0879 - acc: 0.3833 - val_loss: 1.1088 - val_acc: 0.3327\n"
     ]
    }
   ],
   "source": [
    "\"\"\"\n",
    "First try of classification model with LSTM\n",
    "\"\"\"\n",
    "\n",
    "model5 = Sequential()\n",
    "model5.add(\n",
    "    Embedding(\n",
    "        vocab_size,\n",
    "        EMBEDDING_DIMENSION,\n",
    "        weights=[embedding_matrix],\n",
    "        input_length=MAX_LENGTH,\n",
    "    )\n",
    ")\n",
    "model5.add(LSTM(128, return_sequences=True))\n",
    "model5.add(LSTM(32))\n",
    "model5.add(Dense(3, activation=\"softmax\"))\n",
    "model5.layers[0].trainable = False\n",
    "model5.summary()\n",
    "\n",
    "model5.compile(\n",
    "    optimizer=Adam(learning_rate=0.01), metrics=[\"acc\"], loss=\"categorical_crossentropy\"\n",
    ")\n",
    "\n",
    "history = model5.fit(\n",
    "    x_train_era,\n",
    "    y_train_era,\n",
    "    batch_size=128,\n",
    "    epochs=7,\n",
    "    verbose=1,\n",
    "    validation_data=(x_test_era, y_test_era),\n",
    ")"
   ]
  },
  {
   "cell_type": "code",
   "execution_count": 117,
   "id": "6eabaacb",
   "metadata": {
    "collapsed": false,
    "jupyter": {
     "outputs_hidden": false
    },
    "pycharm": {
     "name": "#%%\n"
    }
   },
   "outputs": [
    {
     "data": {
      "image/png": "[encoded data removed]",
      "text/plain": [
       "<Figure size 360x288 with 2 Axes>"
      ]
     },
     "metadata": {
      "needs_background": "light"
     },
     "output_type": "display_data"
    },
    {
     "name": "stdout",
     "output_type": "stream",
     "text": [
      "accuracy:  [0.18970315 0.17583408 0.63365429]\n",
      "early mid late\n"
     ]
    }
   ],
   "source": [
    "from sklearn.metrics import confusion_matrix\n",
    "import seaborn as sns\n",
    "\n",
    "def get_y_pred(current_model):\n",
    "    return current_model.predict(x_test_era)\n",
    "\n",
    "def plot_heatmap_and_calculate_accuracy(current_model, title):\n",
    "    confusion_matrix = get_confusion_matrix(current_model)\n",
    "    plot_heatmap(confusion_matrix, title)\n",
    "    get_accuracy(confusion_matrix)\n",
    "\n",
    "def plot_heatmap(confusion_matrix, title):\n",
    "    cm_df = pd.DataFrame(\n",
    "        confusion_matrix,\n",
    "        index=[\"early\", \"mid\", \"late\"],\n",
    "        columns=[\"early\", \"mid\", \"late\"],\n",
    "    )\n",
    "    \n",
    "    # Plotting the confusion matrix\n",
    "    plt.figure(figsize=(5, 4))\n",
    "    sns.heatmap(cm_df, fmt=\".2f\", annot=True)\n",
    "    plt.title(f'Confusion Matrix - {title}')\n",
    "    plt.ylabel(\"Actal Values\")\n",
    "    plt.xlabel(\"Predicted Values\")\n",
    "    plt.show()\n",
    "\n",
    "def get_confusion_matrix(current_model):\n",
    "    y_prediction = get_y_pred(current_model)\n",
    "    rounded_y = np.argmax(y_test_era, axis=1)\n",
    "    rounded_predictions = np.argmax(y_prediction, axis=1)\n",
    "\n",
    "    # Create the confusion matrix\n",
    "    return metrics.confusion_matrix(rounded_y, rounded_predictions)\n",
    "   \n",
    "def get_accuracy(confusion_matrix):\n",
    "    cm = confusion_matrix.astype('float') / confusion_matrix.sum(axis=1)[:, np.newaxis]\n",
    "    print('accuracy: ', cm.diagonal())\n",
    "    print('early', 'mid', 'late')\n",
    "\n",
    "plot_heatmap_and_calculate_accuracy(model5, '2 LSTM and dense')"
   ]
  },
  {
   "cell_type": "code",
   "execution_count": 91,
   "id": "22fb68ab",
   "metadata": {
    "collapsed": false,
    "jupyter": {
     "outputs_hidden": false
    },
    "pycharm": {
     "name": "#%%\n"
    }
   },
   "outputs": [
    {
     "name": "stdout",
     "output_type": "stream",
     "text": [
      "Model: \"sequential_12\"\n",
      "_________________________________________________________________\n",
      " Layer (type)                Output Shape              Param #   \n",
      "=================================================================\n",
      " embedding_12 (Embedding)    (None, 700, 100)          41564800  \n",
      "                                                                 \n",
      " lstm_14 (LSTM)              (None, 32)                17024     \n",
      "                                                                 \n",
      " dense_23 (Dense)            (None, 3)                 99        \n",
      "                                                                 \n",
      " flatten_6 (Flatten)         (None, 3)                 0         \n",
      "                                                                 \n",
      "=================================================================\n",
      "Total params: 41,581,923\n",
      "Trainable params: 17,123\n",
      "Non-trainable params: 41,564,800\n",
      "_________________________________________________________________\n",
      "Epoch 1/10\n",
      "712/712 [==============================] - 85s 118ms/step - loss: 1.0960 - acc: 0.3644 - val_loss: 1.1035 - val_acc: 0.3376\n",
      "Epoch 2/10\n",
      "712/712 [==============================] - 85s 119ms/step - loss: 1.0917 - acc: 0.3711 - val_loss: 1.1135 - val_acc: 0.3342\n",
      "Epoch 3/10\n",
      "712/712 [==============================] - 87s 122ms/step - loss: 1.0901 - acc: 0.3756 - val_loss: 1.1089 - val_acc: 0.3295\n",
      "Epoch 4/10\n",
      "712/712 [==============================] - 88s 123ms/step - loss: 1.0836 - acc: 0.3870 - val_loss: 1.1155 - val_acc: 0.3393\n",
      "Epoch 5/10\n",
      "712/712 [==============================] - 88s 123ms/step - loss: 1.0743 - acc: 0.3995 - val_loss: 1.1294 - val_acc: 0.3416\n",
      "Epoch 6/10\n",
      "712/712 [==============================] - 89s 124ms/step - loss: 1.0615 - acc: 0.4144 - val_loss: 1.1321 - val_acc: 0.3362\n",
      "Epoch 7/10\n",
      "712/712 [==============================] - 89s 124ms/step - loss: 1.0444 - acc: 0.4311 - val_loss: 1.1500 - val_acc: 0.3362\n",
      "Epoch 8/10\n",
      "712/712 [==============================] - 89s 125ms/step - loss: 1.0306 - acc: 0.4416 - val_loss: 1.1619 - val_acc: 0.3364\n",
      "Epoch 9/10\n",
      "712/712 [==============================] - 89s 125ms/step - loss: 1.0107 - acc: 0.4615 - val_loss: 1.2135 - val_acc: 0.3429\n",
      "Epoch 10/10\n",
      "712/712 [==============================] - 88s 123ms/step - loss: 0.9939 - acc: 0.4719 - val_loss: 1.2150 - val_acc: 0.3507\n"
     ]
    }
   ],
   "source": [
    "\"\"\"\n",
    "Model with only one LSTM layer and one dense layer\n",
    "\"\"\"\n",
    "model6 = Sequential()\n",
    "model6.add(\n",
    "    Embedding(\n",
    "        vocab_size,\n",
    "        EMBEDDING_DIMENSION,\n",
    "        weights=[embedding_matrix],\n",
    "        input_length=MAX_LENGTH,\n",
    "    )\n",
    ")\n",
    "model6.add(LSTM(32))\n",
    "model6.add(Dense(3, activation=\"softmax\"))\n",
    "model6.add(Flatten())\n",
    "model6.layers[0].trainable = False\n",
    "model6.summary()\n",
    "\n",
    "model6.compile(\n",
    "    optimizer=Adam(learning_rate=0.01), metrics=[\"acc\"], loss=\"categorical_crossentropy\"\n",
    ")\n",
    "\n",
    "history = model6.fit(\n",
    "    x_train_era,\n",
    "    y_train_era,\n",
    "    batch_size=32,\n",
    "    epochs=10,\n",
    "    verbose=1,\n",
    "    validation_data=(x_test_era, y_test_era),\n",
    ")"
   ]
  },
  {
   "cell_type": "code",
   "execution_count": 118,
   "id": "063adceb",
   "metadata": {
    "collapsed": false,
    "jupyter": {
     "outputs_hidden": false
    },
    "pycharm": {
     "name": "#%%\n"
    }
   },
   "outputs": [
    {
     "data": {
      "image/png": "[encoded data removed]",
      "text/plain": [
       "<Figure size 360x288 with 2 Axes>"
      ]
     },
     "metadata": {
      "needs_background": "light"
     },
     "output_type": "display_data"
    },
    {
     "name": "stdout",
     "output_type": "stream",
     "text": [
      "accuracy:  [0.25185529 0.22227232 0.57909216]\n",
      "early mid late\n"
     ]
    }
   ],
   "source": [
    "plot_heatmap_and_calculate_accuracy(model6, 'LSTM(32) and one dense')"
   ]
  },
  {
   "cell_type": "code",
   "execution_count": 97,
   "id": "5a4e07e7-8b56-45b4-92ba-5e8f11c8a5a1",
   "metadata": {},
   "outputs": [
    {
     "name": "stdout",
     "output_type": "stream",
     "text": [
      "Model: \"sequential_15\"\n",
      "_________________________________________________________________\n",
      " Layer (type)                Output Shape              Param #   \n",
      "=================================================================\n",
      " embedding_15 (Embedding)    (None, 700, 100)          41564800  \n",
      "                                                                 \n",
      " lstm_17 (LSTM)              (None, 256)               365568    \n",
      "                                                                 \n",
      " dense_26 (Dense)            (None, 3)                 771       \n",
      "                                                                 \n",
      " flatten_9 (Flatten)         (None, 3)                 0         \n",
      "                                                                 \n",
      "=================================================================\n",
      "Total params: 41,931,139\n",
      "Trainable params: 366,339\n",
      "Non-trainable params: 41,564,800\n",
      "_________________________________________________________________\n",
      "Epoch 1/10\n",
      "89/89 [==============================] - 239s 3s/step - loss: 1.1612 - acc: 0.3617 - val_loss: 1.1122 - val_acc: 0.3324\n",
      "Epoch 2/10\n",
      "89/89 [==============================] - 248s 3s/step - loss: 1.0936 - acc: 0.3680 - val_loss: 1.1073 - val_acc: 0.3317\n",
      "Epoch 3/10\n",
      "89/89 [==============================] - 246s 3s/step - loss: 1.0887 - acc: 0.3793 - val_loss: 1.1086 - val_acc: 0.3381\n",
      "Epoch 4/10\n",
      "89/89 [==============================] - 250s 3s/step - loss: 1.0849 - acc: 0.3831 - val_loss: 1.1058 - val_acc: 0.3318\n",
      "Epoch 5/10\n",
      "89/89 [==============================] - 250s 3s/step - loss: 1.0803 - acc: 0.3890 - val_loss: 1.1203 - val_acc: 0.3324\n",
      "Epoch 6/10\n",
      "89/89 [==============================] - 252s 3s/step - loss: 1.0685 - acc: 0.4048 - val_loss: 1.1064 - val_acc: 0.3561\n",
      "Epoch 7/10\n",
      "89/89 [==============================] - 239s 3s/step - loss: 1.0468 - acc: 0.4296 - val_loss: 1.1431 - val_acc: 0.3472\n",
      "Epoch 8/10\n",
      "89/89 [==============================] - 249s 3s/step - loss: 1.0191 - acc: 0.4649 - val_loss: 1.1391 - val_acc: 0.3605\n",
      "Epoch 9/10\n",
      "89/89 [==============================] - 230s 3s/step - loss: 0.9676 - acc: 0.5084 - val_loss: 1.1551 - val_acc: 0.3902\n",
      "Epoch 10/10\n",
      "89/89 [==============================] - 230s 3s/step - loss: 0.9052 - acc: 0.5553 - val_loss: 1.2174 - val_acc: 0.3718\n"
     ]
    }
   ],
   "source": [
    "model7 = Sequential()\n",
    "model7.add(\n",
    "    Embedding(\n",
    "        vocab_size,\n",
    "        EMBEDDING_DIMENSION,\n",
    "        weights=[embedding_matrix],\n",
    "        input_length=MAX_LENGTH,\n",
    "    )\n",
    ")\n",
    "model7.add(LSTM(256))\n",
    "model7.add(Dense(3, activation=\"softmax\"))\n",
    "model7.add(Flatten())\n",
    "model7.layers[0].trainable = False\n",
    "model7.summary()\n",
    "\n",
    "model7.compile(\n",
    "    optimizer=Adam(learning_rate=0.01), metrics=[\"acc\"], loss=\"categorical_crossentropy\"\n",
    ")\n",
    "\n",
    "history = model7.fit(\n",
    "    x_train_era,\n",
    "    y_train_era,\n",
    "    batch_size=256,\n",
    "    epochs=10,\n",
    "    verbose=1,\n",
    "    validation_data=(x_test_era, y_test_era),\n",
    ")"
   ]
  },
  {
   "cell_type": "code",
   "execution_count": 119,
   "id": "c414ef98-2d4c-4c75-a006-b364df581b74",
   "metadata": {},
   "outputs": [
    {
     "data": {
      "image/png": "[encoded data removed]",
      "text/plain": [
       "<Figure size 360x288 with 2 Axes>"
      ]
     },
     "metadata": {
      "needs_background": "light"
     },
     "output_type": "display_data"
    },
    {
     "name": "stdout",
     "output_type": "stream",
     "text": [
      "accuracy:  [0.36595547 0.3606853  0.38881247]\n",
      "early mid late\n"
     ]
    }
   ],
   "source": [
    "plot_heatmap_and_calculate_accuracy(model7, 'LSTM(256) and dense')"
   ]
  },
  {
   "cell_type": "code",
   "execution_count": null,
   "id": "8e8d976e-6c89-456d-883a-95cab39af762",
   "metadata": {},
   "outputs": [],
   "source": []
  }
 ],
 "metadata": {
  "kernelspec": {
   "display_name": "Python 3 (ipykernel)",
   "language": "python",
   "name": "python3"
  },
  "language_info": {
   "codemirror_mode": {
    "name": "ipython",
    "version": 3
   },
   "file_extension": ".py",
   "mimetype": "text/x-python",
   "name": "python",
   "nbconvert_exporter": "python",
   "pygments_lexer": "ipython3",
   "version": "3.8.11"
  },
  "vscode": {
   "interpreter": {
    "hash": "e5824597f04209458feeb41e127aa2b38ff74e63199a7484b2fb5c4c7e06bd3f"
   }
  }
 },
 "nbformat": 4,
 "nbformat_minor": 5
}
